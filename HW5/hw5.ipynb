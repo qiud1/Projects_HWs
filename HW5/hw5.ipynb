{
 "cells": [
  {
   "cell_type": "markdown",
   "id": "31ff766f-f37f-430a-9c22-83d32caf3620",
   "metadata": {},
   "source": [
    "### HW 5: CNNs, AEs, GAN"
   ]
  },
  {
   "cell_type": "code",
   "execution_count": 1,
   "id": "fab3e2e9-bff6-4d74-99fa-3683ad123ace",
   "metadata": {},
   "outputs": [],
   "source": [
    "import glob\n",
    "import os\n",
    "import torch\n",
    "import cv2\n",
    "import torch.nn as nn\n",
    "import torch.nn.functional as F\n",
    "import torch.optim as optim\n",
    "import torch.utils.data as du\n",
    "import numpy as np\n",
    "import torchvision\n",
    "from torchvision import datasets, transforms\n",
    "from torch.utils.data import Dataset, random_split\n",
    "import pandas as pd\n",
    "import matplotlib.pyplot as plt\n",
    "from tqdm import tqdm\n",
    "from sklearn.model_selection import train_test_split"
   ]
  },
  {
   "cell_type": "markdown",
   "id": "8aa1eb66-08b1-4686-8d38-e8a987a89944",
   "metadata": {},
   "source": [
    "#### Task 1 Part 1\n",
    "The dataset being used is the pistachio image dataset located at https://www.kaggle.com/datasets/muratkokludataset/pistachio-image-dataset. The goal is to classify the given pistachio images as being either Kirmizi or Siirt pistachios."
   ]
  },
  {
   "cell_type": "markdown",
   "id": "e1abdd02-489c-4f75-8f7c-f1d4ea14a9d4",
   "metadata": {},
   "source": [
    "Read in Images as greyscale and normalized."
   ]
  },
  {
   "cell_type": "code",
   "execution_count": 2,
   "id": "27016952-5349-4171-a8ae-1d269eeaa21f",
   "metadata": {
    "scrolled": true
   },
   "outputs": [],
   "source": [
    "os.chdir(\"../../PIML/HW5/kirmizi\")"
   ]
  },
  {
   "cell_type": "code",
   "execution_count": 3,
   "id": "9a27fdd1-9222-4368-a5c7-45f02b2d8d87",
   "metadata": {},
   "outputs": [
    {
     "name": "stdout",
     "output_type": "stream",
     "text": [
      "(1232, 64, 64, 3)\n"
     ]
    }
   ],
   "source": [
    "kirmizi_names = [file for file in glob.glob(\"*.jpg\")]\n",
    "kirmizi_images  = np.array([cv2.resize(cv2.imread(name), (64, 64))/255 for name in kirmizi_names])\n",
    "print(kirmizi_images.shape)"
   ]
  },
  {
   "cell_type": "code",
   "execution_count": 4,
   "id": "0a85afef-3f9d-4140-b8fa-671748a57c0e",
   "metadata": {},
   "outputs": [],
   "source": [
    "os.chdir(\"../siirt\")"
   ]
  },
  {
   "cell_type": "code",
   "execution_count": 5,
   "id": "74204769-00ce-4c48-b709-e6e71d43a1c0",
   "metadata": {},
   "outputs": [
    {
     "name": "stdout",
     "output_type": "stream",
     "text": [
      "(916, 64, 64, 3)\n"
     ]
    }
   ],
   "source": [
    "siirt_names = [file for file in glob.glob(\"*jpg\")]\n",
    "siirt_images = np.array([cv2.resize(cv2.imread(name), (64, 64))/255 for name in siirt_names])\n",
    "print(siirt_images.shape)"
   ]
  },
  {
   "cell_type": "markdown",
   "id": "0ecd25be-8fec-41e2-aece-05ec8e0aa6aa",
   "metadata": {},
   "source": [
    "Preprocess and view the images."
   ]
  },
  {
   "cell_type": "code",
   "execution_count": 6,
   "id": "c6cc6b47-9df4-4ed9-9ad0-ae97c6283b00",
   "metadata": {},
   "outputs": [
    {
     "data": {
      "text/plain": [
       "<matplotlib.image.AxesImage at 0x18c139c5d90>"
      ]
     },
     "execution_count": 6,
     "metadata": {},
     "output_type": "execute_result"
    },
    {
     "data": {
      "image/png": "[encoded data removed]",
      "text/plain": [
       "<Figure size 640x480 with 1 Axes>"
      ]
     },
     "metadata": {},
     "output_type": "display_data"
    }
   ],
   "source": [
    "plt.imshow(kirmizi_images[0], cmap = \"gray\")"
   ]
  },
  {
   "cell_type": "code",
   "execution_count": 7,
   "id": "6b7a0532-724b-4668-8a36-e92c2a6869f1",
   "metadata": {},
   "outputs": [
    {
     "data": {
      "text/plain": [
       "<matplotlib.image.AxesImage at 0x18c15c0bb80>"
      ]
     },
     "execution_count": 7,
     "metadata": {},
     "output_type": "execute_result"
    },
    {
     "data": {
      "image/png": "[encoded data removed]",
      "text/plain": [
       "<Figure size 640x480 with 1 Axes>"
      ]
     },
     "metadata": {},
     "output_type": "display_data"
    }
   ],
   "source": [
    "plt.imshow(siirt_images[0], cmap = \"gray\" )"
   ]
  },
  {
   "cell_type": "code",
   "execution_count": 8,
   "id": "f26fbed5-4fef-4fda-b694-476ff8b30463",
   "metadata": {},
   "outputs": [
    {
     "name": "stdout",
     "output_type": "stream",
     "text": [
      "(2148, 64, 64, 3) (2148,)\n"
     ]
    }
   ],
   "source": [
    "# Generate Data and Labels\n",
    "p_img = np.vstack((kirmizi_images, siirt_images))\n",
    "labels = np.zeros(p_img.shape[0])\n",
    "labels[:kirmizi_images.shape[0]] = 1\n",
    "print(p_img.shape, labels.shape)"
   ]
  },
  {
   "cell_type": "markdown",
   "id": "cdc5d800-a815-43a3-9332-3a08503118e5",
   "metadata": {},
   "source": [
    "Initialize the Dataloader"
   ]
  },
  {
   "cell_type": "code",
   "execution_count": 9,
   "id": "b73d11da-fac4-4bd6-9b82-49cbacae9a9e",
   "metadata": {},
   "outputs": [],
   "source": [
    "class PistachioData(du.Dataset):\n",
    "    \"\"\"\n",
    "    Represents the pistachio image dataset and\n",
    "    passes images by batch during model training.\n",
    "    \"\"\"\n",
    "    def __init__(self, p_img, labels):\n",
    "        super(PistachioData, self).__init__()\n",
    "        self.images = p_img\n",
    "        self.labels = labels\n",
    "    \n",
    "    def __len__(self):\n",
    "        return self.labels.shape[0]\n",
    "        \n",
    "    def __getitem__(self, idx):\n",
    "        context = torch.tensor(self.images[idx])\n",
    "        labels = torch.tensor(self.labels[idx])\n",
    "        \n",
    "        return context, labels"
   ]
  },
  {
   "cell_type": "markdown",
   "id": "dc8ff73f-5cad-4ac3-822b-98aeb8bcbb81",
   "metadata": {},
   "source": [
    "Create a Convolutional Model"
   ]
  },
  {
   "cell_type": "markdown",
   "id": "437fcebe-ccdd-45bb-bc6e-03875cb3350a",
   "metadata": {},
   "source": [
    "I decided to use a simple 3 layer CNN model to better demonstrate the effects of data augmentation on training accuracy."
   ]
  },
  {
   "cell_type": "code",
   "execution_count": 10,
   "id": "2a77c8d3-1f24-4bda-9285-3fd402683e62",
   "metadata": {},
   "outputs": [],
   "source": [
    "class CNN(nn.Module):\n",
    "    def __init__(self, in_channel, out_channel, kernel_size, hidden_dim, out_dim):\n",
    "        super(CNN, self).__init__()\n",
    "        \n",
    "        # initialize CNN network\n",
    "        self.CNN_R = nn.Sequential(\n",
    "            nn.Conv2d(in_channel, out_channel, kernel_size, bias = True),\n",
    "            nn.MaxPool2d(2, 2),\n",
    "            nn.Conv2d(out_channel, 2 * out_channel, kernel_size, bias = True),\n",
    "        )\n",
    "        \n",
    "        # initialize dense layers\n",
    "        self.flatten = nn.Flatten()\n",
    "        \n",
    "        self.fc1 = nn.Linear(5832, hidden_dim)\n",
    "        self.fc2 = nn.Linear(hidden_dim, out_dim)\n",
    "        self.dropout = nn.Dropout()\n",
    "        \n",
    "    def forward(self, x):\n",
    "        \n",
    "        # pass through CNN\n",
    "        x = self.CNN_R(x)\n",
    "        \n",
    "        # flatten and pass through mlp\n",
    "        x = self.flatten(x)\n",
    "        x = self.fc1(x)\n",
    "        x = F.relu(x)\n",
    "        x = self.dropout(x)\n",
    "        x = self.fc2(x)\n",
    "        \n",
    "        return x"
   ]
  },
  {
   "cell_type": "markdown",
   "id": "c12f91c9-d7dd-4841-b413-277fe13f6daa",
   "metadata": {},
   "source": [
    "Initialize training parameters"
   ]
  },
  {
   "cell_type": "code",
   "execution_count": 11,
   "id": "2e9f72ff-2e99-456e-a9aa-5f08070c2bad",
   "metadata": {},
   "outputs": [
    {
     "name": "stdout",
     "output_type": "stream",
     "text": [
      "using cpu\n"
     ]
    }
   ],
   "source": [
    "device = f'cuda:0' if torch.cuda.is_available() else 'cpu'\n",
    "print(f\"using {device}\")\n",
    "\n",
    "epochs = 10\n",
    "learning_rate = 0.07\n",
    "batch_size = 128\n",
    "in_channel = 3\n",
    "out_channel = 4\n",
    "kernel_size = 4\n",
    "hidden_dim = 128\n",
    "out_dim = 1"
   ]
  },
  {
   "cell_type": "markdown",
   "id": "e3bb1c6e-bfb9-4db0-aedd-208e0d1cd489",
   "metadata": {},
   "source": [
    "Initialize Model, Dataloader, and Optimizer"
   ]
  },
  {
   "cell_type": "code",
   "execution_count": 12,
   "id": "c56ddd7a-c6aa-419b-8d4a-1812ed004330",
   "metadata": {},
   "outputs": [
    {
     "name": "stdout",
     "output_type": "stream",
     "text": [
      "Train: (1611, 64, 64, 3), (1611,)\n",
      "Validation: (322, 64, 64, 3), (322,)\n",
      "Test: (215, 64, 64, 3), (215,)\n"
     ]
    }
   ],
   "source": [
    "#split data into train, test, and validation.\n",
    "train_data, train_other, label_data, label_other = train_test_split(p_img, labels, test_size = 0.25)\n",
    "valid_data, test_data, valid_label, test_label = train_test_split(train_other, label_other, test_size = 0.4)\n",
    "\n",
    "print(f\"Train: {train_data.shape}, {label_data.shape}\")\n",
    "print(f\"Validation: {valid_data.shape}, {valid_label.shape}\")\n",
    "print(f\"Test: {test_data.shape}, {test_label.shape}\")\n",
    "\n",
    "#initialize datasets\n",
    "train_data = PistachioData(train_data, label_data)\n",
    "valid_data = PistachioData(valid_data, valid_label)\n",
    "test_data = PistachioData(test_data, test_label)\n",
    "\n",
    "#set up the dataloader\n",
    "train_loader = du.DataLoader(dataset=train_data,\n",
    "                             batch_size=batch_size,\n",
    "                             shuffle=True)\n",
    "valid_loader = du.DataLoader(dataset=valid_data,\n",
    "                             batch_size=batch_size,\n",
    "                             shuffle=True)\n",
    "test_loader = du.DataLoader(dataset=test_data,\n",
    "                             batch_size=batch_size,\n",
    "                             shuffle=True)"
   ]
  },
  {
   "cell_type": "code",
   "execution_count": 13,
   "id": "aaa20d89-a320-4697-a72e-850703497653",
   "metadata": {},
   "outputs": [
    {
     "data": {
      "text/plain": [
       "CNN(\n",
       "  (CNN_R): Sequential(\n",
       "    (0): Conv2d(3, 4, kernel_size=(4, 4), stride=(1, 1))\n",
       "    (1): MaxPool2d(kernel_size=2, stride=2, padding=0, dilation=1, ceil_mode=False)\n",
       "    (2): Conv2d(4, 8, kernel_size=(4, 4), stride=(1, 1))\n",
       "  )\n",
       "  (flatten): Flatten(start_dim=1, end_dim=-1)\n",
       "  (fc1): Linear(in_features=5832, out_features=128, bias=True)\n",
       "  (fc2): Linear(in_features=128, out_features=1, bias=True)\n",
       "  (dropout): Dropout(p=0.5, inplace=False)\n",
       ")"
      ]
     },
     "execution_count": 13,
     "metadata": {},
     "output_type": "execute_result"
    }
   ],
   "source": [
    "#Initialize the Model\n",
    "net = CNN(in_channel, out_channel, kernel_size, hidden_dim, out_dim)\n",
    "optimizer = optim.Adam(net.parameters(), lr=learning_rate)\n",
    "\n",
    "#send the model to the device\n",
    "net = net.to(device)\n",
    "net.train()"
   ]
  },
  {
   "cell_type": "markdown",
   "id": "9feda0ef-7ede-4f5f-bf5b-4a07fb015829",
   "metadata": {},
   "source": [
    "Train the Model and Evaluate on Validation"
   ]
  },
  {
   "cell_type": "code",
   "execution_count": 14,
   "id": "05ff905f-4511-46ef-8f02-dbbaa5f6b9ab",
   "metadata": {},
   "outputs": [
    {
     "name": "stdout",
     "output_type": "stream",
     "text": [
      "Epoch: 1, Training Loss: 8.171589\n",
      "Epoch: 2, Training Loss: 1.410534\n",
      "Epoch: 3, Training Loss: 0.005548\n",
      "Epoch: 4, Training Loss: 0.005489\n",
      "Epoch: 5, Training Loss: 0.005486\n",
      "Epoch: 6, Training Loss: 0.005497\n",
      "Epoch: 7, Training Loss: 0.005482\n",
      "Epoch: 8, Training Loss: 0.005496\n",
      "Epoch: 9, Training Loss: 0.005496\n",
      "Epoch: 10, Training Loss: 0.005487\n"
     ]
    }
   ],
   "source": [
    "loss_func = nn.BCEWithLogitsLoss()\n",
    "\n",
    "for epoch in range(1, epochs+1):\n",
    "    sum_loss = 0.\n",
    "    for batch_idx, (contexts, targets) in enumerate(train_loader):\n",
    "        \n",
    "        optimizer.zero_grad()\n",
    "        contexts, targets = contexts.to(device), targets.to(device)\n",
    "        contexts = contexts.transpose(3,1).float()\n",
    "        \n",
    "        # run the forward pass\n",
    "        preds = net(contexts)\n",
    "        \n",
    "        # evaluate loss\n",
    "        loss = loss_func(preds.squeeze().float(), targets.float())\n",
    "        sum_loss += loss.item()\n",
    "        \n",
    "        # backpropagate\n",
    "        loss.backward()\n",
    "        optimizer.step()\n",
    "    \n",
    "    print(f\"Epoch: {epoch}, Training Loss: {sum_loss/len(train_data):.6f}\")"
   ]
  },
  {
   "cell_type": "markdown",
   "id": "2c448320-3fcf-4b9d-93f1-d9f16395012f",
   "metadata": {},
   "source": [
    "Evaluate on the validation set"
   ]
  },
  {
   "cell_type": "code",
   "execution_count": 15,
   "id": "f05af314-67fd-4d9b-aaa8-d54a335ef2c8",
   "metadata": {},
   "outputs": [
    {
     "name": "stdout",
     "output_type": "stream",
     "text": [
      "Validation Accuracy: 0.827907\n"
     ]
    }
   ],
   "source": [
    "# evaluate on the validation set\n",
    "net.eval()\n",
    "with torch.no_grad():\n",
    "    val_corr = 0\n",
    "    for (context, targets) in valid_loader:\n",
    "\n",
    "        context, targets = context.to(device), targets.to(device)\n",
    "        context = context.transpose(3,1).float()\n",
    "        targets = targets.unsqueeze(-1)\n",
    "\n",
    "        preds = net(context)\n",
    "\n",
    "        #evaluate correct predictions\n",
    "        preds = F.softmax(preds, dim = 1)\n",
    "        val_corr += torch.sum(preds == targets)\n",
    "        \n",
    "    print(f\"Validation Accuracy: {val_corr/len(test_data):.6f}\")"
   ]
  },
  {
   "cell_type": "markdown",
   "id": "0accfce2-0dfe-4761-9c8b-9d07dacd18cd",
   "metadata": {},
   "source": [
    "Evaluate the model on the test data"
   ]
  },
  {
   "cell_type": "code",
   "execution_count": 16,
   "id": "6b58e6e1-4cf9-423f-8664-7252aed5a31e",
   "metadata": {},
   "outputs": [
    {
     "name": "stdout",
     "output_type": "stream",
     "text": [
      "Testing Accuracy: 0.553488\n"
     ]
    }
   ],
   "source": [
    "with torch.no_grad():\n",
    "    num_corr = 0\n",
    "    for (context, targets) in test_loader:\n",
    "\n",
    "        context, targets = context.to(device), targets.to(device)\n",
    "        context = context.transpose(3,1).float()\n",
    "        targets = targets.unsqueeze(-1)\n",
    "\n",
    "        preds = net(context)\n",
    "\n",
    "        #evaluate correct predictions\n",
    "        preds = F.softmax(preds, dim = 1)\n",
    "        num_corr += torch.sum(preds == targets)\n",
    "        \n",
    "    print(f\"Testing Accuracy: {num_corr/len(test_data):.6f}\")"
   ]
  },
  {
   "cell_type": "markdown",
   "id": "0af0c0ce-b05c-4d33-a46a-4d3b8bf659fd",
   "metadata": {},
   "source": [
    "#### Final Evaluation:\n",
    "We see that the CNN learns well on the training set but does not generalize as well on the testing and validation set. This is likely due to the small scale of the CNN network being used."
   ]
  },
  {
   "cell_type": "markdown",
   "id": "ed7b3f91-18dd-4b97-bb2c-de729a4c90c8",
   "metadata": {},
   "source": [
    "### Part 2: Transfer Learning:\n",
    "For this part, we will transfer learn from MobileNet."
   ]
  },
  {
   "cell_type": "code",
   "execution_count": 17,
   "id": "3f915974-5e40-43a3-8680-16f3b87afa1b",
   "metadata": {},
   "outputs": [],
   "source": [
    "from torchvision.models import mobilenet_v2\n",
    "from torchvision.models import MobileNet_V2_Weights"
   ]
  },
  {
   "cell_type": "code",
   "execution_count": 18,
   "id": "29689299-24ca-4212-ba93-4d06161311da",
   "metadata": {},
   "outputs": [
    {
     "data": {
      "text/plain": [
       "MobileNetV2(\n",
       "  (features): Sequential(\n",
       "    (0): Conv2dNormActivation(\n",
       "      (0): Conv2d(3, 32, kernel_size=(3, 3), stride=(2, 2), padding=(1, 1), bias=False)\n",
       "      (1): BatchNorm2d(32, eps=1e-05, momentum=0.1, affine=True, track_running_stats=True)\n",
       "      (2): ReLU6(inplace=True)\n",
       "    )\n",
       "    (1): InvertedResidual(\n",
       "      (conv): Sequential(\n",
       "        (0): Conv2dNormActivation(\n",
       "          (0): Conv2d(32, 32, kernel_size=(3, 3), stride=(1, 1), padding=(1, 1), groups=32, bias=False)\n",
       "          (1): BatchNorm2d(32, eps=1e-05, momentum=0.1, affine=True, track_running_stats=True)\n",
       "          (2): ReLU6(inplace=True)\n",
       "        )\n",
       "        (1): Conv2d(32, 16, kernel_size=(1, 1), stride=(1, 1), bias=False)\n",
       "        (2): BatchNorm2d(16, eps=1e-05, momentum=0.1, affine=True, track_running_stats=True)\n",
       "      )\n",
       "    )\n",
       "    (2): InvertedResidual(\n",
       "      (conv): Sequential(\n",
       "        (0): Conv2dNormActivation(\n",
       "          (0): Conv2d(16, 96, kernel_size=(1, 1), stride=(1, 1), bias=False)\n",
       "          (1): BatchNorm2d(96, eps=1e-05, momentum=0.1, affine=True, track_running_stats=True)\n",
       "          (2): ReLU6(inplace=True)\n",
       "        )\n",
       "        (1): Conv2dNormActivation(\n",
       "          (0): Conv2d(96, 96, kernel_size=(3, 3), stride=(2, 2), padding=(1, 1), groups=96, bias=False)\n",
       "          (1): BatchNorm2d(96, eps=1e-05, momentum=0.1, affine=True, track_running_stats=True)\n",
       "          (2): ReLU6(inplace=True)\n",
       "        )\n",
       "        (2): Conv2d(96, 24, kernel_size=(1, 1), stride=(1, 1), bias=False)\n",
       "        (3): BatchNorm2d(24, eps=1e-05, momentum=0.1, affine=True, track_running_stats=True)\n",
       "      )\n",
       "    )\n",
       "    (3): InvertedResidual(\n",
       "      (conv): Sequential(\n",
       "        (0): Conv2dNormActivation(\n",
       "          (0): Conv2d(24, 144, kernel_size=(1, 1), stride=(1, 1), bias=False)\n",
       "          (1): BatchNorm2d(144, eps=1e-05, momentum=0.1, affine=True, track_running_stats=True)\n",
       "          (2): ReLU6(inplace=True)\n",
       "        )\n",
       "        (1): Conv2dNormActivation(\n",
       "          (0): Conv2d(144, 144, kernel_size=(3, 3), stride=(1, 1), padding=(1, 1), groups=144, bias=False)\n",
       "          (1): BatchNorm2d(144, eps=1e-05, momentum=0.1, affine=True, track_running_stats=True)\n",
       "          (2): ReLU6(inplace=True)\n",
       "        )\n",
       "        (2): Conv2d(144, 24, kernel_size=(1, 1), stride=(1, 1), bias=False)\n",
       "        (3): BatchNorm2d(24, eps=1e-05, momentum=0.1, affine=True, track_running_stats=True)\n",
       "      )\n",
       "    )\n",
       "    (4): InvertedResidual(\n",
       "      (conv): Sequential(\n",
       "        (0): Conv2dNormActivation(\n",
       "          (0): Conv2d(24, 144, kernel_size=(1, 1), stride=(1, 1), bias=False)\n",
       "          (1): BatchNorm2d(144, eps=1e-05, momentum=0.1, affine=True, track_running_stats=True)\n",
       "          (2): ReLU6(inplace=True)\n",
       "        )\n",
       "        (1): Conv2dNormActivation(\n",
       "          (0): Conv2d(144, 144, kernel_size=(3, 3), stride=(2, 2), padding=(1, 1), groups=144, bias=False)\n",
       "          (1): BatchNorm2d(144, eps=1e-05, momentum=0.1, affine=True, track_running_stats=True)\n",
       "          (2): ReLU6(inplace=True)\n",
       "        )\n",
       "        (2): Conv2d(144, 32, kernel_size=(1, 1), stride=(1, 1), bias=False)\n",
       "        (3): BatchNorm2d(32, eps=1e-05, momentum=0.1, affine=True, track_running_stats=True)\n",
       "      )\n",
       "    )\n",
       "    (5): InvertedResidual(\n",
       "      (conv): Sequential(\n",
       "        (0): Conv2dNormActivation(\n",
       "          (0): Conv2d(32, 192, kernel_size=(1, 1), stride=(1, 1), bias=False)\n",
       "          (1): BatchNorm2d(192, eps=1e-05, momentum=0.1, affine=True, track_running_stats=True)\n",
       "          (2): ReLU6(inplace=True)\n",
       "        )\n",
       "        (1): Conv2dNormActivation(\n",
       "          (0): Conv2d(192, 192, kernel_size=(3, 3), stride=(1, 1), padding=(1, 1), groups=192, bias=False)\n",
       "          (1): BatchNorm2d(192, eps=1e-05, momentum=0.1, affine=True, track_running_stats=True)\n",
       "          (2): ReLU6(inplace=True)\n",
       "        )\n",
       "        (2): Conv2d(192, 32, kernel_size=(1, 1), stride=(1, 1), bias=False)\n",
       "        (3): BatchNorm2d(32, eps=1e-05, momentum=0.1, affine=True, track_running_stats=True)\n",
       "      )\n",
       "    )\n",
       "    (6): InvertedResidual(\n",
       "      (conv): Sequential(\n",
       "        (0): Conv2dNormActivation(\n",
       "          (0): Conv2d(32, 192, kernel_size=(1, 1), stride=(1, 1), bias=False)\n",
       "          (1): BatchNorm2d(192, eps=1e-05, momentum=0.1, affine=True, track_running_stats=True)\n",
       "          (2): ReLU6(inplace=True)\n",
       "        )\n",
       "        (1): Conv2dNormActivation(\n",
       "          (0): Conv2d(192, 192, kernel_size=(3, 3), stride=(1, 1), padding=(1, 1), groups=192, bias=False)\n",
       "          (1): BatchNorm2d(192, eps=1e-05, momentum=0.1, affine=True, track_running_stats=True)\n",
       "          (2): ReLU6(inplace=True)\n",
       "        )\n",
       "        (2): Conv2d(192, 32, kernel_size=(1, 1), stride=(1, 1), bias=False)\n",
       "        (3): BatchNorm2d(32, eps=1e-05, momentum=0.1, affine=True, track_running_stats=True)\n",
       "      )\n",
       "    )\n",
       "    (7): InvertedResidual(\n",
       "      (conv): Sequential(\n",
       "        (0): Conv2dNormActivation(\n",
       "          (0): Conv2d(32, 192, kernel_size=(1, 1), stride=(1, 1), bias=False)\n",
       "          (1): BatchNorm2d(192, eps=1e-05, momentum=0.1, affine=True, track_running_stats=True)\n",
       "          (2): ReLU6(inplace=True)\n",
       "        )\n",
       "        (1): Conv2dNormActivation(\n",
       "          (0): Conv2d(192, 192, kernel_size=(3, 3), stride=(2, 2), padding=(1, 1), groups=192, bias=False)\n",
       "          (1): BatchNorm2d(192, eps=1e-05, momentum=0.1, affine=True, track_running_stats=True)\n",
       "          (2): ReLU6(inplace=True)\n",
       "        )\n",
       "        (2): Conv2d(192, 64, kernel_size=(1, 1), stride=(1, 1), bias=False)\n",
       "        (3): BatchNorm2d(64, eps=1e-05, momentum=0.1, affine=True, track_running_stats=True)\n",
       "      )\n",
       "    )\n",
       "    (8): InvertedResidual(\n",
       "      (conv): Sequential(\n",
       "        (0): Conv2dNormActivation(\n",
       "          (0): Conv2d(64, 384, kernel_size=(1, 1), stride=(1, 1), bias=False)\n",
       "          (1): BatchNorm2d(384, eps=1e-05, momentum=0.1, affine=True, track_running_stats=True)\n",
       "          (2): ReLU6(inplace=True)\n",
       "        )\n",
       "        (1): Conv2dNormActivation(\n",
       "          (0): Conv2d(384, 384, kernel_size=(3, 3), stride=(1, 1), padding=(1, 1), groups=384, bias=False)\n",
       "          (1): BatchNorm2d(384, eps=1e-05, momentum=0.1, affine=True, track_running_stats=True)\n",
       "          (2): ReLU6(inplace=True)\n",
       "        )\n",
       "        (2): Conv2d(384, 64, kernel_size=(1, 1), stride=(1, 1), bias=False)\n",
       "        (3): BatchNorm2d(64, eps=1e-05, momentum=0.1, affine=True, track_running_stats=True)\n",
       "      )\n",
       "    )\n",
       "    (9): InvertedResidual(\n",
       "      (conv): Sequential(\n",
       "        (0): Conv2dNormActivation(\n",
       "          (0): Conv2d(64, 384, kernel_size=(1, 1), stride=(1, 1), bias=False)\n",
       "          (1): BatchNorm2d(384, eps=1e-05, momentum=0.1, affine=True, track_running_stats=True)\n",
       "          (2): ReLU6(inplace=True)\n",
       "        )\n",
       "        (1): Conv2dNormActivation(\n",
       "          (0): Conv2d(384, 384, kernel_size=(3, 3), stride=(1, 1), padding=(1, 1), groups=384, bias=False)\n",
       "          (1): BatchNorm2d(384, eps=1e-05, momentum=0.1, affine=True, track_running_stats=True)\n",
       "          (2): ReLU6(inplace=True)\n",
       "        )\n",
       "        (2): Conv2d(384, 64, kernel_size=(1, 1), stride=(1, 1), bias=False)\n",
       "        (3): BatchNorm2d(64, eps=1e-05, momentum=0.1, affine=True, track_running_stats=True)\n",
       "      )\n",
       "    )\n",
       "    (10): InvertedResidual(\n",
       "      (conv): Sequential(\n",
       "        (0): Conv2dNormActivation(\n",
       "          (0): Conv2d(64, 384, kernel_size=(1, 1), stride=(1, 1), bias=False)\n",
       "          (1): BatchNorm2d(384, eps=1e-05, momentum=0.1, affine=True, track_running_stats=True)\n",
       "          (2): ReLU6(inplace=True)\n",
       "        )\n",
       "        (1): Conv2dNormActivation(\n",
       "          (0): Conv2d(384, 384, kernel_size=(3, 3), stride=(1, 1), padding=(1, 1), groups=384, bias=False)\n",
       "          (1): BatchNorm2d(384, eps=1e-05, momentum=0.1, affine=True, track_running_stats=True)\n",
       "          (2): ReLU6(inplace=True)\n",
       "        )\n",
       "        (2): Conv2d(384, 64, kernel_size=(1, 1), stride=(1, 1), bias=False)\n",
       "        (3): BatchNorm2d(64, eps=1e-05, momentum=0.1, affine=True, track_running_stats=True)\n",
       "      )\n",
       "    )\n",
       "    (11): InvertedResidual(\n",
       "      (conv): Sequential(\n",
       "        (0): Conv2dNormActivation(\n",
       "          (0): Conv2d(64, 384, kernel_size=(1, 1), stride=(1, 1), bias=False)\n",
       "          (1): BatchNorm2d(384, eps=1e-05, momentum=0.1, affine=True, track_running_stats=True)\n",
       "          (2): ReLU6(inplace=True)\n",
       "        )\n",
       "        (1): Conv2dNormActivation(\n",
       "          (0): Conv2d(384, 384, kernel_size=(3, 3), stride=(1, 1), padding=(1, 1), groups=384, bias=False)\n",
       "          (1): BatchNorm2d(384, eps=1e-05, momentum=0.1, affine=True, track_running_stats=True)\n",
       "          (2): ReLU6(inplace=True)\n",
       "        )\n",
       "        (2): Conv2d(384, 96, kernel_size=(1, 1), stride=(1, 1), bias=False)\n",
       "        (3): BatchNorm2d(96, eps=1e-05, momentum=0.1, affine=True, track_running_stats=True)\n",
       "      )\n",
       "    )\n",
       "    (12): InvertedResidual(\n",
       "      (conv): Sequential(\n",
       "        (0): Conv2dNormActivation(\n",
       "          (0): Conv2d(96, 576, kernel_size=(1, 1), stride=(1, 1), bias=False)\n",
       "          (1): BatchNorm2d(576, eps=1e-05, momentum=0.1, affine=True, track_running_stats=True)\n",
       "          (2): ReLU6(inplace=True)\n",
       "        )\n",
       "        (1): Conv2dNormActivation(\n",
       "          (0): Conv2d(576, 576, kernel_size=(3, 3), stride=(1, 1), padding=(1, 1), groups=576, bias=False)\n",
       "          (1): BatchNorm2d(576, eps=1e-05, momentum=0.1, affine=True, track_running_stats=True)\n",
       "          (2): ReLU6(inplace=True)\n",
       "        )\n",
       "        (2): Conv2d(576, 96, kernel_size=(1, 1), stride=(1, 1), bias=False)\n",
       "        (3): BatchNorm2d(96, eps=1e-05, momentum=0.1, affine=True, track_running_stats=True)\n",
       "      )\n",
       "    )\n",
       "    (13): InvertedResidual(\n",
       "      (conv): Sequential(\n",
       "        (0): Conv2dNormActivation(\n",
       "          (0): Conv2d(96, 576, kernel_size=(1, 1), stride=(1, 1), bias=False)\n",
       "          (1): BatchNorm2d(576, eps=1e-05, momentum=0.1, affine=True, track_running_stats=True)\n",
       "          (2): ReLU6(inplace=True)\n",
       "        )\n",
       "        (1): Conv2dNormActivation(\n",
       "          (0): Conv2d(576, 576, kernel_size=(3, 3), stride=(1, 1), padding=(1, 1), groups=576, bias=False)\n",
       "          (1): BatchNorm2d(576, eps=1e-05, momentum=0.1, affine=True, track_running_stats=True)\n",
       "          (2): ReLU6(inplace=True)\n",
       "        )\n",
       "        (2): Conv2d(576, 96, kernel_size=(1, 1), stride=(1, 1), bias=False)\n",
       "        (3): BatchNorm2d(96, eps=1e-05, momentum=0.1, affine=True, track_running_stats=True)\n",
       "      )\n",
       "    )\n",
       "    (14): InvertedResidual(\n",
       "      (conv): Sequential(\n",
       "        (0): Conv2dNormActivation(\n",
       "          (0): Conv2d(96, 576, kernel_size=(1, 1), stride=(1, 1), bias=False)\n",
       "          (1): BatchNorm2d(576, eps=1e-05, momentum=0.1, affine=True, track_running_stats=True)\n",
       "          (2): ReLU6(inplace=True)\n",
       "        )\n",
       "        (1): Conv2dNormActivation(\n",
       "          (0): Conv2d(576, 576, kernel_size=(3, 3), stride=(2, 2), padding=(1, 1), groups=576, bias=False)\n",
       "          (1): BatchNorm2d(576, eps=1e-05, momentum=0.1, affine=True, track_running_stats=True)\n",
       "          (2): ReLU6(inplace=True)\n",
       "        )\n",
       "        (2): Conv2d(576, 160, kernel_size=(1, 1), stride=(1, 1), bias=False)\n",
       "        (3): BatchNorm2d(160, eps=1e-05, momentum=0.1, affine=True, track_running_stats=True)\n",
       "      )\n",
       "    )\n",
       "    (15): InvertedResidual(\n",
       "      (conv): Sequential(\n",
       "        (0): Conv2dNormActivation(\n",
       "          (0): Conv2d(160, 960, kernel_size=(1, 1), stride=(1, 1), bias=False)\n",
       "          (1): BatchNorm2d(960, eps=1e-05, momentum=0.1, affine=True, track_running_stats=True)\n",
       "          (2): ReLU6(inplace=True)\n",
       "        )\n",
       "        (1): Conv2dNormActivation(\n",
       "          (0): Conv2d(960, 960, kernel_size=(3, 3), stride=(1, 1), padding=(1, 1), groups=960, bias=False)\n",
       "          (1): BatchNorm2d(960, eps=1e-05, momentum=0.1, affine=True, track_running_stats=True)\n",
       "          (2): ReLU6(inplace=True)\n",
       "        )\n",
       "        (2): Conv2d(960, 160, kernel_size=(1, 1), stride=(1, 1), bias=False)\n",
       "        (3): BatchNorm2d(160, eps=1e-05, momentum=0.1, affine=True, track_running_stats=True)\n",
       "      )\n",
       "    )\n",
       "    (16): InvertedResidual(\n",
       "      (conv): Sequential(\n",
       "        (0): Conv2dNormActivation(\n",
       "          (0): Conv2d(160, 960, kernel_size=(1, 1), stride=(1, 1), bias=False)\n",
       "          (1): BatchNorm2d(960, eps=1e-05, momentum=0.1, affine=True, track_running_stats=True)\n",
       "          (2): ReLU6(inplace=True)\n",
       "        )\n",
       "        (1): Conv2dNormActivation(\n",
       "          (0): Conv2d(960, 960, kernel_size=(3, 3), stride=(1, 1), padding=(1, 1), groups=960, bias=False)\n",
       "          (1): BatchNorm2d(960, eps=1e-05, momentum=0.1, affine=True, track_running_stats=True)\n",
       "          (2): ReLU6(inplace=True)\n",
       "        )\n",
       "        (2): Conv2d(960, 160, kernel_size=(1, 1), stride=(1, 1), bias=False)\n",
       "        (3): BatchNorm2d(160, eps=1e-05, momentum=0.1, affine=True, track_running_stats=True)\n",
       "      )\n",
       "    )\n",
       "    (17): InvertedResidual(\n",
       "      (conv): Sequential(\n",
       "        (0): Conv2dNormActivation(\n",
       "          (0): Conv2d(160, 960, kernel_size=(1, 1), stride=(1, 1), bias=False)\n",
       "          (1): BatchNorm2d(960, eps=1e-05, momentum=0.1, affine=True, track_running_stats=True)\n",
       "          (2): ReLU6(inplace=True)\n",
       "        )\n",
       "        (1): Conv2dNormActivation(\n",
       "          (0): Conv2d(960, 960, kernel_size=(3, 3), stride=(1, 1), padding=(1, 1), groups=960, bias=False)\n",
       "          (1): BatchNorm2d(960, eps=1e-05, momentum=0.1, affine=True, track_running_stats=True)\n",
       "          (2): ReLU6(inplace=True)\n",
       "        )\n",
       "        (2): Conv2d(960, 320, kernel_size=(1, 1), stride=(1, 1), bias=False)\n",
       "        (3): BatchNorm2d(320, eps=1e-05, momentum=0.1, affine=True, track_running_stats=True)\n",
       "      )\n",
       "    )\n",
       "    (18): Conv2dNormActivation(\n",
       "      (0): Conv2d(320, 1280, kernel_size=(1, 1), stride=(1, 1), bias=False)\n",
       "      (1): BatchNorm2d(1280, eps=1e-05, momentum=0.1, affine=True, track_running_stats=True)\n",
       "      (2): ReLU6(inplace=True)\n",
       "    )\n",
       "  )\n",
       "  (classifier): Sequential(\n",
       "    (0): Dropout(p=0.2, inplace=False)\n",
       "    (1): Linear(in_features=1280, out_features=1000, bias=True)\n",
       "  )\n",
       ")"
      ]
     },
     "execution_count": 18,
     "metadata": {},
     "output_type": "execute_result"
    }
   ],
   "source": [
    "# load the pretrained mobile net.\n",
    "mb_net = mobilenet_v2(weights=MobileNet_V2_Weights.IMAGENET1K_V1)\n",
    "\n",
    "#disable gradients\n",
    "for p in mb_net.parameters():\n",
    "    p.requires_grad = False\n",
    "mb_net.to(device)\n",
    "mb_net.eval()"
   ]
  },
  {
   "cell_type": "markdown",
   "id": "6e1dd24e-cfbf-4e1b-ad2d-08281b457d71",
   "metadata": {},
   "source": [
    "Initialize dense layers for the MobileNet."
   ]
  },
  {
   "cell_type": "code",
   "execution_count": 19,
   "id": "3c9d5ab6-4e94-4def-9c1e-d7fc3a191514",
   "metadata": {},
   "outputs": [],
   "source": [
    "class Dense(nn.Module):\n",
    "    def __init__(self, in_dim, hidden_dim, out_dim):\n",
    "        super(Dense, self).__init__()\n",
    "        \n",
    "        self.fc1 = nn.Linear(in_dim, hidden_dim)\n",
    "        self.fc2 = nn.Linear(hidden_dim, out_dim)\n",
    "        \n",
    "    def forward(self, x):\n",
    "        \n",
    "        x = self.fc1(x)\n",
    "        x = F.relu(x)\n",
    "        x = self.fc2(x)\n",
    "        \n",
    "        return x"
   ]
  },
  {
   "cell_type": "code",
   "execution_count": 20,
   "id": "560781f0-0ced-4653-9d8e-4e7d208757ee",
   "metadata": {},
   "outputs": [
    {
     "data": {
      "text/plain": [
       "Dense(\n",
       "  (fc1): Linear(in_features=1000, out_features=128, bias=True)\n",
       "  (fc2): Linear(in_features=128, out_features=1, bias=True)\n",
       ")"
      ]
     },
     "execution_count": 20,
     "metadata": {},
     "output_type": "execute_result"
    }
   ],
   "source": [
    "d_net = Dense(1000, hidden_dim, out_dim)\n",
    "optimizer = optim.Adam(d_net.parameters(), lr = learning_rate)\n",
    "\n",
    "d_net.to(device)\n",
    "d_net.train()"
   ]
  },
  {
   "cell_type": "code",
   "execution_count": 21,
   "id": "9bc4f902-b343-48cb-a9a3-9ebc29baf004",
   "metadata": {},
   "outputs": [
    {
     "name": "stdout",
     "output_type": "stream",
     "text": [
      "Epoch: 1, Training Loss: 0.234112\n",
      "Epoch: 2, Training Loss: 0.005068\n",
      "Epoch: 3, Training Loss: 0.004184\n",
      "Epoch: 4, Training Loss: 0.003846\n",
      "Epoch: 5, Training Loss: 0.003538\n",
      "Epoch: 6, Training Loss: 0.003210\n",
      "Epoch: 7, Training Loss: 0.003079\n",
      "Epoch: 8, Training Loss: 0.003045\n",
      "Epoch: 9, Training Loss: 0.002717\n",
      "Epoch: 10, Training Loss: 0.002659\n"
     ]
    }
   ],
   "source": [
    "# Train the dense layers\n",
    "loss_func = nn.BCEWithLogitsLoss()\n",
    "\n",
    "for epoch in range(1, epochs+1):\n",
    "    sum_loss = 0.\n",
    "    for batch_idx, (contexts, targets) in enumerate(train_loader):\n",
    "        \n",
    "        optimizer.zero_grad()\n",
    "        contexts, targets = contexts.to(device), targets.to(device)\n",
    "        contexts = contexts.transpose(3,1).float()\n",
    "        \n",
    "        # run the forward pass\n",
    "        preds = mb_net(contexts)\n",
    "        preds = d_net(preds)\n",
    "        \n",
    "        # evaluate loss\n",
    "        loss = loss_func(preds.squeeze().float(), targets.float())\n",
    "        sum_loss += loss.item()\n",
    "        \n",
    "        # backpropagate\n",
    "        loss.backward()\n",
    "        optimizer.step()\n",
    "    \n",
    "    print(f\"Epoch: {epoch}, Training Loss: {sum_loss/len(train_data):.6f}\")"
   ]
  },
  {
   "cell_type": "code",
   "execution_count": 22,
   "id": "26cda4b7-974f-4da6-8a0b-d2ed63f6399e",
   "metadata": {},
   "outputs": [
    {
     "name": "stdout",
     "output_type": "stream",
     "text": [
      "Validation Accuracy: 0.827907\n"
     ]
    }
   ],
   "source": [
    "# evaluate on the validation set\n",
    "d_net.eval()\n",
    "with torch.no_grad():\n",
    "    val_corr = 0\n",
    "    for (context, targets) in valid_loader:\n",
    "\n",
    "        context, targets = context.to(device), targets.to(device)\n",
    "        context = context.transpose(3,1).float()\n",
    "        targets = targets.unsqueeze(-1)\n",
    "        \n",
    "        preds = mb_net(context)\n",
    "        preds = d_net(preds)\n",
    "\n",
    "        #evaluate correct predictions\n",
    "        preds = F.softmax(preds, dim = 1)\n",
    "        val_corr += torch.sum(preds == targets)\n",
    "        \n",
    "    print(f\"Validation Accuracy: {val_corr/len(test_data):.6f}\")"
   ]
  },
  {
   "cell_type": "code",
   "execution_count": 23,
   "id": "7ae07887-b2a0-48bb-831e-9324c7014506",
   "metadata": {},
   "outputs": [
    {
     "name": "stdout",
     "output_type": "stream",
     "text": [
      "Testing Accuracy: 0.553488\n"
     ]
    }
   ],
   "source": [
    "# evaluate on test set\n",
    "with torch.no_grad():\n",
    "    num_corr = 0\n",
    "    for (context, targets) in test_loader:\n",
    "\n",
    "        context, targets = context.to(device), targets.to(device)\n",
    "        context = context.transpose(3,1).float()\n",
    "        targets = targets.unsqueeze(-1)\n",
    "\n",
    "        preds = mb_net(context)\n",
    "        preds = d_net(preds)\n",
    "\n",
    "        #evaluate correct predictions\n",
    "        preds = F.softmax(preds, dim = 1)\n",
    "        num_corr += torch.sum(preds == targets)\n",
    "        \n",
    "    print(f\"Testing Accuracy: {num_corr/len(test_data):.6f}\")"
   ]
  },
  {
   "cell_type": "markdown",
   "id": "25ff6255-b95d-453f-8f3b-304652a4ddbb",
   "metadata": {},
   "source": [
    "### Part 3: Data Augmentation:\n",
    "For this part, the pistachio data was augmented through random image rotations in an attempt to improve accuracy."
   ]
  },
  {
   "cell_type": "code",
   "execution_count": 24,
   "id": "d6750087-4908-4c08-813c-1a85b738e478",
   "metadata": {},
   "outputs": [],
   "source": [
    "# Apply data augmentation with a 75% probability.\n",
    "for p in p_img:\n",
    "    op = np.random.choice([1,2,3,4])\n",
    "    if op == 2:\n",
    "        p = cv2.rotate(p, cv2.ROTATE_90_CLOCKWISE)\n",
    "    elif op == 3:\n",
    "        p = cv2.rotate(p, cv2.ROTATE_90_COUNTERCLOCKWISE)\n",
    "    elif op == 4:\n",
    "        p = cv2.flip(p, -1)"
   ]
  },
  {
   "cell_type": "markdown",
   "id": "d902018d-b7db-4ffb-9ef1-86284eb12944",
   "metadata": {},
   "source": [
    "Repeat the training done in part 1."
   ]
  },
  {
   "cell_type": "code",
   "execution_count": 25,
   "id": "513d07a1-4125-401d-8355-e35e505c3ea1",
   "metadata": {},
   "outputs": [
    {
     "name": "stdout",
     "output_type": "stream",
     "text": [
      "Train: (1611, 64, 64, 3), (1611,)\n",
      "Validation: (322, 64, 64, 3), (322,)\n",
      "Test: (215, 64, 64, 3), (215,)\n"
     ]
    }
   ],
   "source": [
    "# Remake the dataloaders\n",
    "train_data, train_other, label_data, label_other = train_test_split(p_img, labels, test_size = 0.25)\n",
    "valid_data, test_data, valid_label, test_label = train_test_split(train_other, label_other, test_size = 0.4)\n",
    "\n",
    "print(f\"Train: {train_data.shape}, {label_data.shape}\")\n",
    "print(f\"Validation: {valid_data.shape}, {valid_label.shape}\")\n",
    "print(f\"Test: {test_data.shape}, {test_label.shape}\")\n",
    "\n",
    "#initialize datasets\n",
    "train_data = PistachioData(train_data, label_data)\n",
    "valid_data = PistachioData(valid_data, valid_label)\n",
    "test_data = PistachioData(test_data, test_label)\n",
    "\n",
    "#set up the dataloader\n",
    "train_loader = du.DataLoader(dataset=train_data,\n",
    "                             batch_size=batch_size,\n",
    "                             shuffle=True)\n",
    "valid_loader = du.DataLoader(dataset=valid_data,\n",
    "                             batch_size=batch_size,\n",
    "                             shuffle=True)\n",
    "test_loader = du.DataLoader(dataset=test_data,\n",
    "                             batch_size=batch_size,\n",
    "                             shuffle=True)"
   ]
  },
  {
   "cell_type": "code",
   "execution_count": 26,
   "id": "b2b56c55-963a-483a-b210-425889dcf3de",
   "metadata": {},
   "outputs": [
    {
     "data": {
      "text/plain": [
       "CNN(\n",
       "  (CNN_R): Sequential(\n",
       "    (0): Conv2d(3, 4, kernel_size=(4, 4), stride=(1, 1))\n",
       "    (1): MaxPool2d(kernel_size=2, stride=2, padding=0, dilation=1, ceil_mode=False)\n",
       "    (2): Conv2d(4, 8, kernel_size=(4, 4), stride=(1, 1))\n",
       "  )\n",
       "  (flatten): Flatten(start_dim=1, end_dim=-1)\n",
       "  (fc1): Linear(in_features=5832, out_features=128, bias=True)\n",
       "  (fc2): Linear(in_features=128, out_features=1, bias=True)\n",
       "  (dropout): Dropout(p=0.5, inplace=False)\n",
       ")"
      ]
     },
     "execution_count": 26,
     "metadata": {},
     "output_type": "execute_result"
    }
   ],
   "source": [
    "# Reinitialize the model\n",
    "net = CNN(in_channel, out_channel, kernel_size, hidden_dim, out_dim)\n",
    "optimizer = optim.Adam(net.parameters(), lr=learning_rate)\n",
    "\n",
    "#send the model to the device\n",
    "net = net.to(device)\n",
    "net.train()"
   ]
  },
  {
   "cell_type": "code",
   "execution_count": 27,
   "id": "84a6a9a4-5b0d-4469-87be-a93c274256e1",
   "metadata": {},
   "outputs": [
    {
     "name": "stdout",
     "output_type": "stream",
     "text": [
      "Epoch: 1, Training Loss: 4.611070\n",
      "Epoch: 2, Training Loss: 0.031187\n",
      "Epoch: 3, Training Loss: 0.005827\n",
      "Epoch: 4, Training Loss: 0.005529\n",
      "Epoch: 5, Training Loss: 0.005541\n",
      "Epoch: 6, Training Loss: 0.005530\n",
      "Epoch: 7, Training Loss: 0.005531\n",
      "Epoch: 8, Training Loss: 0.005533\n",
      "Epoch: 9, Training Loss: 0.005530\n",
      "Epoch: 10, Training Loss: 0.005531\n"
     ]
    }
   ],
   "source": [
    "loss_func = nn.BCEWithLogitsLoss()\n",
    "\n",
    "for epoch in range(1, epochs+1):\n",
    "    sum_loss = 0.\n",
    "    for batch_idx, (contexts, targets) in enumerate(train_loader):\n",
    "        \n",
    "        optimizer.zero_grad()\n",
    "        contexts, targets = contexts.to(device), targets.to(device)\n",
    "        contexts = contexts.transpose(3,1).float()\n",
    "        \n",
    "        # run the forward pass\n",
    "        preds = net(contexts)\n",
    "        \n",
    "        # evaluate loss\n",
    "        loss = loss_func(preds.squeeze().float(), targets.float())\n",
    "        sum_loss += loss.item()\n",
    "        \n",
    "        # backpropagate\n",
    "        loss.backward()\n",
    "        optimizer.step()\n",
    "    \n",
    "    print(f\"Epoch: {epoch}, Training Loss: {sum_loss/len(train_data):.6f}\")"
   ]
  },
  {
   "cell_type": "code",
   "execution_count": 28,
   "id": "67124828-dd28-4859-87d6-07b57eb0db8e",
   "metadata": {},
   "outputs": [
    {
     "name": "stdout",
     "output_type": "stream",
     "text": [
      "Validation Accuracy: 0.920930\n"
     ]
    }
   ],
   "source": [
    "# evaluate on the validation set\n",
    "net.eval()\n",
    "with torch.no_grad():\n",
    "    val_corr = 0\n",
    "    for (context, targets) in valid_loader:\n",
    "\n",
    "        context, targets = context.to(device), targets.to(device)\n",
    "        context = context.transpose(3,1).float()\n",
    "        targets = targets.unsqueeze(-1)\n",
    "\n",
    "        preds = net(context)\n",
    "\n",
    "        #evaluate correct predictions\n",
    "        preds = F.softmax(preds, dim = 1)\n",
    "        val_corr += torch.sum(preds == targets)\n",
    "        \n",
    "    print(f\"Validation Accuracy: {val_corr/len(test_data):.6f}\")"
   ]
  },
  {
   "cell_type": "code",
   "execution_count": 29,
   "id": "3d7a5861-9e16-438f-b244-538329c5ebfb",
   "metadata": {},
   "outputs": [
    {
     "name": "stdout",
     "output_type": "stream",
     "text": [
      "Testing Accuracy: 0.600000\n"
     ]
    }
   ],
   "source": [
    "with torch.no_grad():\n",
    "    num_corr = 0\n",
    "    for (context, targets) in test_loader:\n",
    "\n",
    "        context, targets = context.to(device), targets.to(device)\n",
    "        context = context.transpose(3,1).float()\n",
    "        targets = targets.unsqueeze(-1)\n",
    "\n",
    "        preds = net(context)\n",
    "\n",
    "        #evaluate correct predictions\n",
    "        preds = F.softmax(preds, dim = 1)\n",
    "        num_corr += torch.sum(preds == targets)\n",
    "        \n",
    "    print(f\"Testing Accuracy: {num_corr/len(test_data):.6f}\")"
   ]
  },
  {
   "cell_type": "markdown",
   "id": "69bf6f16-f2f7-48c3-bc46-2026ce4c6eae",
   "metadata": {},
   "source": [
    "#### Results:\n",
    "We see that the validation accuracy is slightly lower after training on the augmented dataset while the testing accuracy is slightly higher. Overall, there is not much difference though the augmented data does have higher accuracy overall. This suggests that the applied augmentation methods did not impact the model's accuracy as much as expected."
   ]
  },
  {
   "cell_type": "markdown",
   "id": "05563b46-1a44-4115-a317-b142018a9ef6",
   "metadata": {
    "tags": []
   },
   "source": [
    "### Task 2: VAE and GANs"
   ]
  },
  {
   "cell_type": "markdown",
   "id": "9e29d203-096a-4dc9-a558-4a74e40b9f24",
   "metadata": {
    "tags": []
   },
   "source": [
    "#### Part 1: Variational Autoencoder\n",
    "For this task, I will also be using the pistachio dataset from part 1 and will be using the model implemented at https://www.tensorflow.org/tutorials/generative/cvae."
   ]
  },
  {
   "cell_type": "markdown",
   "id": "ced4efae-413d-45fd-b114-624b27f502a5",
   "metadata": {},
   "source": [
    "Load the dataset and create the DataLoader. For this part, I will be using the fashion MNIST dataset."
   ]
  },
  {
   "cell_type": "code",
   "execution_count": 30,
   "id": "869180d7",
   "metadata": {},
   "outputs": [],
   "source": [
    "data_dir = 'dataset'\n",
    "\n",
    "train_dataset = torchvision.datasets.EMNIST(data_dir, 'letters', train=True, download=True)\n",
    "\n",
    "train_transform = transforms.Compose([\n",
    "    transforms.ToTensor(),\n",
    "])\n",
    "\n",
    "train_dataset.transform = train_transform\n",
    "\n",
    "m=len(train_dataset)\n",
    "\n",
    "training_data, val_data = random_split(train_dataset, [int(m-m*0.2), int(m*0.2)])\n",
    "training_data = torch.utils.data.DataLoader(train_data, batch_size=64)"
   ]
  },
  {
   "cell_type": "code",
   "execution_count": 31,
   "id": "e189e649",
   "metadata": {
    "scrolled": true
   },
   "outputs": [
    {
     "data": {
      "text/plain": [
       "<matplotlib.image.AxesImage at 0x18c334827f0>"
      ]
     },
     "execution_count": 31,
     "metadata": {},
     "output_type": "execute_result"
    },
    {
     "data": {
      "image/png": "[encoded data removed]",
      "text/plain": [
       "<Figure size 640x480 with 1 Axes>"
      ]
     },
     "metadata": {},
     "output_type": "display_data"
    }
   ],
   "source": [
    "plt.imshow(torch.transpose(train_dataset[0][0], 0, 2))"
   ]
  },
  {
   "cell_type": "code",
   "execution_count": 32,
   "id": "b38dc3ba-65d0-46e1-bdaf-b944d423359f",
   "metadata": {},
   "outputs": [],
   "source": [
    "class CVAE(nn.Module):\n",
    "    def __init__(self, latent_dim, in_channels):\n",
    "        super(CVAE, self).__init__()\n",
    "        self.latent_dim = latent_dim\n",
    "\n",
    "        # Encoder Architecture\n",
    "        self.encoder = nn.Sequential(\n",
    "            nn.Conv2d(in_channels, 32, kernel_size=3, stride=(2, 2)),\n",
    "            nn.BatchNorm2d(32),\n",
    "            nn.ReLU(),\n",
    "            nn.Dropout(0.3),\n",
    "            nn.Conv2d(32, 64, kernel_size=3, stride=(2, 2)),\n",
    "            nn.BatchNorm2d(64),\n",
    "            nn.ReLU(),\n",
    "            nn.Conv2d(64, 128, kernel_size=3, stride=(2, 2)),\n",
    "            nn.BatchNorm2d(128),\n",
    "            nn.ReLU(),\n",
    "            nn.Dropout(0.3),\n",
    "            nn.Conv2d(128, 256, kernel_size=3, stride=(2, 2)),\n",
    "            nn.BatchNorm2d(256),\n",
    "            nn.Flatten(),\n",
    "            nn.Linear(2304, 512),\n",
    "            nn.ReLU(),\n",
    "            nn.Linear(512, 256)\n",
    "        )\n",
    "\n",
    "        # Decoder Architecture\n",
    "        self.decoder = nn.Sequential(\n",
    "            nn.ConvTranspose2d(512, 256, kernel_size=3, stride=2, padding=1, output_padding=1),\n",
    "            nn.BatchNorm2d(256),\n",
    "            nn.ReLU(),\n",
    "            nn.ConvTranspose2d(256, 128, kernel_size=3, stride=2, padding=1, output_padding=1),\n",
    "            nn.BatchNorm2d(128),\n",
    "            nn.ReLU(),\n",
    "            nn.Dropout(0.3),\n",
    "            nn.ConvTranspose2d(128, 64, kernel_size=3, stride=2, padding=1, output_padding=1),\n",
    "            nn.BatchNorm2d(64),\n",
    "            nn.ReLU(),\n",
    "            nn.ConvTranspose2d(64, 32, kernel_size=3, stride=2, padding=1, output_padding=1),\n",
    "            nn.BatchNorm2d(32),\n",
    "            nn.ReLU(),\n",
    "            nn.Dropout(0.3),\n",
    "            nn.ConvTranspose2d(32, in_channels, kernel_size=3, stride=1, padding=1),\n",
    "            nn.BatchNorm2d(in_channels),\n",
    "            nn.Sigmoid()\n",
    "        )\n",
    "\n",
    "        self.mean, self.logvar, self.fc = nn.Linear(256, latent_dim), nn.Linear(256, latent_dim), nn.Linear(latent_dim, 8192)\n",
    "    \n",
    "    def encode(self, x):\n",
    "        x = self.encoder(x)\n",
    "        mean = self.mean(x)\n",
    "        logvar = self.logvar(x)\n",
    "        return mean, logvar\n",
    "\n",
    "    def decode(self, x):\n",
    "        x = torch.reshape(self.fc(x), (-1, 512, 4, 4))\n",
    "        x = self.decoder(x)\n",
    "        return x\n",
    "\n",
    "    def reparameterize(self, mean, logvar):\n",
    "        sd = torch.exp(0.5 * logvar)\n",
    "        eps = torch.randn_like(sd)\n",
    "        return sd * mean + eps\n",
    "\n",
    "    def sample(self, x):\n",
    "        return self.decode(x)\n",
    "\n",
    "    def forward(self, x):\n",
    "        m, l = self.encode(x)\n",
    "        rp = self.reparameterize(m, l)\n",
    "        o = self.decode(rp)\n",
    "        return o, m, l"
   ]
  },
  {
   "cell_type": "markdown",
   "id": "8c90a6f6-a67f-4369-9b24-b6303751a737",
   "metadata": {},
   "source": [
    "Initialize VAE parameters"
   ]
  },
  {
   "cell_type": "code",
   "execution_count": 33,
   "id": "97a4bb5e-35b3-4f67-b27c-7fce80fe713f",
   "metadata": {},
   "outputs": [],
   "source": [
    "epochs = 5\n",
    "in_channels = 3\n",
    "batch_size = 64\n",
    "latent_dim = 128\n",
    "learning_rate = 0.0007"
   ]
  },
  {
   "cell_type": "markdown",
   "id": "3dda1097-8925-4db7-91d2-f2a424d576cd",
   "metadata": {},
   "source": [
    "Initialize VAE model"
   ]
  },
  {
   "cell_type": "code",
   "execution_count": 34,
   "id": "650a3d40-85bc-4d93-a5f4-b01fdd577ada",
   "metadata": {},
   "outputs": [
    {
     "data": {
      "text/plain": [
       "CVAE(\n",
       "  (encoder): Sequential(\n",
       "    (0): Conv2d(3, 32, kernel_size=(3, 3), stride=(2, 2))\n",
       "    (1): BatchNorm2d(32, eps=1e-05, momentum=0.1, affine=True, track_running_stats=True)\n",
       "    (2): ReLU()\n",
       "    (3): Dropout(p=0.3, inplace=False)\n",
       "    (4): Conv2d(32, 64, kernel_size=(3, 3), stride=(2, 2))\n",
       "    (5): BatchNorm2d(64, eps=1e-05, momentum=0.1, affine=True, track_running_stats=True)\n",
       "    (6): ReLU()\n",
       "    (7): Conv2d(64, 128, kernel_size=(3, 3), stride=(2, 2))\n",
       "    (8): BatchNorm2d(128, eps=1e-05, momentum=0.1, affine=True, track_running_stats=True)\n",
       "    (9): ReLU()\n",
       "    (10): Dropout(p=0.3, inplace=False)\n",
       "    (11): Conv2d(128, 256, kernel_size=(3, 3), stride=(2, 2))\n",
       "    (12): BatchNorm2d(256, eps=1e-05, momentum=0.1, affine=True, track_running_stats=True)\n",
       "    (13): Flatten(start_dim=1, end_dim=-1)\n",
       "    (14): Linear(in_features=2304, out_features=512, bias=True)\n",
       "    (15): ReLU()\n",
       "    (16): Linear(in_features=512, out_features=256, bias=True)\n",
       "  )\n",
       "  (decoder): Sequential(\n",
       "    (0): ConvTranspose2d(512, 256, kernel_size=(3, 3), stride=(2, 2), padding=(1, 1), output_padding=(1, 1))\n",
       "    (1): BatchNorm2d(256, eps=1e-05, momentum=0.1, affine=True, track_running_stats=True)\n",
       "    (2): ReLU()\n",
       "    (3): ConvTranspose2d(256, 128, kernel_size=(3, 3), stride=(2, 2), padding=(1, 1), output_padding=(1, 1))\n",
       "    (4): BatchNorm2d(128, eps=1e-05, momentum=0.1, affine=True, track_running_stats=True)\n",
       "    (5): ReLU()\n",
       "    (6): Dropout(p=0.3, inplace=False)\n",
       "    (7): ConvTranspose2d(128, 64, kernel_size=(3, 3), stride=(2, 2), padding=(1, 1), output_padding=(1, 1))\n",
       "    (8): BatchNorm2d(64, eps=1e-05, momentum=0.1, affine=True, track_running_stats=True)\n",
       "    (9): ReLU()\n",
       "    (10): ConvTranspose2d(64, 32, kernel_size=(3, 3), stride=(2, 2), padding=(1, 1), output_padding=(1, 1))\n",
       "    (11): BatchNorm2d(32, eps=1e-05, momentum=0.1, affine=True, track_running_stats=True)\n",
       "    (12): ReLU()\n",
       "    (13): Dropout(p=0.3, inplace=False)\n",
       "    (14): ConvTranspose2d(32, 3, kernel_size=(3, 3), stride=(1, 1), padding=(1, 1))\n",
       "    (15): BatchNorm2d(3, eps=1e-05, momentum=0.1, affine=True, track_running_stats=True)\n",
       "    (16): Sigmoid()\n",
       "  )\n",
       "  (mean): Linear(in_features=256, out_features=128, bias=True)\n",
       "  (logvar): Linear(in_features=256, out_features=128, bias=True)\n",
       "  (fc): Linear(in_features=128, out_features=8192, bias=True)\n",
       ")"
      ]
     },
     "execution_count": 34,
     "metadata": {},
     "output_type": "execute_result"
    }
   ],
   "source": [
    "vae_model = CVAE(latent_dim, in_channels)\n",
    "optimizer = optim.Adam(vae_model.parameters(), lr=learning_rate, weight_decay=1e-5)\n",
    "vae_model.to(device)\n",
    "vae_model.train()"
   ]
  },
  {
   "cell_type": "markdown",
   "id": "611fce03-7a7d-4ece-9b70-ec6b8189ab72",
   "metadata": {},
   "source": [
    "Train and Visualize VAE images"
   ]
  },
  {
   "cell_type": "code",
   "execution_count": 35,
   "id": "ed67941b-8054-4ed5-9c18-63834a7ae002",
   "metadata": {
    "scrolled": false
   },
   "outputs": [
    {
     "name": "stderr",
     "output_type": "stream",
     "text": [
      "26it [00:33,  1.30s/it]\n"
     ]
    },
    {
     "data": {
      "image/png": "[encoded data removed]",
      "text/plain": [
       "<Figure size 1400x700 with 16 Axes>"
      ]
     },
     "metadata": {},
     "output_type": "display_data"
    },
    {
     "name": "stderr",
     "output_type": "stream",
     "text": [
      "\r",
      "0it [00:00, ?it/s]"
     ]
    },
    {
     "name": "stdout",
     "output_type": "stream",
     "text": [
      "Epoch: 1, Training Loss: 9282.411715\n"
     ]
    },
    {
     "name": "stderr",
     "output_type": "stream",
     "text": [
      "26it [00:36,  1.41s/it]\n"
     ]
    },
    {
     "data": {
      "image/png": "[encoded data removed]",
      "text/plain": [
       "<Figure size 1400x700 with 16 Axes>"
      ]
     },
     "metadata": {},
     "output_type": "display_data"
    },
    {
     "name": "stderr",
     "output_type": "stream",
     "text": [
      "\r",
      "0it [00:00, ?it/s]"
     ]
    },
    {
     "name": "stdout",
     "output_type": "stream",
     "text": [
      "Epoch: 2, Training Loss: 8540.082960\n"
     ]
    },
    {
     "name": "stderr",
     "output_type": "stream",
     "text": [
      "26it [00:33,  1.30s/it]\n"
     ]
    },
    {
     "data": {
      "image/png": "[encoded data removed]",
      "text/plain": [
       "<Figure size 1400x700 with 16 Axes>"
      ]
     },
     "metadata": {},
     "output_type": "display_data"
    },
    {
     "name": "stderr",
     "output_type": "stream",
     "text": [
      "\r",
      "0it [00:00, ?it/s]"
     ]
    },
    {
     "name": "stdout",
     "output_type": "stream",
     "text": [
      "Epoch: 3, Training Loss: 8357.364690\n"
     ]
    },
    {
     "name": "stderr",
     "output_type": "stream",
     "text": [
      "26it [00:33,  1.30s/it]\n"
     ]
    },
    {
     "data": {
      "image/png": "[encoded data removed]",
      "text/plain": [
       "<Figure size 1400x700 with 16 Axes>"
      ]
     },
     "metadata": {},
     "output_type": "display_data"
    },
    {
     "name": "stderr",
     "output_type": "stream",
     "text": [
      "\r",
      "0it [00:00, ?it/s]"
     ]
    },
    {
     "name": "stdout",
     "output_type": "stream",
     "text": [
      "Epoch: 4, Training Loss: 8403.128744\n"
     ]
    },
    {
     "name": "stderr",
     "output_type": "stream",
     "text": [
      "26it [00:29,  1.15s/it]\n"
     ]
    },
    {
     "data": {
      "image/png": "[encoded data removed]",
      "text/plain": [
       "<Figure size 1400x700 with 16 Axes>"
      ]
     },
     "metadata": {},
     "output_type": "display_data"
    },
    {
     "name": "stdout",
     "output_type": "stream",
     "text": [
      "Epoch: 5, Training Loss: 8196.171215\n"
     ]
    }
   ],
   "source": [
    "for epoch in range(1, epochs + 1):\n",
    "    vae_model.train()\n",
    "    sum_loss = 0.\n",
    "    \n",
    "    # train the model\n",
    "    for batch_idx, (contexts, targets) in tqdm(enumerate(training_data)):\n",
    "        \n",
    "        targets = torch.as_tensor(targets)\n",
    "        \n",
    "        optimizer.zero_grad()\n",
    "        contexts, targets = contexts.to(device), targets.to(device)\n",
    "        contexts = (contexts.transpose(3, 1)/255).float()\n",
    "        \n",
    "        # run the forward pass\n",
    "        o, m, l = vae_model(contexts.float())\n",
    "        \n",
    "        # evaluate loss\n",
    "        loss = F.binary_cross_entropy(o, contexts, reduction=\"sum\")\n",
    "        logs = -torch.sum(1 + torch.log(l.pow(2)) - m.pow(2) - l.pow(2))\n",
    "        loss += logs\n",
    "        sum_loss += loss.item()\n",
    "        \n",
    "        # backpropagate\n",
    "        loss.backward()\n",
    "        optimizer.step()\n",
    "    \n",
    "    # visualize training results\n",
    "    vae_model.eval()\n",
    "    \n",
    "    with torch.no_grad():\n",
    "        out = vae_model.sample(torch.randn(16, latent_dim, device=device)).detach()\n",
    "        out = torch.transpose(out, 1, 3)\n",
    "        out = out.to(torch.uint8)\n",
    "\n",
    "        rows, columns = 2, 8\n",
    "        fig = plt.figure(figsize=(14, 7))\n",
    "\n",
    "        for i in range(1, out.shape[0]+1):\n",
    "            fig.add_subplot(rows, columns, i)\n",
    "            plt.imshow(out[i-1]*255)\n",
    "\n",
    "        plt.tight_layout()\n",
    "        plt.show()\n",
    "    \n",
    "    print(f\"Epoch: {epoch}, Training Loss: {sum_loss/len(train_data):.6f}\")"
   ]
  },
  {
   "cell_type": "markdown",
   "id": "9d893d4b",
   "metadata": {},
   "source": [
    "Evaluate final results"
   ]
  },
  {
   "cell_type": "code",
   "execution_count": 36,
   "id": "71f1ae9d",
   "metadata": {},
   "outputs": [
    {
     "data": {
      "image/png": "[encoded data removed]",
      "text/plain": [
       "<Figure size 1400x700 with 16 Axes>"
      ]
     },
     "metadata": {},
     "output_type": "display_data"
    }
   ],
   "source": [
    "out = vae_model.sample(torch.randn(16, latent_dim, device=device)).detach()\n",
    "out = torch.transpose(out, 1, 3)\n",
    "out = out.to(torch.uint8)\n",
    "\n",
    "rows, columns = 2, 8\n",
    "fig = plt.figure(figsize=(14, 7))\n",
    "\n",
    "for i in range(1, out.shape[0]+1):\n",
    "    fig.add_subplot(rows, columns, i)\n",
    "    plt.imshow(out[i-1]*255)\n",
    "\n",
    "plt.tight_layout()"
   ]
  },
  {
   "cell_type": "markdown",
   "id": "173df914-b370-4630-8265-e7582ab664a1",
   "metadata": {},
   "source": [
    "#### Part 2: GANs\n",
    "For this part, I will be implementing the GANs architechture used at https://www.tensorflow.org/tutorials/generative/dcgan with the same pistachio dataset as in part 1."
   ]
  },
  {
   "cell_type": "code",
   "execution_count": 37,
   "id": "d8d41537-ffa1-4aeb-b390-ba6039015941",
   "metadata": {},
   "outputs": [],
   "source": [
    "class Discriminator(nn.Module):\n",
    "    def __init__(self, in_channel, hidden_dim):\n",
    "        super(Discriminator, self).__init__()\n",
    "        \n",
    "        self.layers = nn.Sequential(\n",
    "            nn.Conv2d(in_channel, hidden_dim, 4, 2, 1),\n",
    "            nn.BatchNorm2d(hidden_dim),\n",
    "            nn.LeakyReLU(0.2),\n",
    "            nn.Dropout(0.3),\n",
    "            nn.Conv2d(hidden_dim, hidden_dim * 2, 4, 2, 1),\n",
    "            nn.BatchNorm2d(hidden_dim * 2),\n",
    "            nn.LeakyReLU(0.2),\n",
    "            nn.Dropout(0.3),\n",
    "            nn.Conv2d(hidden_dim * 2, hidden_dim * 4, 4, 2, 1),\n",
    "            nn.BatchNorm2d(hidden_dim * 4),\n",
    "            nn.LeakyReLU(0.2),\n",
    "            nn.Dropout(0.3),\n",
    "            nn.Conv2d(hidden_dim * 4, hidden_dim * 8, 4, 2, 1),\n",
    "            nn.BatchNorm2d(hidden_dim * 8),\n",
    "            nn.LeakyReLU(0.2),\n",
    "            nn.Conv2d(hidden_dim * 8, 1, 4, 2, 0),\n",
    "            nn.Sigmoid()\n",
    "        )\n",
    "    \n",
    "    def forward(self, x):\n",
    "        return self.layers(x)\n",
    "    \n",
    "class Generator(nn.Module):\n",
    "    def __init__(self, in_channel, hidden_dim, out_dim):\n",
    "        super(Generator, self).__init__()\n",
    "        \n",
    "        self.layers = nn.Sequential(\n",
    "            nn.ConvTranspose2d(in_channel, hidden_dim * 16, 4, 1, 0),\n",
    "            nn.BatchNorm2d(hidden_dim * 16),\n",
    "            nn.LeakyReLU(),\n",
    "            nn.ConvTranspose2d(hidden_dim * 16, hidden_dim * 8, 4, 2, 1),\n",
    "            nn.BatchNorm2d(hidden_dim * 8),\n",
    "            nn.LeakyReLU(),\n",
    "            nn.ConvTranspose2d(hidden_dim * 8, hidden_dim * 4, 4, 2, 1),\n",
    "            nn.BatchNorm2d(hidden_dim * 4),\n",
    "            nn.LeakyReLU(),\n",
    "            nn.ConvTranspose2d(hidden_dim * 4, hidden_dim * 2, 4, 2, 1),\n",
    "            nn.BatchNorm2d(hidden_dim * 2),\n",
    "            nn.LeakyReLU(),\n",
    "            nn.ConvTranspose2d(hidden_dim * 2, out_dim, 4, 2, 1),\n",
    "            nn.Tanh(),\n",
    "        )\n",
    "    \n",
    "    def forward(self, x):\n",
    "        return self.layers(x)"
   ]
  },
  {
   "cell_type": "markdown",
   "id": "89cbfe7a",
   "metadata": {},
   "source": [
    "Initialize Weights and Model"
   ]
  },
  {
   "cell_type": "code",
   "execution_count": 38,
   "id": "9051d8ec",
   "metadata": {},
   "outputs": [],
   "source": [
    "def w_init(model):\n",
    "    for m in model.modules():\n",
    "        if isinstance(m, (nn.Conv2d, nn.ConvTranspose2d, nn.BatchNorm2d)):\n",
    "            nn.init.normal_(m.weight.data, 0., 0.02)"
   ]
  },
  {
   "cell_type": "code",
   "execution_count": 39,
   "id": "dc98024a",
   "metadata": {
    "scrolled": true
   },
   "outputs": [
    {
     "data": {
      "text/plain": [
       "Discriminator(\n",
       "  (layers): Sequential(\n",
       "    (0): Conv2d(3, 64, kernel_size=(4, 4), stride=(2, 2), padding=(1, 1))\n",
       "    (1): BatchNorm2d(64, eps=1e-05, momentum=0.1, affine=True, track_running_stats=True)\n",
       "    (2): LeakyReLU(negative_slope=0.2)\n",
       "    (3): Dropout(p=0.3, inplace=False)\n",
       "    (4): Conv2d(64, 128, kernel_size=(4, 4), stride=(2, 2), padding=(1, 1))\n",
       "    (5): BatchNorm2d(128, eps=1e-05, momentum=0.1, affine=True, track_running_stats=True)\n",
       "    (6): LeakyReLU(negative_slope=0.2)\n",
       "    (7): Dropout(p=0.3, inplace=False)\n",
       "    (8): Conv2d(128, 256, kernel_size=(4, 4), stride=(2, 2), padding=(1, 1))\n",
       "    (9): BatchNorm2d(256, eps=1e-05, momentum=0.1, affine=True, track_running_stats=True)\n",
       "    (10): LeakyReLU(negative_slope=0.2)\n",
       "    (11): Dropout(p=0.3, inplace=False)\n",
       "    (12): Conv2d(256, 512, kernel_size=(4, 4), stride=(2, 2), padding=(1, 1))\n",
       "    (13): BatchNorm2d(512, eps=1e-05, momentum=0.1, affine=True, track_running_stats=True)\n",
       "    (14): LeakyReLU(negative_slope=0.2)\n",
       "    (15): Conv2d(512, 1, kernel_size=(4, 4), stride=(2, 2))\n",
       "    (16): Sigmoid()\n",
       "  )\n",
       ")"
      ]
     },
     "execution_count": 39,
     "metadata": {},
     "output_type": "execute_result"
    }
   ],
   "source": [
    "epochs = 5\n",
    "batch_size = 32\n",
    "learning_rate = 0.0007\n",
    "in_channel = 100\n",
    "out_channel = 3\n",
    "hidden_dim = 64\n",
    "\n",
    "# Initialize Models\n",
    "gen = Generator(in_channel, hidden_dim, out_channel)\n",
    "dc = Discriminator(out_channel, hidden_dim)\n",
    "\n",
    "g_optimizer = optim.Adam(gen.parameters(), lr = learning_rate, betas = (0.5, 0.999))\n",
    "d_optimizer = optim.Adam(dc.parameters(), lr = learning_rate, betas = (0.5, 0.999))\n",
    "\n",
    "# Set to training mode and initialize weights\n",
    "gen, dc = gen.to(device), dc.to(device)\n",
    "w_init(gen)\n",
    "w_init(dc)\n",
    "gen.train()\n",
    "dc.train()"
   ]
  },
  {
   "cell_type": "markdown",
   "id": "a69f7d2c",
   "metadata": {},
   "source": [
    "Train the model"
   ]
  },
  {
   "cell_type": "code",
   "execution_count": 40,
   "id": "df046e73",
   "metadata": {},
   "outputs": [
    {
     "name": "stderr",
     "output_type": "stream",
     "text": [
      "13it [02:08,  9.87s/it]\n"
     ]
    },
    {
     "data": {
      "image/png": "[encoded data removed]",
      "text/plain": [
       "<Figure size 1000x700 with 16 Axes>"
      ]
     },
     "metadata": {},
     "output_type": "display_data"
    },
    {
     "name": "stderr",
     "output_type": "stream",
     "text": [
      "\r",
      "0it [00:00, ?it/s]"
     ]
    },
    {
     "name": "stdout",
     "output_type": "stream",
     "text": [
      "Epoch: 1, Gen Loss: 0.001790, Discriminator Loss: 0.004402\n"
     ]
    },
    {
     "name": "stderr",
     "output_type": "stream",
     "text": [
      "13it [01:41,  7.80s/it]\n"
     ]
    },
    {
     "data": {
      "image/png": "[encoded data removed]",
      "text/plain": [
       "<Figure size 1000x700 with 16 Axes>"
      ]
     },
     "metadata": {},
     "output_type": "display_data"
    },
    {
     "name": "stderr",
     "output_type": "stream",
     "text": [
      "\r",
      "0it [00:00, ?it/s]"
     ]
    },
    {
     "name": "stdout",
     "output_type": "stream",
     "text": [
      "Epoch: 2, Gen Loss: 0.000213, Discriminator Loss: 0.000491\n"
     ]
    },
    {
     "name": "stderr",
     "output_type": "stream",
     "text": [
      "13it [01:42,  7.91s/it]\n"
     ]
    },
    {
     "data": {
      "image/png": "[encoded data removed]",
      "text/plain": [
       "<Figure size 1000x700 with 16 Axes>"
      ]
     },
     "metadata": {},
     "output_type": "display_data"
    },
    {
     "name": "stderr",
     "output_type": "stream",
     "text": [
      "\r",
      "0it [00:00, ?it/s]"
     ]
    },
    {
     "name": "stdout",
     "output_type": "stream",
     "text": [
      "Epoch: 3, Gen Loss: 0.000071, Discriminator Loss: 0.000157\n"
     ]
    },
    {
     "name": "stderr",
     "output_type": "stream",
     "text": [
      "13it [01:46,  8.21s/it]\n"
     ]
    },
    {
     "data": {
      "image/png": "[encoded data removed]",
      "text/plain": [
       "<Figure size 1000x700 with 16 Axes>"
      ]
     },
     "metadata": {},
     "output_type": "display_data"
    },
    {
     "name": "stderr",
     "output_type": "stream",
     "text": [
      "\r",
      "0it [00:00, ?it/s]"
     ]
    },
    {
     "name": "stdout",
     "output_type": "stream",
     "text": [
      "Epoch: 4, Gen Loss: 0.000035, Discriminator Loss: 0.000077\n"
     ]
    },
    {
     "name": "stderr",
     "output_type": "stream",
     "text": [
      "13it [01:41,  7.81s/it]\n"
     ]
    },
    {
     "data": {
      "image/png": "[encoded data removed]",
      "text/plain": [
       "<Figure size 1000x700 with 16 Axes>"
      ]
     },
     "metadata": {},
     "output_type": "display_data"
    },
    {
     "name": "stdout",
     "output_type": "stream",
     "text": [
      "Epoch: 5, Gen Loss: 0.000021, Discriminator Loss: 0.000047\n"
     ]
    }
   ],
   "source": [
    "ev_noise = torch.randn(16, in_channel, 1, 1, device = device)\n",
    "\n",
    "for epoch in range(1, epochs+1):\n",
    "    s_g, s_d = 0., 0.\n",
    "    \n",
    "    gen.train()\n",
    "    dc.train()\n",
    "    for batch_idx, (contexts, targets) in tqdm(enumerate(train_loader)):\n",
    "        \n",
    "        contexts, targets = contexts.to(device), targets.to(device)\n",
    "        contexts = contexts.transpose(3,1).float()/255\n",
    "        \n",
    "        # train the discriminator\n",
    "        d_optimizer.zero_grad()\n",
    "        \n",
    "        # generate fake images and predict\n",
    "        noise = torch.randn(contexts.shape[0], in_channel, 1, 1, device = device)\n",
    "        f_img = gen(noise)\n",
    "        f_pred = dc(f_img.detach())\n",
    "        f_loss = F.binary_cross_entropy(f_pred.squeeze(-1).squeeze(-1), torch.zeros(contexts.shape[0]).to(device).unsqueeze(-1))\n",
    "        \n",
    "        # predict real images\n",
    "        r_pred = dc(contexts)\n",
    "        r_loss = F.binary_cross_entropy(r_pred.squeeze(-1).squeeze(-1), torch.ones(contexts.shape[0]).to(device).unsqueeze(-1))\n",
    "        \n",
    "        # backpropagate\n",
    "        d_loss = f_loss + r_loss\n",
    "        d_loss.backward()\n",
    "        d_optimizer.step()\n",
    "        \n",
    "        # train the generator\n",
    "        g_optimizer.zero_grad()\n",
    "        g_pred = dc(f_img)\n",
    "        g_loss = F.binary_cross_entropy(g_pred.squeeze(-1).squeeze(-1), torch.zeros(contexts.shape[0]).to(device).unsqueeze(-1))\n",
    "        \n",
    "        # backpropagate\n",
    "        g_loss.backward()\n",
    "        g_optimizer.step()\n",
    "        \n",
    "        # tally loss\n",
    "        s_g += g_loss.item()\n",
    "        s_d += d_loss.item()\n",
    "    \n",
    "    # visualize generated images after training\n",
    "    with torch.no_grad():\n",
    "        gen.eval()\n",
    "        dc.eval()\n",
    "        \n",
    "        g_im = gen(torch.randn(contexts.shape[0], in_channel, 1, 1, device = device))\n",
    "        g_im = torch.transpose(g_im, 1, 3)\n",
    "        g_im = g_im.to(torch.uint8)*255\n",
    "        \n",
    "        rows, columns = 4, 4\n",
    "        fig = plt.figure(figsize=(10, 7))\n",
    "        \n",
    "        for i in range(1, 17):\n",
    "            fig.add_subplot(rows, columns, i)\n",
    "            plt.imshow(g_im[i-1])\n",
    "\n",
    "        plt.tight_layout()\n",
    "        plt.show()\n",
    "    \n",
    "    print(f\"Epoch: {epoch}, Gen Loss: {s_g/len(train_data):.6f}, Discriminator Loss: {s_d/len(train_data):.6f}\")"
   ]
  }
 ],
 "metadata": {
  "kernelspec": {
   "display_name": "Python 3 (ipykernel)",
   "language": "python",
   "name": "python3"
  },
  "language_info": {
   "codemirror_mode": {
    "name": "ipython",
    "version": 3
   },
   "file_extension": ".py",
   "mimetype": "text/x-python",
   "name": "python",
   "nbconvert_exporter": "python",
   "pygments_lexer": "ipython3",
   "version": "3.8.3"
  }
 },
 "nbformat": 4,
 "nbformat_minor": 5
}
