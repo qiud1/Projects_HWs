{
 "cells": [
  {
   "cell_type": "markdown",
   "id": "ced627f7-c97c-48cf-9028-17b3735b7f50",
   "metadata": {
    "tags": []
   },
   "source": [
    "## HW1: Logistic Regression Implementation"
   ]
  },
  {
   "cell_type": "markdown",
   "id": "aeffed3e-c1eb-44a4-9767-dc89515ab052",
   "metadata": {
    "tags": []
   },
   "source": [
    "### Task 1: Describe a machine learning problem that you would like to solve using Logistic Regression. Clearly state why Logistic regression is the best choice for solving this problem."
   ]
  },
  {
   "cell_type": "markdown",
   "id": "6bdcd415-8a4f-4ce5-ae90-d95a31292784",
   "metadata": {},
   "source": [
    "A machine learning problem that I would like to solve using Logistic Regression would be determining whether or not a buyer on a shopping website will buy a product after viewing an ad for the product. Logistic Regression is the best choice for solving this problem because this is a classification problem where we can easily use logistic regression to estimate a separator to distinguish between a successful ad and an unsuccessful one given categorical data, especially when we already have the expected output. Since the output should be binary, we cannot use linear regression."
   ]
  },
  {
   "cell_type": "markdown",
   "id": "65865c6c-47fc-44be-9a6c-f0bc3a161a22",
   "metadata": {
    "tags": []
   },
   "source": [
    "### Task 2:\n",
    "The dataset to be used will be sourced from https://www.kaggle.com/datasets/dragonheir/logistic-regression?resource=download. This is a dataset containing 5 categories of information: user id, gender, age, salary, and a binary value denoting whether or not the user purchased the advertised product. The dataset is available in the HW1 folder. The following section will conduct Exploratory Data Analysis on this dataset."
   ]
  },
  {
   "cell_type": "code",
   "execution_count": 1,
   "id": "c685f2e2-5564-471f-a946-cd16043d467a",
   "metadata": {},
   "outputs": [],
   "source": [
    "import torch\n",
    "import torch.nn as nn\n",
    "import torch.optim as optim\n",
    "import torch.utils.data as du\n",
    "import torch.nn.functional as F\n",
    "import random\n",
    "import numpy as np\n",
    "import pandas as pd\n",
    "import sklearn\n",
    "from tqdm import tqdm\n",
    "from sklearn.model_selection import train_test_split\n",
    "import matplotlib.pyplot as plt"
   ]
  },
  {
   "cell_type": "markdown",
   "id": "178510ec-6b86-4d4f-b379-2ea55de6d8ca",
   "metadata": {},
   "source": [
    "Load the dataset and look at the data's structure. (The path may need to be adjusted accordingly) "
   ]
  },
  {
   "cell_type": "code",
   "execution_count": 2,
   "id": "a315dd8b-cb43-4f77-9c69-c584037606fc",
   "metadata": {},
   "outputs": [
    {
     "data": {
      "text/html": [
       "<div>\n",
       "<style scoped>\n",
       "    .dataframe tbody tr th:only-of-type {\n",
       "        vertical-align: middle;\n",
       "    }\n",
       "\n",
       "    .dataframe tbody tr th {\n",
       "        vertical-align: top;\n",
       "    }\n",
       "\n",
       "    .dataframe thead th {\n",
       "        text-align: right;\n",
       "    }\n",
       "</style>\n",
       "<table border=\"1\" class=\"dataframe\">\n",
       "  <thead>\n",
       "    <tr style=\"text-align: right;\">\n",
       "      <th></th>\n",
       "      <th>User ID</th>\n",
       "      <th>Gender</th>\n",
       "      <th>Age</th>\n",
       "      <th>EstimatedSalary</th>\n",
       "      <th>Purchased</th>\n",
       "    </tr>\n",
       "  </thead>\n",
       "  <tbody>\n",
       "    <tr>\n",
       "      <th>0</th>\n",
       "      <td>15624510</td>\n",
       "      <td>Male</td>\n",
       "      <td>19</td>\n",
       "      <td>19000</td>\n",
       "      <td>0</td>\n",
       "    </tr>\n",
       "    <tr>\n",
       "      <th>1</th>\n",
       "      <td>15810944</td>\n",
       "      <td>Male</td>\n",
       "      <td>35</td>\n",
       "      <td>20000</td>\n",
       "      <td>0</td>\n",
       "    </tr>\n",
       "    <tr>\n",
       "      <th>2</th>\n",
       "      <td>15668575</td>\n",
       "      <td>Female</td>\n",
       "      <td>26</td>\n",
       "      <td>43000</td>\n",
       "      <td>0</td>\n",
       "    </tr>\n",
       "    <tr>\n",
       "      <th>3</th>\n",
       "      <td>15603246</td>\n",
       "      <td>Female</td>\n",
       "      <td>27</td>\n",
       "      <td>57000</td>\n",
       "      <td>0</td>\n",
       "    </tr>\n",
       "    <tr>\n",
       "      <th>4</th>\n",
       "      <td>15804002</td>\n",
       "      <td>Male</td>\n",
       "      <td>19</td>\n",
       "      <td>76000</td>\n",
       "      <td>0</td>\n",
       "    </tr>\n",
       "  </tbody>\n",
       "</table>\n",
       "</div>"
      ],
      "text/plain": [
       "    User ID  Gender  Age  EstimatedSalary  Purchased\n",
       "0  15624510    Male   19            19000          0\n",
       "1  15810944    Male   35            20000          0\n",
       "2  15668575  Female   26            43000          0\n",
       "3  15603246  Female   27            57000          0\n",
       "4  15804002    Male   19            76000          0"
      ]
     },
     "execution_count": 2,
     "metadata": {},
     "output_type": "execute_result"
    }
   ],
   "source": [
    "ads_data = pd.read_csv(\"../../PIML/HW1/Social_Network_Ads.csv\")\n",
    "ads_data.head(5)"
   ]
  },
  {
   "cell_type": "code",
   "execution_count": 3,
   "id": "332d5933-d52f-47d3-beb6-29588aa45bdc",
   "metadata": {},
   "outputs": [
    {
     "data": {
      "text/html": [
       "<div>\n",
       "<style scoped>\n",
       "    .dataframe tbody tr th:only-of-type {\n",
       "        vertical-align: middle;\n",
       "    }\n",
       "\n",
       "    .dataframe tbody tr th {\n",
       "        vertical-align: top;\n",
       "    }\n",
       "\n",
       "    .dataframe thead th {\n",
       "        text-align: right;\n",
       "    }\n",
       "</style>\n",
       "<table border=\"1\" class=\"dataframe\">\n",
       "  <thead>\n",
       "    <tr style=\"text-align: right;\">\n",
       "      <th></th>\n",
       "      <th>User ID</th>\n",
       "      <th>Gender</th>\n",
       "      <th>Age</th>\n",
       "      <th>EstimatedSalary</th>\n",
       "      <th>Purchased</th>\n",
       "    </tr>\n",
       "  </thead>\n",
       "  <tbody>\n",
       "    <tr>\n",
       "      <th>395</th>\n",
       "      <td>15691863</td>\n",
       "      <td>Female</td>\n",
       "      <td>46</td>\n",
       "      <td>41000</td>\n",
       "      <td>1</td>\n",
       "    </tr>\n",
       "    <tr>\n",
       "      <th>396</th>\n",
       "      <td>15706071</td>\n",
       "      <td>Male</td>\n",
       "      <td>51</td>\n",
       "      <td>23000</td>\n",
       "      <td>1</td>\n",
       "    </tr>\n",
       "    <tr>\n",
       "      <th>397</th>\n",
       "      <td>15654296</td>\n",
       "      <td>Female</td>\n",
       "      <td>50</td>\n",
       "      <td>20000</td>\n",
       "      <td>1</td>\n",
       "    </tr>\n",
       "    <tr>\n",
       "      <th>398</th>\n",
       "      <td>15755018</td>\n",
       "      <td>Male</td>\n",
       "      <td>36</td>\n",
       "      <td>33000</td>\n",
       "      <td>0</td>\n",
       "    </tr>\n",
       "    <tr>\n",
       "      <th>399</th>\n",
       "      <td>15594041</td>\n",
       "      <td>Female</td>\n",
       "      <td>49</td>\n",
       "      <td>36000</td>\n",
       "      <td>1</td>\n",
       "    </tr>\n",
       "  </tbody>\n",
       "</table>\n",
       "</div>"
      ],
      "text/plain": [
       "      User ID  Gender  Age  EstimatedSalary  Purchased\n",
       "395  15691863  Female   46            41000          1\n",
       "396  15706071    Male   51            23000          1\n",
       "397  15654296  Female   50            20000          1\n",
       "398  15755018    Male   36            33000          0\n",
       "399  15594041  Female   49            36000          1"
      ]
     },
     "execution_count": 3,
     "metadata": {},
     "output_type": "execute_result"
    }
   ],
   "source": [
    "ads_data.tail(5)"
   ]
  },
  {
   "cell_type": "markdown",
   "id": "7bd9f2c4-71db-4a09-9bae-5bd1b950a4a4",
   "metadata": {},
   "source": [
    "Confirm that there are no missing values in the data"
   ]
  },
  {
   "cell_type": "code",
   "execution_count": 4,
   "id": "16ceb505-37c8-4cb1-88c1-157a6856f62e",
   "metadata": {},
   "outputs": [
    {
     "data": {
      "text/plain": [
       "User ID            0\n",
       "Gender             0\n",
       "Age                0\n",
       "EstimatedSalary    0\n",
       "Purchased          0\n",
       "dtype: int64"
      ]
     },
     "execution_count": 4,
     "metadata": {},
     "output_type": "execute_result"
    }
   ],
   "source": [
    "ads_data.isnull().sum()"
   ]
  },
  {
   "cell_type": "markdown",
   "id": "47063b59-c4a6-4dd8-9eb4-85c7415d1805",
   "metadata": {},
   "source": [
    "Looking at the data, the User ID is irrevalent and will be dropped."
   ]
  },
  {
   "cell_type": "code",
   "execution_count": 5,
   "id": "411680f2-bc55-4319-90a9-7c68b644008d",
   "metadata": {},
   "outputs": [],
   "source": [
    "ads_data = ads_data.drop(\"User ID\", axis = 1)"
   ]
  },
  {
   "cell_type": "markdown",
   "id": "0839c621-f356-4dd7-bcf9-f78cab7f93ff",
   "metadata": {},
   "source": [
    "Confirm that the column has been dropped."
   ]
  },
  {
   "cell_type": "code",
   "execution_count": 6,
   "id": "128ce8d8-3e00-4afe-98fe-9b53188b2362",
   "metadata": {},
   "outputs": [
    {
     "data": {
      "text/html": [
       "<div>\n",
       "<style scoped>\n",
       "    .dataframe tbody tr th:only-of-type {\n",
       "        vertical-align: middle;\n",
       "    }\n",
       "\n",
       "    .dataframe tbody tr th {\n",
       "        vertical-align: top;\n",
       "    }\n",
       "\n",
       "    .dataframe thead th {\n",
       "        text-align: right;\n",
       "    }\n",
       "</style>\n",
       "<table border=\"1\" class=\"dataframe\">\n",
       "  <thead>\n",
       "    <tr style=\"text-align: right;\">\n",
       "      <th></th>\n",
       "      <th>Gender</th>\n",
       "      <th>Age</th>\n",
       "      <th>EstimatedSalary</th>\n",
       "      <th>Purchased</th>\n",
       "    </tr>\n",
       "  </thead>\n",
       "  <tbody>\n",
       "    <tr>\n",
       "      <th>0</th>\n",
       "      <td>Male</td>\n",
       "      <td>19</td>\n",
       "      <td>19000</td>\n",
       "      <td>0</td>\n",
       "    </tr>\n",
       "    <tr>\n",
       "      <th>1</th>\n",
       "      <td>Male</td>\n",
       "      <td>35</td>\n",
       "      <td>20000</td>\n",
       "      <td>0</td>\n",
       "    </tr>\n",
       "    <tr>\n",
       "      <th>2</th>\n",
       "      <td>Female</td>\n",
       "      <td>26</td>\n",
       "      <td>43000</td>\n",
       "      <td>0</td>\n",
       "    </tr>\n",
       "    <tr>\n",
       "      <th>3</th>\n",
       "      <td>Female</td>\n",
       "      <td>27</td>\n",
       "      <td>57000</td>\n",
       "      <td>0</td>\n",
       "    </tr>\n",
       "    <tr>\n",
       "      <th>4</th>\n",
       "      <td>Male</td>\n",
       "      <td>19</td>\n",
       "      <td>76000</td>\n",
       "      <td>0</td>\n",
       "    </tr>\n",
       "  </tbody>\n",
       "</table>\n",
       "</div>"
      ],
      "text/plain": [
       "   Gender  Age  EstimatedSalary  Purchased\n",
       "0    Male   19            19000          0\n",
       "1    Male   35            20000          0\n",
       "2  Female   26            43000          0\n",
       "3  Female   27            57000          0\n",
       "4    Male   19            76000          0"
      ]
     },
     "execution_count": 6,
     "metadata": {},
     "output_type": "execute_result"
    }
   ],
   "source": [
    "ads_data.head(5)"
   ]
  },
  {
   "cell_type": "markdown",
   "id": "d206ccb0-d6de-43b3-a972-df02981e2266",
   "metadata": {},
   "source": [
    "The genders Male and Female will be converted to binary (0 and 1 respectively) representation so that it can be interpreted by the logistic regression."
   ]
  },
  {
   "cell_type": "code",
   "execution_count": 7,
   "id": "802e3184-21a6-40f8-a78f-bb2092a46595",
   "metadata": {},
   "outputs": [],
   "source": [
    "g_to_b = {\"Male\": 0, \"Female\": 1}\n",
    "ads_data = ads_data.replace(g_to_b)"
   ]
  },
  {
   "cell_type": "markdown",
   "id": "eb6adb52-b4a8-4cb1-8e12-14f627dd44aa",
   "metadata": {},
   "source": [
    "Confirm that the data has been remapped."
   ]
  },
  {
   "cell_type": "code",
   "execution_count": 8,
   "id": "3e113616-bf96-44da-83a5-469a9c3b5ff0",
   "metadata": {},
   "outputs": [
    {
     "data": {
      "text/html": [
       "<div>\n",
       "<style scoped>\n",
       "    .dataframe tbody tr th:only-of-type {\n",
       "        vertical-align: middle;\n",
       "    }\n",
       "\n",
       "    .dataframe tbody tr th {\n",
       "        vertical-align: top;\n",
       "    }\n",
       "\n",
       "    .dataframe thead th {\n",
       "        text-align: right;\n",
       "    }\n",
       "</style>\n",
       "<table border=\"1\" class=\"dataframe\">\n",
       "  <thead>\n",
       "    <tr style=\"text-align: right;\">\n",
       "      <th></th>\n",
       "      <th>Gender</th>\n",
       "      <th>Age</th>\n",
       "      <th>EstimatedSalary</th>\n",
       "      <th>Purchased</th>\n",
       "    </tr>\n",
       "  </thead>\n",
       "  <tbody>\n",
       "    <tr>\n",
       "      <th>0</th>\n",
       "      <td>0</td>\n",
       "      <td>19</td>\n",
       "      <td>19000</td>\n",
       "      <td>0</td>\n",
       "    </tr>\n",
       "    <tr>\n",
       "      <th>1</th>\n",
       "      <td>0</td>\n",
       "      <td>35</td>\n",
       "      <td>20000</td>\n",
       "      <td>0</td>\n",
       "    </tr>\n",
       "    <tr>\n",
       "      <th>2</th>\n",
       "      <td>1</td>\n",
       "      <td>26</td>\n",
       "      <td>43000</td>\n",
       "      <td>0</td>\n",
       "    </tr>\n",
       "    <tr>\n",
       "      <th>3</th>\n",
       "      <td>1</td>\n",
       "      <td>27</td>\n",
       "      <td>57000</td>\n",
       "      <td>0</td>\n",
       "    </tr>\n",
       "    <tr>\n",
       "      <th>4</th>\n",
       "      <td>0</td>\n",
       "      <td>19</td>\n",
       "      <td>76000</td>\n",
       "      <td>0</td>\n",
       "    </tr>\n",
       "  </tbody>\n",
       "</table>\n",
       "</div>"
      ],
      "text/plain": [
       "   Gender  Age  EstimatedSalary  Purchased\n",
       "0       0   19            19000          0\n",
       "1       0   35            20000          0\n",
       "2       1   26            43000          0\n",
       "3       1   27            57000          0\n",
       "4       0   19            76000          0"
      ]
     },
     "execution_count": 8,
     "metadata": {},
     "output_type": "execute_result"
    }
   ],
   "source": [
    "ads_data.head(5)"
   ]
  },
  {
   "cell_type": "markdown",
   "id": "e9dbe277-1dca-438f-afe3-8da79d28667e",
   "metadata": {},
   "source": [
    "Scale the dataset by normalizing it."
   ]
  },
  {
   "cell_type": "code",
   "execution_count": 9,
   "id": "976cdef0-d6aa-4acf-8f15-b371e022e633",
   "metadata": {},
   "outputs": [],
   "source": [
    "def normalize(x):\n",
    "    \"\"\"\n",
    "    Normalizes the data within dataframe x\n",
    "    \"\"\"\n",
    "    x_norm = (x-x.min())/(x.max()-x.min())\n",
    "    return x_norm"
   ]
  },
  {
   "cell_type": "code",
   "execution_count": 10,
   "id": "ab47c7ef-e4b4-4751-adb3-17eb8aa279fa",
   "metadata": {},
   "outputs": [],
   "source": [
    "ads_data = normalize(ads_data)"
   ]
  },
  {
   "cell_type": "markdown",
   "id": "b0294ccf-461b-43ec-8b66-a06ed133baf6",
   "metadata": {},
   "source": [
    "Confirm that the data has been normalized."
   ]
  },
  {
   "cell_type": "code",
   "execution_count": 11,
   "id": "49677f14-4163-470a-bb88-3e729bc5b289",
   "metadata": {},
   "outputs": [
    {
     "data": {
      "text/html": [
       "<div>\n",
       "<style scoped>\n",
       "    .dataframe tbody tr th:only-of-type {\n",
       "        vertical-align: middle;\n",
       "    }\n",
       "\n",
       "    .dataframe tbody tr th {\n",
       "        vertical-align: top;\n",
       "    }\n",
       "\n",
       "    .dataframe thead th {\n",
       "        text-align: right;\n",
       "    }\n",
       "</style>\n",
       "<table border=\"1\" class=\"dataframe\">\n",
       "  <thead>\n",
       "    <tr style=\"text-align: right;\">\n",
       "      <th></th>\n",
       "      <th>Gender</th>\n",
       "      <th>Age</th>\n",
       "      <th>EstimatedSalary</th>\n",
       "      <th>Purchased</th>\n",
       "    </tr>\n",
       "  </thead>\n",
       "  <tbody>\n",
       "    <tr>\n",
       "      <th>0</th>\n",
       "      <td>0.0</td>\n",
       "      <td>0.023810</td>\n",
       "      <td>0.029630</td>\n",
       "      <td>0.0</td>\n",
       "    </tr>\n",
       "    <tr>\n",
       "      <th>1</th>\n",
       "      <td>0.0</td>\n",
       "      <td>0.404762</td>\n",
       "      <td>0.037037</td>\n",
       "      <td>0.0</td>\n",
       "    </tr>\n",
       "    <tr>\n",
       "      <th>2</th>\n",
       "      <td>1.0</td>\n",
       "      <td>0.190476</td>\n",
       "      <td>0.207407</td>\n",
       "      <td>0.0</td>\n",
       "    </tr>\n",
       "    <tr>\n",
       "      <th>3</th>\n",
       "      <td>1.0</td>\n",
       "      <td>0.214286</td>\n",
       "      <td>0.311111</td>\n",
       "      <td>0.0</td>\n",
       "    </tr>\n",
       "    <tr>\n",
       "      <th>4</th>\n",
       "      <td>0.0</td>\n",
       "      <td>0.023810</td>\n",
       "      <td>0.451852</td>\n",
       "      <td>0.0</td>\n",
       "    </tr>\n",
       "  </tbody>\n",
       "</table>\n",
       "</div>"
      ],
      "text/plain": [
       "   Gender       Age  EstimatedSalary  Purchased\n",
       "0     0.0  0.023810         0.029630        0.0\n",
       "1     0.0  0.404762         0.037037        0.0\n",
       "2     1.0  0.190476         0.207407        0.0\n",
       "3     1.0  0.214286         0.311111        0.0\n",
       "4     0.0  0.023810         0.451852        0.0"
      ]
     },
     "execution_count": 11,
     "metadata": {},
     "output_type": "execute_result"
    }
   ],
   "source": [
    "ads_data.head(5)"
   ]
  },
  {
   "cell_type": "markdown",
   "id": "ea720d29-874a-48dc-adfc-678885dbb8a2",
   "metadata": {},
   "source": [
    "View the Data"
   ]
  },
  {
   "cell_type": "code",
   "execution_count": 12,
   "id": "38f3d400-dbd2-4a99-808c-d8b649fa17c7",
   "metadata": {},
   "outputs": [
    {
     "data": {
      "image/png": "[encoded data removed]",
      "text/plain": [
       "<Figure size 432x288 with 1 Axes>"
      ]
     },
     "metadata": {
      "needs_background": "light"
     },
     "output_type": "display_data"
    }
   ],
   "source": [
    "fig = plt.figure()\n",
    "ax = plt.axes(projection ='3d')\n",
    "ads_arr = ads_data.to_numpy()\n",
    "ax.scatter(ads_arr[:,0], ads_arr[:,1], ads_arr[:,2], c=ads_arr[:,3], cmap='Set1', alpha=1)\n",
    "plt.show()"
   ]
  },
  {
   "cell_type": "markdown",
   "id": "89883ac2-13f8-46b3-a27b-114d2bbe5b73",
   "metadata": {
    "tags": []
   },
   "source": [
    "### Task 3 and 4:\n",
    "Implementing Logistic Regression with an Optimizer"
   ]
  },
  {
   "cell_type": "code",
   "execution_count": 13,
   "id": "8fa4ca7d-fe68-48ae-acbe-29205621b84f",
   "metadata": {},
   "outputs": [],
   "source": [
    "class LR(nn.Module):\n",
    "    \"\"\"\n",
    "    An implementation of Logistic Regression.\n",
    "    self.weights: The learned weights from logistic regression.\n",
    "    self.bias: The learned bias from logistic regression.\n",
    "    \"\"\"\n",
    "    \n",
    "    def __init__(self, in_dim, batch_size):\n",
    "        \"\"\"\n",
    "        in_dim: the dimensions of the input tensor\n",
    "        batch_size: the size of the batch\n",
    "        \"\"\"\n",
    "        super(LR, self).__init__()\n",
    "        \n",
    "        self.weights = nn.Parameter(torch.randn(in_dim, 1), requires_grad=True)\n",
    "        self.bias = nn.Parameter(torch.randn(1), requires_grad=True)\n",
    "    \n",
    "    def sigmoid(self, a):\n",
    "        \"\"\"\n",
    "        Applies the sigmoid function on the given input tensor.\n",
    "        a: a pytorch tensor\n",
    "        \"\"\"\n",
    "        return 1.0/(1 + torch.exp(-a))\n",
    "        \n",
    "    def get_w(self):\n",
    "        \"\"\"\n",
    "        Returns the weights of the model\n",
    "        \"\"\"\n",
    "        return self.weights\n",
    "    \n",
    "    def get_b(self):\n",
    "        \"\"\"\n",
    "        Returns the bias of the model\n",
    "        \"\"\"\n",
    "        return self.bias\n",
    "    \n",
    "    def update_grad(self, dw, db):\n",
    "        \"\"\"\n",
    "        Updates the gradients of the model\n",
    "        dw: the weight gradient\n",
    "        db: the bias gradient\n",
    "        \"\"\"\n",
    "        self.weights.grad = dw.clone()\n",
    "        self.bias.grad = db.clone()\n",
    "        \n",
    "    def back(self, new_w, new_b):\n",
    "        \"\"\"\n",
    "        Updates the weight and bias\n",
    "        new_w: the new weight\n",
    "        new_b: the new bias\n",
    "        \"\"\"\n",
    "        self.weights = nn.Parameter(new_w)\n",
    "        self.bias = nn.Parameter(new_b)\n",
    "    \n",
    "    def forward(self, x):\n",
    "        \"\"\"\n",
    "        Calculates a separator using logistic regression.\n",
    "        x: the input tensor\n",
    "        \"\"\"\n",
    "        pred = torch.matmul(self.weights.T, x.T) + self.bias\n",
    "        A = self.sigmoid(pred)\n",
    "        return A"
   ]
  },
  {
   "cell_type": "markdown",
   "id": "3bfe812a-c1ae-4984-9a00-aecc62e76e86",
   "metadata": {},
   "source": [
    "Create the Dataset Class"
   ]
  },
  {
   "cell_type": "code",
   "execution_count": 14,
   "id": "63bb60cb-738b-471a-8cc6-a8ef5ddf69ea",
   "metadata": {},
   "outputs": [],
   "source": [
    "class AdDataset(du.Dataset):\n",
    "    \"\"\"\n",
    "    Represents the ad data and is passed into the dataloader to return by batch.\n",
    "    self.ads: a 2d tensor of arrays of contextual information.\n",
    "    \"\"\"\n",
    "    def __init__(self, ads):\n",
    "        super(AdDataset, self).__init__() \n",
    "        self.ads = ads\n",
    "        \n",
    "    def __len__(self):\n",
    "        \"\"\"\n",
    "        Returns the number of samples.\n",
    "        \"\"\"\n",
    "        return len(self.ads)\n",
    "        \n",
    "    def __getitem__(self, idx):\n",
    "        \"\"\"\n",
    "        Generates context information and expected classification results\n",
    "        by batch and returns both as a tuple.\n",
    "        \"\"\"\n",
    "        users = self.ads[idx]\n",
    "        context = torch.tensor(users[1:4])\n",
    "        labels = torch.tensor(users[-1])\n",
    "\n",
    "        return context, labels"
   ]
  },
  {
   "cell_type": "markdown",
   "id": "982e8839-b3ee-462c-b0a5-cb0b3e1e2817",
   "metadata": {},
   "source": [
    "Initialize Model Parameters"
   ]
  },
  {
   "cell_type": "code",
   "execution_count": 15,
   "id": "e6f8c9cc-3283-4805-8e7f-22fb7bec311c",
   "metadata": {},
   "outputs": [
    {
     "name": "stdout",
     "output_type": "stream",
     "text": [
      "using device: cpu\n"
     ]
    }
   ],
   "source": [
    "#pick the device\n",
    "device = f'cuda:0' if torch.cuda.is_available() else 'cpu'\n",
    "print(f\"using device: {device}\")\n",
    "\n",
    "#Prepare parameters\n",
    "epochs = 5\n",
    "learning_rate = 0.02\n",
    "batch_size = 10\n",
    "ads = ads_data.to_numpy()\n",
    "in_dim = ads.shape[1]-1"
   ]
  },
  {
   "cell_type": "markdown",
   "id": "0b527b19-d1f2-4194-ab4f-479a4707955d",
   "metadata": {},
   "source": [
    "Initialize the Dataloader"
   ]
  },
  {
   "cell_type": "code",
   "execution_count": 16,
   "id": "a6c3e238-b738-44b7-95f1-498d97b490b0",
   "metadata": {},
   "outputs": [],
   "source": [
    "#split the data into train and test data\n",
    "train_ads, test_ads = train_test_split(ads, train_size = 0.85, test_size = 0.15)\n",
    "\n",
    "#load train data\n",
    "train_data = AdDataset(train_ads)\n",
    "train_loader = du.DataLoader(dataset = train_data, batch_size = batch_size, shuffle = True)\n",
    "\n",
    "#load test data\n",
    "test_data = AdDataset(test_ads)\n",
    "test_loader = du.DataLoader(dataset = test_data, batch_size = batch_size, shuffle = True)"
   ]
  },
  {
   "cell_type": "markdown",
   "id": "9b58a1d2-7894-4d4d-aa96-072af2696a6d",
   "metadata": {
    "tags": []
   },
   "source": [
    " ### Task 3: Defining Two forms of Gradient Descent"
   ]
  },
  {
   "cell_type": "code",
   "execution_count": 17,
   "id": "2ff35449-af36-4612-8ca0-9416668e20e5",
   "metadata": {},
   "outputs": [],
   "source": [
    "def calculate_gradients(model, contexts, pred, targets, batch_size):\n",
    "    \"\"\"\n",
    "    Calculates the gradients given the contexts, predictions, batch size, and targets.\n",
    "    \"\"\"\n",
    "    dw = torch.matmul(contexts.T, (pred-targets).T)/batch_size\n",
    "    db = torch.sum(pred-targets)/batch_size\n",
    "    model.update_grad(dw, db.unsqueeze(0))\n",
    "    \n",
    "    return dw, db"
   ]
  },
  {
   "cell_type": "code",
   "execution_count": 18,
   "id": "d900085f-cd77-4a11-afe5-2dda91d3679d",
   "metadata": {},
   "outputs": [],
   "source": [
    "def batch_gd(model, dw, db, learning_rate):\n",
    "    \"\"\"\n",
    "    Minibatch Gradient Descent\n",
    "    Updates the gradients of the model.\n",
    "    \"\"\"\n",
    "    new_w = model.get_w() - learning_rate*dw\n",
    "    new_b = model.get_b() - learning_rate*db\n",
    "    \n",
    "    model.back(new_w, new_b)"
   ]
  },
  {
   "cell_type": "code",
   "execution_count": 19,
   "id": "8ed7264d-8f33-444b-9476-b49cdf96be14",
   "metadata": {},
   "outputs": [],
   "source": [
    "def stochastic_gd(model, optimizer, contexts, pred, targets, learning_rate):\n",
    "    \"\"\"\n",
    "    Stochastic gradient descent\n",
    "    model: the model being trained\n",
    "    learning_rate: the model's learning rate\n",
    "    contexts: the features used to predict\n",
    "    pred: the predictions\n",
    "    targets: the actual classifiers\n",
    "    \"\"\"\n",
    "    \n",
    "    for i in range(pred.shape[1]):\n",
    "        p = pred[:,i]\n",
    "        tg = targets[i]\n",
    "        ct = contexts[i]\n",
    "        \n",
    "        #calculate gradients\n",
    "        dw = torch.matmul(ct.unsqueeze(-1), (p-tg).T)\n",
    "        db = torch.sum(p-tg)\n",
    "        dw = dw.unsqueeze(-1)\n",
    "        model.update_grad(dw, db.unsqueeze(-1))\n",
    "        \n",
    "        #step with optimizer\n",
    "        optimizer.step()\n",
    "        \n",
    "        #do gradient descent\n",
    "        new_w = model.get_w() - learning_rate*dw\n",
    "        new_b = model.get_b() - learning_rate*db\n",
    "        model.back(new_w, new_b)"
   ]
  },
  {
   "cell_type": "markdown",
   "id": "cee92ebf-0888-44c7-afb6-8ae6297d9f5e",
   "metadata": {},
   "source": [
    "Initialize the Two Models Without Optimizers."
   ]
  },
  {
   "cell_type": "code",
   "execution_count": 20,
   "id": "bb626bf7-d7c6-43b5-9999-e91c25bd03f5",
   "metadata": {},
   "outputs": [
    {
     "data": {
      "text/plain": [
       "LR()"
      ]
     },
     "execution_count": 20,
     "metadata": {},
     "output_type": "execute_result"
    }
   ],
   "source": [
    "model_ada = LR(in_dim, batch_size)\n",
    "model_ada.to(device)\n",
    "model_ada.train()\n",
    "\n",
    "model_sgd = LR(in_dim, batch_size)\n",
    "model_sgd = model_sgd.to(device)\n",
    "model_sgd.train()"
   ]
  },
  {
   "cell_type": "markdown",
   "id": "ef39edb5-60be-4c79-a1ca-0b37240c679f",
   "metadata": {},
   "source": [
    "Train the Models"
   ]
  },
  {
   "cell_type": "code",
   "execution_count": 21,
   "id": "4d0a8e73-75b8-4de3-94bb-6d99ce316e63",
   "metadata": {},
   "outputs": [
    {
     "name": "stderr",
     "output_type": "stream",
     "text": [
      "100%|██████████| 34/34 [00:00<00:00, 1389.32it/s]\n"
     ]
    },
    {
     "name": "stdout",
     "output_type": "stream",
     "text": [
      "Epoch: 1, SGD Acc: 0.355882, SGD Cost: nan, Ada Acc: 0.458824, Ada Cost: nan\n"
     ]
    },
    {
     "name": "stderr",
     "output_type": "stream",
     "text": [
      "100%|██████████| 34/34 [00:00<00:00, 1450.78it/s]\n"
     ]
    },
    {
     "name": "stdout",
     "output_type": "stream",
     "text": [
      "Epoch: 2, SGD Acc: 0.361765, SGD Cost: nan, Ada Acc: 0.817647, Ada Cost: nan\n"
     ]
    },
    {
     "name": "stderr",
     "output_type": "stream",
     "text": [
      "100%|██████████| 34/34 [00:00<00:00, 1444.14it/s]\n"
     ]
    },
    {
     "name": "stdout",
     "output_type": "stream",
     "text": [
      "Epoch: 3, SGD Acc: 0.470588, SGD Cost: nan, Ada Acc: 0.902941, Ada Cost: nan\n"
     ]
    },
    {
     "name": "stderr",
     "output_type": "stream",
     "text": [
      "100%|██████████| 34/34 [00:00<00:00, 972.59it/s]\n"
     ]
    },
    {
     "name": "stdout",
     "output_type": "stream",
     "text": [
      "Epoch: 4, SGD Acc: 0.688235, SGD Cost: nan, Ada Acc: 0.947059, Ada Cost: nan\n"
     ]
    },
    {
     "name": "stderr",
     "output_type": "stream",
     "text": [
      "100%|██████████| 34/34 [00:00<00:00, 978.81it/s]"
     ]
    },
    {
     "name": "stdout",
     "output_type": "stream",
     "text": [
      "Epoch: 5, SGD Acc: 0.852941, SGD Cost: nan, Ada Acc: 0.973529, Ada Cost: nan\n"
     ]
    },
    {
     "name": "stderr",
     "output_type": "stream",
     "text": [
      "\n"
     ]
    }
   ],
   "source": [
    "for epoch in range(1, epochs+1):\n",
    "    sgd_corr, ada_corr, total_samp, sgd_cost, ada_cost = 0, 0, 0, 0, 0\n",
    "    for batch_idx, (contexts, targets) in enumerate(tqdm(train_loader)):\n",
    "        \n",
    "        #standardize input to floats\n",
    "        contexts, targets = contexts.float(), targets.float()\n",
    "        \n",
    "        #Calculate Logistic Regression\n",
    "        pred_s = model_sgd(contexts)\n",
    "        pred_a = model_ada(contexts)\n",
    "        \n",
    "        #convert probabilities to 0 or 1 compared to 0.5.\n",
    "        pred_s = (pred_s > 0.5).float()\n",
    "        pred_a = (pred_a > 0.5).float()\n",
    "        \n",
    "        #Calculate Accuracy\n",
    "        sgd_corr += torch.sum(pred_s == targets)\n",
    "        ada_corr += torch.sum(pred_a == targets)\n",
    "        \n",
    "        #calculate the costs\n",
    "        sgd_cost += torch.sum(targets * torch.log(pred_s) + (1-targets) * (torch.log(1-pred_s)))\n",
    "        ada_cost += torch.sum(targets * torch.log(pred_a) + (1-targets) * (torch.log(1-pred_a)))\n",
    "        \n",
    "        #Update gradients\n",
    "        dw_s, db_s = calculate_gradients(model_sgd, contexts, pred_s, targets, batch_size)\n",
    "        dw_a, db_a = calculate_gradients(model_ada, contexts, pred_a, targets, batch_size)\n",
    "        \n",
    "        #do gradient descent\n",
    "        batch_gd(model_sgd, dw_s, db_s, learning_rate)\n",
    "        batch_gd(model_ada, dw_a, db_a, learning_rate)\n",
    "    \n",
    "    total_samp = (len(train_loader)*batch_size)\n",
    "    print(f\"Epoch: {epoch}, SGD Acc: {sgd_corr/total_samp:.6f}, SGD Cost: {sgd_cost/total_samp:.6f}, Ada Acc: {ada_corr/total_samp:.6f}, Ada Cost: {ada_cost/total_samp:.6f}\")"
   ]
  },
  {
   "cell_type": "markdown",
   "id": "f2daa1fb-5ebf-4669-9eab-0b4a9648ba24",
   "metadata": {},
   "source": [
    "Evaluate the Model"
   ]
  },
  {
   "cell_type": "code",
   "execution_count": 22,
   "id": "134d5549-86a7-4130-a63e-2c556e708007",
   "metadata": {},
   "outputs": [
    {
     "data": {
      "text/plain": [
       "LR()"
      ]
     },
     "execution_count": 22,
     "metadata": {},
     "output_type": "execute_result"
    }
   ],
   "source": [
    "model_sgd.eval()\n",
    "model_ada.eval()"
   ]
  },
  {
   "cell_type": "code",
   "execution_count": 23,
   "id": "4087d95c-4657-4f12-aa71-a241fe9804ff",
   "metadata": {},
   "outputs": [
    {
     "name": "stderr",
     "output_type": "stream",
     "text": [
      "100%|██████████| 6/6 [00:00<00:00, 1181.44it/s]"
     ]
    },
    {
     "name": "stdout",
     "output_type": "stream",
     "text": [
      "SGD Acc: 0.866667, SGD Cost: nan, Ada Acc: 0.983333, Ada Cost: nan\n"
     ]
    },
    {
     "name": "stderr",
     "output_type": "stream",
     "text": [
      "\n"
     ]
    }
   ],
   "source": [
    "sgd_corr, ada_corr, sgd_cost, ada_cost = 0., 0., 0., 0.\n",
    "for batch_idx, (contexts, targets) in enumerate(tqdm(test_loader)):\n",
    "\n",
    "    #standardize input to floats\n",
    "    contexts, targets = contexts.float(), targets.float()\n",
    "\n",
    "    #Calculate Logistic Regression\n",
    "    pred_s = model_sgd(contexts)\n",
    "    pred_a = model_ada(contexts)\n",
    "\n",
    "    #convert probabilities to 0 or 1 compared to 0.5.\n",
    "    pred_s = (pred_s > 0.5).float()\n",
    "    pred_a = (pred_a > 0.5).float()\n",
    "\n",
    "    #Calculate Accuracy\n",
    "    sgd_corr += torch.sum(pred_s == targets)\n",
    "    ada_corr += torch.sum(pred_a == targets)\n",
    "    \n",
    "    #calculate the costs\n",
    "    sgd_cost += torch.sum(targets * torch.log(pred_s) + (1-targets) * (torch.log(1-pred_s)))\n",
    "    ada_cost += torch.sum(targets * torch.log(pred_a) + (1-targets) * (torch.log(1-pred_a)))\n",
    "        \n",
    "total_samp = (len(test_loader)*batch_size)\n",
    "print(f\"SGD Acc: {sgd_corr/total_samp:.6f}, SGD Cost: {sgd_cost/total_samp:.6f}, Ada Acc: {ada_corr/total_samp:.6f}, Ada Cost: {ada_cost/total_samp:.6f}\")"
   ]
  },
  {
   "cell_type": "markdown",
   "id": "25864000-cad1-4fd4-ad9e-5fd72bea1ebf",
   "metadata": {
    "tags": []
   },
   "source": [
    "### Task 4: Initialize the Two Models and their Optimizers\n",
    "The two optimizers are SGD with Momentum and Adadelta"
   ]
  },
  {
   "cell_type": "code",
   "execution_count": 24,
   "id": "6e4fd7a4-44e1-4042-bfef-fd90405444d6",
   "metadata": {},
   "outputs": [
    {
     "data": {
      "text/plain": [
       "LR()"
      ]
     },
     "execution_count": 24,
     "metadata": {},
     "output_type": "execute_result"
    }
   ],
   "source": [
    "model_ada = LR(in_dim, batch_size)\n",
    "ada_optimizer = optim.Adadelta(model_ada.parameters(), lr = learning_rate)\n",
    "model_ada.to(device)\n",
    "model_ada.train()"
   ]
  },
  {
   "cell_type": "code",
   "execution_count": 25,
   "id": "7015bb84-2aca-4e21-baa9-05c3a485d5f0",
   "metadata": {},
   "outputs": [
    {
     "data": {
      "text/plain": [
       "LR()"
      ]
     },
     "execution_count": 25,
     "metadata": {},
     "output_type": "execute_result"
    }
   ],
   "source": [
    "model_sgd = LR(in_dim, batch_size)\n",
    "sgd_optimizer = optim.SGD(model_sgd.parameters(), lr = learning_rate, momentum = 0.7)\n",
    "model_sgd = model_sgd.to(device)\n",
    "model_sgd.train()"
   ]
  },
  {
   "cell_type": "markdown",
   "id": "750897ac-6250-4d61-b523-5ca52268a2fc",
   "metadata": {},
   "source": [
    "Predict Using the Model"
   ]
  },
  {
   "cell_type": "code",
   "execution_count": 26,
   "id": "64136b99-7511-41a7-b243-2aae427f20c9",
   "metadata": {
    "tags": []
   },
   "outputs": [
    {
     "name": "stderr",
     "output_type": "stream",
     "text": [
      "100%|██████████| 34/34 [00:00<00:00, 989.54it/s]\n"
     ]
    },
    {
     "name": "stdout",
     "output_type": "stream",
     "text": [
      "Epoch: 1, SGD Acc: 0.541176, SGD Cost: nan, Ada Acc: 0.355882, Ada Cost: nan\n"
     ]
    },
    {
     "name": "stderr",
     "output_type": "stream",
     "text": [
      "100%|██████████| 34/34 [00:00<00:00, 1053.43it/s]\n"
     ]
    },
    {
     "name": "stdout",
     "output_type": "stream",
     "text": [
      "Epoch: 2, SGD Acc: 0.576471, SGD Cost: nan, Ada Acc: 0.402941, Ada Cost: nan\n"
     ]
    },
    {
     "name": "stderr",
     "output_type": "stream",
     "text": [
      "100%|██████████| 34/34 [00:00<00:00, 1024.67it/s]\n"
     ]
    },
    {
     "name": "stdout",
     "output_type": "stream",
     "text": [
      "Epoch: 3, SGD Acc: 0.723529, SGD Cost: nan, Ada Acc: 0.582353, Ada Cost: nan\n"
     ]
    },
    {
     "name": "stderr",
     "output_type": "stream",
     "text": [
      "100%|██████████| 34/34 [00:00<00:00, 1011.04it/s]\n"
     ]
    },
    {
     "name": "stdout",
     "output_type": "stream",
     "text": [
      "Epoch: 4, SGD Acc: 0.823529, SGD Cost: nan, Ada Acc: 0.788235, Ada Cost: nan\n"
     ]
    },
    {
     "name": "stderr",
     "output_type": "stream",
     "text": [
      "100%|██████████| 34/34 [00:00<00:00, 1027.02it/s]"
     ]
    },
    {
     "name": "stdout",
     "output_type": "stream",
     "text": [
      "Epoch: 5, SGD Acc: 0.873529, SGD Cost: nan, Ada Acc: 0.923529, Ada Cost: nan\n"
     ]
    },
    {
     "name": "stderr",
     "output_type": "stream",
     "text": [
      "\n"
     ]
    }
   ],
   "source": [
    "for epoch in range(1, epochs+1):\n",
    "    sgd_corr, ada_corr, total_samp, sgd_cost, ada_cost = 0, 0, 0, 0, 0\n",
    "    for batch_idx, (contexts, targets) in enumerate(tqdm(train_loader)):\n",
    "        \n",
    "        #clear previous gradients\n",
    "        sgd_optimizer.zero_grad()\n",
    "        ada_optimizer.zero_grad()\n",
    "        \n",
    "        #standardize input to floats\n",
    "        contexts, targets = contexts.float(), targets.float()\n",
    "        \n",
    "        #Calculate Logistic Regression\n",
    "        pred_s = model_sgd(contexts)\n",
    "        pred_a = model_ada(contexts)\n",
    "        \n",
    "        #convert probabilities to 0 or 1 compared to 0.5.\n",
    "        pred_s = (pred_s > 0.5).float()\n",
    "        pred_a = (pred_a > 0.5).float()\n",
    "        \n",
    "        #Calculate Accuracy\n",
    "        sgd_corr += torch.sum(pred_s == targets)\n",
    "        ada_corr += torch.sum(pred_a == targets)\n",
    "        \n",
    "        #calculate the costs\n",
    "        sgd_cost += torch.sum(targets * torch.log(pred_s) + (1-targets) * (torch.log(1-pred_s)))\n",
    "        ada_cost += torch.sum(targets * torch.log(pred_a) + (1-targets) * (torch.log(1-pred_a)))\n",
    "        \n",
    "        #Update gradients\n",
    "        dw_s, db_s = calculate_gradients(model_sgd, contexts, pred_s, targets, batch_size)\n",
    "        dw_a, db_a = calculate_gradients(model_ada, contexts, pred_a, targets, batch_size)\n",
    "        \n",
    "        #do gradient descent\n",
    "        batch_gd(model_sgd, dw_s, db_s, learning_rate)\n",
    "        batch_gd(model_ada, dw_a, db_a, learning_rate)\n",
    "        \n",
    "        #step with the optimizer\n",
    "        sgd_optimizer.step()\n",
    "        ada_optimizer.step()\n",
    "    \n",
    "    total_samp = (len(train_loader)*batch_size)\n",
    "    print(f\"Epoch: {epoch}, SGD Acc: {sgd_corr/total_samp:.6f}, SGD Cost: {sgd_cost/total_samp:.6f}, Ada Acc: {ada_corr/total_samp:.6f}, Ada Cost: {ada_cost/total_samp:.6f}\")"
   ]
  },
  {
   "cell_type": "markdown",
   "id": "32011c2a-768a-40ba-8975-aec146573145",
   "metadata": {},
   "source": [
    "Evaluate the Training on the Testing Set for Mini-batch Gradient Descent"
   ]
  },
  {
   "cell_type": "code",
   "execution_count": 27,
   "id": "f5c35e54-0d86-4d0d-b85f-46fc5f9160dd",
   "metadata": {},
   "outputs": [
    {
     "data": {
      "text/plain": [
       "LR()"
      ]
     },
     "execution_count": 27,
     "metadata": {},
     "output_type": "execute_result"
    }
   ],
   "source": [
    "model_sgd.eval()\n",
    "model_ada.eval()"
   ]
  },
  {
   "cell_type": "code",
   "execution_count": 28,
   "id": "5b29e502-ad26-4683-8aef-a5e0df170464",
   "metadata": {
    "tags": []
   },
   "outputs": [
    {
     "name": "stderr",
     "output_type": "stream",
     "text": [
      "100%|██████████| 6/6 [00:00<00:00, 1567.96it/s]"
     ]
    },
    {
     "name": "stdout",
     "output_type": "stream",
     "text": [
      "SGD Acc: 0.916667, SGD Cost: nan, Ada Acc: 0.866667, Ada Cost: nan\n"
     ]
    },
    {
     "name": "stderr",
     "output_type": "stream",
     "text": [
      "\n"
     ]
    }
   ],
   "source": [
    "sgd_corr, ada_corr, sgd_cost, ada_cost = 0., 0., 0., 0.\n",
    "for batch_idx, (contexts, targets) in enumerate(tqdm(test_loader)):\n",
    "\n",
    "    #standardize input to floats\n",
    "    contexts, targets = contexts.float(), targets.float()\n",
    "\n",
    "    #Calculate Logistic Regression\n",
    "    pred_s = model_sgd(contexts)\n",
    "    pred_a = model_ada(contexts)\n",
    "\n",
    "    #convert probabilities to 0 or 1 compared to 0.5.\n",
    "    pred_s = (pred_s > 0.5).float()\n",
    "    pred_a = (pred_a > 0.5).float()\n",
    "\n",
    "    #Calculate Accuracy\n",
    "    sgd_corr += torch.sum(pred_s == targets)\n",
    "    ada_corr += torch.sum(pred_a == targets)\n",
    "    \n",
    "    #calculate the costs\n",
    "    sgd_cost += torch.sum(targets * torch.log(pred_s) + (1-targets) * (torch.log(1-pred_s)))\n",
    "    ada_cost += torch.sum(targets * torch.log(pred_a) + (1-targets) * (torch.log(1-pred_a)))\n",
    "        \n",
    "total_samp = (len(test_loader)*batch_size)\n",
    "print(f\"SGD Acc: {sgd_corr/total_samp:.6f}, SGD Cost: {sgd_cost/total_samp:.6f}, Ada Acc: {ada_corr/total_samp:.6f}, Ada Cost: {ada_cost/total_samp:.6f}\")"
   ]
  },
  {
   "cell_type": "markdown",
   "id": "6f299225-34d8-44b3-a987-aae62f73bbc7",
   "metadata": {},
   "source": [
    "Repeat with the stochastic gradient descent variant"
   ]
  },
  {
   "cell_type": "code",
   "execution_count": 29,
   "id": "8e3bc18e-f634-4e4c-b501-a397b3d7a5c9",
   "metadata": {},
   "outputs": [
    {
     "data": {
      "text/plain": [
       "LR()"
      ]
     },
     "execution_count": 29,
     "metadata": {},
     "output_type": "execute_result"
    }
   ],
   "source": [
    "model_sgd = LR(in_dim, batch_size)\n",
    "model_ada = LR(in_dim, batch_size)\n",
    "\n",
    "sgd_optimizer = optim.SGD(model_sgd.parameters(), lr = learning_rate, momentum = 0.8)\n",
    "ada_optimizer = optim.Adadelta(model_ada.parameters(), lr = learning_rate)\n",
    "\n",
    "model_sgd, model_ada = model_sgd.to(device), model_ada.to(device)\n",
    "model_sgd.train()\n",
    "model_ada.train()"
   ]
  },
  {
   "cell_type": "code",
   "execution_count": 30,
   "id": "7434ce6a-248f-446d-a77d-6f9d09bf3c3d",
   "metadata": {},
   "outputs": [
    {
     "name": "stderr",
     "output_type": "stream",
     "text": [
      "  0%|          | 0/34 [00:00<?, ?it/s]/tmp/ipykernel_603/2375580596.py:17: UserWarning: The use of `x.T` on tensors of dimension other than 2 to reverse their shape is deprecated and it will throw an error in a future release. Consider `x.mT` to transpose batches of matricesor `x.permute(*torch.arange(x.ndim - 1, -1, -1))` to reverse the dimensions of a tensor. (Triggered internally at  /home/conda/feedstock_root/build_artifacts/pytorch-recipe_1647409388182/work/aten/src/ATen/native/TensorShape.cpp:2318.)\n",
      "  dw = torch.matmul(ct.unsqueeze(-1), (p-tg).T)\n",
      "100%|██████████| 34/34 [00:00<00:00, 158.86it/s]\n"
     ]
    },
    {
     "name": "stdout",
     "output_type": "stream",
     "text": [
      "Epoch: 1, SGD Acc: 0.470588, SGD Cost: nan, Ada Acc: 0.808824, Ada Cost: nan\n"
     ]
    },
    {
     "name": "stderr",
     "output_type": "stream",
     "text": [
      "100%|██████████| 34/34 [00:00<00:00, 118.61it/s]\n"
     ]
    },
    {
     "name": "stdout",
     "output_type": "stream",
     "text": [
      "Epoch: 2, SGD Acc: 0.929412, SGD Cost: nan, Ada Acc: 0.997059, Ada Cost: nan\n"
     ]
    },
    {
     "name": "stderr",
     "output_type": "stream",
     "text": [
      "100%|██████████| 34/34 [00:00<00:00, 208.95it/s]\n"
     ]
    },
    {
     "name": "stdout",
     "output_type": "stream",
     "text": [
      "Epoch: 3, SGD Acc: 0.973529, SGD Cost: nan, Ada Acc: 1.000000, Ada Cost: nan\n"
     ]
    },
    {
     "name": "stderr",
     "output_type": "stream",
     "text": [
      "100%|██████████| 34/34 [00:00<00:00, 142.56it/s]\n"
     ]
    },
    {
     "name": "stdout",
     "output_type": "stream",
     "text": [
      "Epoch: 4, SGD Acc: 0.991176, SGD Cost: nan, Ada Acc: 1.000000, Ada Cost: nan\n"
     ]
    },
    {
     "name": "stderr",
     "output_type": "stream",
     "text": [
      "100%|██████████| 34/34 [00:00<00:00, 235.12it/s]"
     ]
    },
    {
     "name": "stdout",
     "output_type": "stream",
     "text": [
      "Epoch: 5, SGD Acc: 0.991176, SGD Cost: nan, Ada Acc: 1.000000, Ada Cost: nan\n"
     ]
    },
    {
     "name": "stderr",
     "output_type": "stream",
     "text": [
      "\n"
     ]
    }
   ],
   "source": [
    "for epoch in range(1, epochs+1):\n",
    "    sgd_corr, ada_corr, total_samp, sgd_cost, ada_cost = 0, 0, 0, 0, 0\n",
    "    for batch_idx, (contexts, targets) in enumerate(tqdm(train_loader)):\n",
    "        \n",
    "        #standardize input to floats\n",
    "        contexts, targets = contexts.float(), targets.float()\n",
    "        \n",
    "        #Calculate Logistic Regression\n",
    "        pred_s = model_sgd(contexts)\n",
    "        pred_a = model_ada(contexts)\n",
    "        \n",
    "        #convert probabilities to 0 or 1 compared to 0.5.\n",
    "        pred_s = (pred_s > 0.5).float()\n",
    "        pred_a = (pred_a > 0.5).float()\n",
    "        \n",
    "        #calculate the costs\n",
    "        sgd_cost += torch.sum(targets * torch.log(pred_s) + (1-targets) * (torch.log(1-pred_s)))\n",
    "        ada_cost += torch.sum(targets * torch.log(pred_a) + (1-targets) * (torch.log(1-pred_a)))\n",
    "        \n",
    "        #calculate accuracy\n",
    "        sgd_corr += torch.sum(pred_s == targets)\n",
    "        ada_corr += torch.sum(pred_a == targets)\n",
    "        total_samp += batch_size\n",
    "        \n",
    "        #Do Gradient Descent\n",
    "        stochastic_gd(model_sgd, sgd_optimizer, contexts, pred_s, targets, learning_rate)\n",
    "        stochastic_gd(model_ada, ada_optimizer, contexts, pred_a, targets, learning_rate)\n",
    "           \n",
    "    #Display Accuracy per Epoch\n",
    "    print(f\"Epoch: {epoch}, SGD Acc: {sgd_corr/total_samp:.6f}, SGD Cost: {sgd_cost/total_samp:.6f}, Ada Acc: {ada_corr/total_samp:.6f}, Ada Cost: {ada_cost/total_samp:.6f}\")"
   ]
  },
  {
   "cell_type": "code",
   "execution_count": 31,
   "id": "d9300587-cc27-4858-994f-58d56d37da81",
   "metadata": {},
   "outputs": [
    {
     "data": {
      "text/plain": [
       "LR()"
      ]
     },
     "execution_count": 31,
     "metadata": {},
     "output_type": "execute_result"
    }
   ],
   "source": [
    "model_sgd.eval()\n",
    "model_ada.eval()"
   ]
  },
  {
   "cell_type": "markdown",
   "id": "adef733c-7e65-44ab-adfc-d5f1e531aba3",
   "metadata": {},
   "source": [
    "Evaluate Prediction by Stochastic Gradient Descent"
   ]
  },
  {
   "cell_type": "code",
   "execution_count": 32,
   "id": "0d1828a3-7187-43df-b204-0867ded86a2f",
   "metadata": {},
   "outputs": [
    {
     "name": "stderr",
     "output_type": "stream",
     "text": [
      "100%|██████████| 6/6 [00:00<00:00, 1103.96it/s]"
     ]
    },
    {
     "name": "stdout",
     "output_type": "stream",
     "text": [
      "SGD Acc: 1.000000, SGD Cost: nan, Ada Acc: 1.000000, Ada Cost: nan\n"
     ]
    },
    {
     "name": "stderr",
     "output_type": "stream",
     "text": [
      "\n"
     ]
    }
   ],
   "source": [
    "sgd_corr, ada_corr, total_samp, sgd_cost, ada_cost = 0, 0, 0, 0, 0\n",
    "for batch_idx, (contexts, targets) in enumerate(tqdm(test_loader)):\n",
    "\n",
    "    #standardize input to floats\n",
    "    contexts, targets = contexts.float(), targets.float()\n",
    "\n",
    "    #Calculate Logistic Regression\n",
    "    pred_s = model_sgd(contexts)\n",
    "    pred_a = model_ada(contexts)\n",
    "\n",
    "    #convert probabilities to 0 or 1 compared to 0.5.\n",
    "    pred_s = (pred_s > 0.5).float()\n",
    "    pred_a = (pred_a > 0.5).float()\n",
    "\n",
    "    #Calculate Accuracy\n",
    "    sgd_corr += torch.sum(pred_s == targets)\n",
    "    ada_corr += torch.sum(pred_a == targets)\n",
    "\n",
    "    #calculate the costs\n",
    "    sgd_cost += torch.sum(targets * torch.log(pred_s) + (1-targets) * (torch.log(1-pred_s)))\n",
    "    ada_cost += torch.sum(targets * torch.log(pred_a) + (1-targets) * (torch.log(1-pred_a)))\n",
    "\n",
    "total_samp = (len(test_loader)*batch_size)\n",
    "print(f\"SGD Acc: {sgd_corr/total_samp:.6f}, SGD Cost: {sgd_cost/total_samp:.6f}, Ada Acc: {ada_corr/total_samp:.6f}, Ada Cost: {ada_cost/total_samp:.6f}\")"
   ]
  },
  {
   "cell_type": "markdown",
   "id": "74d6a335-d471-40d7-9113-ad54c1fe65ba",
   "metadata": {},
   "source": [
    "### Outcomes\n",
    "This dataset relied on scaling to make good predictions. When unscaled, the accuracy would fluctuate around 50%. I found that for my dataset, minibatch gradient descent worked better compared to stochastic gradient descent. This is likely because the dataset used has multiple outliers with very high salaries that purchase after viewing an ad. As a result, stochastic gradient descent would be influenced by this and alter the weights more than necessary. Mini-batch gradient descent, however, is less influenced by this issue because it calculates the gradient for multiple entries at once, therefore averaging and decreasing the influence of these outliers. With regards to optimizers, I found that Adagrad generally peformed better than SGD with Momentum as an optimizer as its accuracy would increase at a much faster pace compared to SGD with momentum. Compared to the original implementation of gradient descent, the model performs better with an optimizer, which allows us to better adjust the weights of the model. Therefore, optimizers should be used in tasks such as these that require a more controlled form of gradient descent."
   ]
  }
 ],
 "metadata": {
  "kernelspec": {
   "display_name": "default:Python",
   "language": "python",
   "name": "conda-env-default-py"
  },
  "language_info": {
   "codemirror_mode": {
    "name": "ipython",
    "version": 3
   },
   "file_extension": ".py",
   "mimetype": "text/x-python",
   "name": "python",
   "nbconvert_exporter": "python",
   "pygments_lexer": "ipython3",
   "version": "3.9.10"
  }
 },
 "nbformat": 4,
 "nbformat_minor": 5
}
