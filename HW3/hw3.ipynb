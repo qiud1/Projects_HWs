{
 "cells": [
  {
   "cell_type": "markdown",
   "id": "27bc93d8-3f4e-499e-b0d4-83d3f298f8bc",
   "metadata": {
    "jp-MarkdownHeadingCollapsed": true,
    "tags": []
   },
   "source": [
    "#### Assignment 3\n",
    "For this assignment, I have chosen to solve the binary classification problem of determining whether a bank customer would churn or not depending on given features from the dataset Bank Customer Churn Dataset, located at https://www.kaggle.com/datasets/gauravtopre/bank-customer-churn-dataset. This dataset has over 10,000 datapoints with 11 features each."
   ]
  },
  {
   "cell_type": "markdown",
   "id": "1ec24d9d-4ac8-43dc-bfc9-a5704e759b20",
   "metadata": {
    "tags": []
   },
   "source": [
    "### Task 1:\n",
    "To implement my two layer Neural Network, I will be inheriting from PyTorch's nn.Module to manage the weights of the layers during propagation and nn.Linear to represent the layers in the neural network. PyTorch also provides built in support for backpropagation and forward propagation by defining the forward function of a nn.Module and calling the backward() function call.\n",
    "I will also be applying PyTorch's Dataloader module to facilitate the feeding of data into my neural network during the training process, which also requires the Dataset class, both obtainable from the torch.utils.data package."
   ]
  },
  {
   "cell_type": "code",
   "execution_count": 1,
   "id": "c354cbbd-4226-402d-935c-eb571aeb9cb2",
   "metadata": {},
   "outputs": [],
   "source": [
    "#import the necessary packages\n",
    "import torch\n",
    "import torch.nn as nn\n",
    "import torch.nn.functional as F\n",
    "import torch.optim as optim\n",
    "import torch.utils.data as du\n",
    "import numpy as np\n",
    "from torchvision import datasets, transforms\n",
    "from torch.utils.data import Dataset\n",
    "import pandas as pd\n",
    "import matplotlib.pyplot as plt\n",
    "from sklearn.model_selection import train_test_split"
   ]
  },
  {
   "cell_type": "markdown",
   "id": "9b079aaa-979b-45f3-b017-6fc67b757bd7",
   "metadata": {},
   "source": [
    "### Task 2:\n",
    "Load the dataset and conduct exploratory data analysis."
   ]
  },
  {
   "cell_type": "code",
   "execution_count": 2,
   "id": "f2287339-bef5-424d-8927-505d4d51f780",
   "metadata": {},
   "outputs": [
    {
     "data": {
      "text/html": [
       "<div>\n",
       "<style scoped>\n",
       "    .dataframe tbody tr th:only-of-type {\n",
       "        vertical-align: middle;\n",
       "    }\n",
       "\n",
       "    .dataframe tbody tr th {\n",
       "        vertical-align: top;\n",
       "    }\n",
       "\n",
       "    .dataframe thead th {\n",
       "        text-align: right;\n",
       "    }\n",
       "</style>\n",
       "<table border=\"1\" class=\"dataframe\">\n",
       "  <thead>\n",
       "    <tr style=\"text-align: right;\">\n",
       "      <th></th>\n",
       "      <th>customer_id</th>\n",
       "      <th>credit_score</th>\n",
       "      <th>country</th>\n",
       "      <th>gender</th>\n",
       "      <th>age</th>\n",
       "      <th>tenure</th>\n",
       "      <th>balance</th>\n",
       "      <th>products_number</th>\n",
       "      <th>credit_card</th>\n",
       "      <th>active_member</th>\n",
       "      <th>estimated_salary</th>\n",
       "      <th>churn</th>\n",
       "    </tr>\n",
       "  </thead>\n",
       "  <tbody>\n",
       "    <tr>\n",
       "      <th>0</th>\n",
       "      <td>15634602</td>\n",
       "      <td>619</td>\n",
       "      <td>France</td>\n",
       "      <td>Female</td>\n",
       "      <td>42</td>\n",
       "      <td>2</td>\n",
       "      <td>0.00</td>\n",
       "      <td>1</td>\n",
       "      <td>1</td>\n",
       "      <td>1</td>\n",
       "      <td>101348.88</td>\n",
       "      <td>1</td>\n",
       "    </tr>\n",
       "    <tr>\n",
       "      <th>1</th>\n",
       "      <td>15647311</td>\n",
       "      <td>608</td>\n",
       "      <td>Spain</td>\n",
       "      <td>Female</td>\n",
       "      <td>41</td>\n",
       "      <td>1</td>\n",
       "      <td>83807.86</td>\n",
       "      <td>1</td>\n",
       "      <td>0</td>\n",
       "      <td>1</td>\n",
       "      <td>112542.58</td>\n",
       "      <td>0</td>\n",
       "    </tr>\n",
       "    <tr>\n",
       "      <th>2</th>\n",
       "      <td>15619304</td>\n",
       "      <td>502</td>\n",
       "      <td>France</td>\n",
       "      <td>Female</td>\n",
       "      <td>42</td>\n",
       "      <td>8</td>\n",
       "      <td>159660.80</td>\n",
       "      <td>3</td>\n",
       "      <td>1</td>\n",
       "      <td>0</td>\n",
       "      <td>113931.57</td>\n",
       "      <td>1</td>\n",
       "    </tr>\n",
       "    <tr>\n",
       "      <th>3</th>\n",
       "      <td>15701354</td>\n",
       "      <td>699</td>\n",
       "      <td>France</td>\n",
       "      <td>Female</td>\n",
       "      <td>39</td>\n",
       "      <td>1</td>\n",
       "      <td>0.00</td>\n",
       "      <td>2</td>\n",
       "      <td>0</td>\n",
       "      <td>0</td>\n",
       "      <td>93826.63</td>\n",
       "      <td>0</td>\n",
       "    </tr>\n",
       "    <tr>\n",
       "      <th>4</th>\n",
       "      <td>15737888</td>\n",
       "      <td>850</td>\n",
       "      <td>Spain</td>\n",
       "      <td>Female</td>\n",
       "      <td>43</td>\n",
       "      <td>2</td>\n",
       "      <td>125510.82</td>\n",
       "      <td>1</td>\n",
       "      <td>1</td>\n",
       "      <td>1</td>\n",
       "      <td>79084.10</td>\n",
       "      <td>0</td>\n",
       "    </tr>\n",
       "  </tbody>\n",
       "</table>\n",
       "</div>"
      ],
      "text/plain": [
       "   customer_id  credit_score country  gender  age  tenure    balance  \\\n",
       "0     15634602           619  France  Female   42       2       0.00   \n",
       "1     15647311           608   Spain  Female   41       1   83807.86   \n",
       "2     15619304           502  France  Female   42       8  159660.80   \n",
       "3     15701354           699  France  Female   39       1       0.00   \n",
       "4     15737888           850   Spain  Female   43       2  125510.82   \n",
       "\n",
       "   products_number  credit_card  active_member  estimated_salary  churn  \n",
       "0                1            1              1         101348.88      1  \n",
       "1                1            0              1         112542.58      0  \n",
       "2                3            1              0         113931.57      1  \n",
       "3                2            0              0          93826.63      0  \n",
       "4                1            1              1          79084.10      0  "
      ]
     },
     "execution_count": 2,
     "metadata": {},
     "output_type": "execute_result"
    }
   ],
   "source": [
    "bank_data = pd.read_csv(\"../../PIML/HW3/bank_churn.csv\")\n",
    "bank_data.head(5)"
   ]
  },
  {
   "cell_type": "code",
   "execution_count": 3,
   "id": "b78d9746-21ba-4b25-a11f-5a343f7ac6fb",
   "metadata": {},
   "outputs": [
    {
     "name": "stdout",
     "output_type": "stream",
     "text": [
      "<class 'pandas.core.frame.DataFrame'>\n",
      "RangeIndex: 10000 entries, 0 to 9999\n",
      "Data columns (total 12 columns):\n",
      " #   Column            Non-Null Count  Dtype  \n",
      "---  ------            --------------  -----  \n",
      " 0   customer_id       10000 non-null  int64  \n",
      " 1   credit_score      10000 non-null  int64  \n",
      " 2   country           10000 non-null  object \n",
      " 3   gender            10000 non-null  object \n",
      " 4   age               10000 non-null  int64  \n",
      " 5   tenure            10000 non-null  int64  \n",
      " 6   balance           10000 non-null  float64\n",
      " 7   products_number   10000 non-null  int64  \n",
      " 8   credit_card       10000 non-null  int64  \n",
      " 9   active_member     10000 non-null  int64  \n",
      " 10  estimated_salary  10000 non-null  float64\n",
      " 11  churn             10000 non-null  int64  \n",
      "dtypes: float64(2), int64(8), object(2)\n",
      "memory usage: 937.6+ KB\n"
     ]
    }
   ],
   "source": [
    "bank_data.info()"
   ]
  },
  {
   "cell_type": "code",
   "execution_count": 4,
   "id": "b6fb28e8-d9c7-445c-881c-b002426e2002",
   "metadata": {},
   "outputs": [
    {
     "data": {
      "text/plain": [
       "customer_id         0\n",
       "credit_score        0\n",
       "country             0\n",
       "gender              0\n",
       "age                 0\n",
       "tenure              0\n",
       "balance             0\n",
       "products_number     0\n",
       "credit_card         0\n",
       "active_member       0\n",
       "estimated_salary    0\n",
       "churn               0\n",
       "dtype: int64"
      ]
     },
     "execution_count": 4,
     "metadata": {},
     "output_type": "execute_result"
    }
   ],
   "source": [
    "#check for null data\n",
    "bank_data.isnull().sum()"
   ]
  },
  {
   "cell_type": "markdown",
   "id": "42a3b57a-9188-4730-9929-9c60728bf9a4",
   "metadata": {},
   "source": [
    "Since there are no entries with missing data, we can move on to replacing non-numerical entries with numerical entries"
   ]
  },
  {
   "cell_type": "code",
   "execution_count": 5,
   "id": "2b43ba7d-6a3d-452f-b448-6f72cc0bd7ad",
   "metadata": {},
   "outputs": [
    {
     "data": {
      "text/html": [
       "<div>\n",
       "<style scoped>\n",
       "    .dataframe tbody tr th:only-of-type {\n",
       "        vertical-align: middle;\n",
       "    }\n",
       "\n",
       "    .dataframe tbody tr th {\n",
       "        vertical-align: top;\n",
       "    }\n",
       "\n",
       "    .dataframe thead th {\n",
       "        text-align: right;\n",
       "    }\n",
       "</style>\n",
       "<table border=\"1\" class=\"dataframe\">\n",
       "  <thead>\n",
       "    <tr style=\"text-align: right;\">\n",
       "      <th></th>\n",
       "      <th>customer_id</th>\n",
       "      <th>credit_score</th>\n",
       "      <th>country</th>\n",
       "      <th>gender</th>\n",
       "      <th>age</th>\n",
       "      <th>tenure</th>\n",
       "      <th>balance</th>\n",
       "      <th>products_number</th>\n",
       "      <th>credit_card</th>\n",
       "      <th>active_member</th>\n",
       "      <th>estimated_salary</th>\n",
       "      <th>churn</th>\n",
       "    </tr>\n",
       "  </thead>\n",
       "  <tbody>\n",
       "    <tr>\n",
       "      <th>0</th>\n",
       "      <td>15634602</td>\n",
       "      <td>619</td>\n",
       "      <td>0</td>\n",
       "      <td>1</td>\n",
       "      <td>42</td>\n",
       "      <td>2</td>\n",
       "      <td>0.00</td>\n",
       "      <td>1</td>\n",
       "      <td>1</td>\n",
       "      <td>1</td>\n",
       "      <td>101348.88</td>\n",
       "      <td>1</td>\n",
       "    </tr>\n",
       "    <tr>\n",
       "      <th>1</th>\n",
       "      <td>15647311</td>\n",
       "      <td>608</td>\n",
       "      <td>1</td>\n",
       "      <td>1</td>\n",
       "      <td>41</td>\n",
       "      <td>1</td>\n",
       "      <td>83807.86</td>\n",
       "      <td>1</td>\n",
       "      <td>0</td>\n",
       "      <td>1</td>\n",
       "      <td>112542.58</td>\n",
       "      <td>0</td>\n",
       "    </tr>\n",
       "    <tr>\n",
       "      <th>2</th>\n",
       "      <td>15619304</td>\n",
       "      <td>502</td>\n",
       "      <td>0</td>\n",
       "      <td>1</td>\n",
       "      <td>42</td>\n",
       "      <td>8</td>\n",
       "      <td>159660.80</td>\n",
       "      <td>3</td>\n",
       "      <td>1</td>\n",
       "      <td>0</td>\n",
       "      <td>113931.57</td>\n",
       "      <td>1</td>\n",
       "    </tr>\n",
       "    <tr>\n",
       "      <th>3</th>\n",
       "      <td>15701354</td>\n",
       "      <td>699</td>\n",
       "      <td>0</td>\n",
       "      <td>1</td>\n",
       "      <td>39</td>\n",
       "      <td>1</td>\n",
       "      <td>0.00</td>\n",
       "      <td>2</td>\n",
       "      <td>0</td>\n",
       "      <td>0</td>\n",
       "      <td>93826.63</td>\n",
       "      <td>0</td>\n",
       "    </tr>\n",
       "    <tr>\n",
       "      <th>4</th>\n",
       "      <td>15737888</td>\n",
       "      <td>850</td>\n",
       "      <td>1</td>\n",
       "      <td>1</td>\n",
       "      <td>43</td>\n",
       "      <td>2</td>\n",
       "      <td>125510.82</td>\n",
       "      <td>1</td>\n",
       "      <td>1</td>\n",
       "      <td>1</td>\n",
       "      <td>79084.10</td>\n",
       "      <td>0</td>\n",
       "    </tr>\n",
       "  </tbody>\n",
       "</table>\n",
       "</div>"
      ],
      "text/plain": [
       "   customer_id  credit_score  country  gender  age  tenure    balance  \\\n",
       "0     15634602           619        0       1   42       2       0.00   \n",
       "1     15647311           608        1       1   41       1   83807.86   \n",
       "2     15619304           502        0       1   42       8  159660.80   \n",
       "3     15701354           699        0       1   39       1       0.00   \n",
       "4     15737888           850        1       1   43       2  125510.82   \n",
       "\n",
       "   products_number  credit_card  active_member  estimated_salary  churn  \n",
       "0                1            1              1         101348.88      1  \n",
       "1                1            0              1         112542.58      0  \n",
       "2                3            1              0         113931.57      1  \n",
       "3                2            0              0          93826.63      0  \n",
       "4                1            1              1          79084.10      0  "
      ]
     },
     "execution_count": 5,
     "metadata": {},
     "output_type": "execute_result"
    }
   ],
   "source": [
    "gender_to_num = {\"Male\": 0, \"Female\": 1}\n",
    "bank_data.replace(gender_to_num, inplace = True)\n",
    "\n",
    "countries = bank_data['country'].unique()\n",
    "countries_to_num = {ct:idx for idx, ct in enumerate(countries)}\n",
    "bank_data.replace(countries_to_num, inplace = True)\n",
    "\n",
    "bank_data.head(5)"
   ]
  },
  {
   "cell_type": "code",
   "execution_count": 6,
   "id": "de3023b1-a739-47af-8271-7b737d77f068",
   "metadata": {},
   "outputs": [
    {
     "data": {
      "text/html": [
       "<div>\n",
       "<style scoped>\n",
       "    .dataframe tbody tr th:only-of-type {\n",
       "        vertical-align: middle;\n",
       "    }\n",
       "\n",
       "    .dataframe tbody tr th {\n",
       "        vertical-align: top;\n",
       "    }\n",
       "\n",
       "    .dataframe thead th {\n",
       "        text-align: right;\n",
       "    }\n",
       "</style>\n",
       "<table border=\"1\" class=\"dataframe\">\n",
       "  <thead>\n",
       "    <tr style=\"text-align: right;\">\n",
       "      <th></th>\n",
       "      <th>customer_id</th>\n",
       "      <th>credit_score</th>\n",
       "      <th>country</th>\n",
       "      <th>gender</th>\n",
       "      <th>age</th>\n",
       "      <th>tenure</th>\n",
       "      <th>balance</th>\n",
       "      <th>products_number</th>\n",
       "      <th>credit_card</th>\n",
       "      <th>active_member</th>\n",
       "      <th>estimated_salary</th>\n",
       "      <th>churn</th>\n",
       "    </tr>\n",
       "  </thead>\n",
       "  <tbody>\n",
       "    <tr>\n",
       "      <th>0</th>\n",
       "      <td>0.275616</td>\n",
       "      <td>0.538</td>\n",
       "      <td>0.0</td>\n",
       "      <td>1.0</td>\n",
       "      <td>0.324324</td>\n",
       "      <td>0.2</td>\n",
       "      <td>0.000000</td>\n",
       "      <td>0.000000</td>\n",
       "      <td>1.0</td>\n",
       "      <td>1.0</td>\n",
       "      <td>0.506735</td>\n",
       "      <td>1.0</td>\n",
       "    </tr>\n",
       "    <tr>\n",
       "      <th>1</th>\n",
       "      <td>0.326454</td>\n",
       "      <td>0.516</td>\n",
       "      <td>0.5</td>\n",
       "      <td>1.0</td>\n",
       "      <td>0.310811</td>\n",
       "      <td>0.1</td>\n",
       "      <td>0.334031</td>\n",
       "      <td>0.000000</td>\n",
       "      <td>0.0</td>\n",
       "      <td>1.0</td>\n",
       "      <td>0.562709</td>\n",
       "      <td>0.0</td>\n",
       "    </tr>\n",
       "    <tr>\n",
       "      <th>2</th>\n",
       "      <td>0.214421</td>\n",
       "      <td>0.304</td>\n",
       "      <td>0.0</td>\n",
       "      <td>1.0</td>\n",
       "      <td>0.324324</td>\n",
       "      <td>0.8</td>\n",
       "      <td>0.636357</td>\n",
       "      <td>0.666667</td>\n",
       "      <td>1.0</td>\n",
       "      <td>0.0</td>\n",
       "      <td>0.569654</td>\n",
       "      <td>1.0</td>\n",
       "    </tr>\n",
       "    <tr>\n",
       "      <th>3</th>\n",
       "      <td>0.542636</td>\n",
       "      <td>0.698</td>\n",
       "      <td>0.0</td>\n",
       "      <td>1.0</td>\n",
       "      <td>0.283784</td>\n",
       "      <td>0.1</td>\n",
       "      <td>0.000000</td>\n",
       "      <td>0.333333</td>\n",
       "      <td>0.0</td>\n",
       "      <td>0.0</td>\n",
       "      <td>0.469120</td>\n",
       "      <td>0.0</td>\n",
       "    </tr>\n",
       "    <tr>\n",
       "      <th>4</th>\n",
       "      <td>0.688778</td>\n",
       "      <td>1.000</td>\n",
       "      <td>0.5</td>\n",
       "      <td>1.0</td>\n",
       "      <td>0.337838</td>\n",
       "      <td>0.2</td>\n",
       "      <td>0.500246</td>\n",
       "      <td>0.000000</td>\n",
       "      <td>1.0</td>\n",
       "      <td>1.0</td>\n",
       "      <td>0.395400</td>\n",
       "      <td>0.0</td>\n",
       "    </tr>\n",
       "  </tbody>\n",
       "</table>\n",
       "</div>"
      ],
      "text/plain": [
       "   customer_id  credit_score  country  gender       age  tenure   balance  \\\n",
       "0     0.275616         0.538      0.0     1.0  0.324324     0.2  0.000000   \n",
       "1     0.326454         0.516      0.5     1.0  0.310811     0.1  0.334031   \n",
       "2     0.214421         0.304      0.0     1.0  0.324324     0.8  0.636357   \n",
       "3     0.542636         0.698      0.0     1.0  0.283784     0.1  0.000000   \n",
       "4     0.688778         1.000      0.5     1.0  0.337838     0.2  0.500246   \n",
       "\n",
       "   products_number  credit_card  active_member  estimated_salary  churn  \n",
       "0         0.000000          1.0            1.0          0.506735    1.0  \n",
       "1         0.000000          0.0            1.0          0.562709    0.0  \n",
       "2         0.666667          1.0            0.0          0.569654    1.0  \n",
       "3         0.333333          0.0            0.0          0.469120    0.0  \n",
       "4         0.000000          1.0            1.0          0.395400    0.0  "
      ]
     },
     "execution_count": 6,
     "metadata": {},
     "output_type": "execute_result"
    }
   ],
   "source": [
    "#Normalize the dataset\n",
    "def normalize(x):\n",
    "    \"\"\"\n",
    "    Normalizes the data within dataframe x\n",
    "    \"\"\"\n",
    "    x_norm = (x-x.min())/(x.max()-x.min())\n",
    "    return x_norm\n",
    "\n",
    "bank_data = normalize(bank_data)\n",
    "bank_data.head(5)"
   ]
  },
  {
   "cell_type": "code",
   "execution_count": 7,
   "id": "7a60098e-a7b6-4970-8384-5aed77b5b0a7",
   "metadata": {},
   "outputs": [
    {
     "data": {
      "text/html": [
       "<div>\n",
       "<style scoped>\n",
       "    .dataframe tbody tr th:only-of-type {\n",
       "        vertical-align: middle;\n",
       "    }\n",
       "\n",
       "    .dataframe tbody tr th {\n",
       "        vertical-align: top;\n",
       "    }\n",
       "\n",
       "    .dataframe thead th {\n",
       "        text-align: right;\n",
       "    }\n",
       "</style>\n",
       "<table border=\"1\" class=\"dataframe\">\n",
       "  <thead>\n",
       "    <tr style=\"text-align: right;\">\n",
       "      <th></th>\n",
       "      <th>credit_score</th>\n",
       "      <th>country</th>\n",
       "      <th>gender</th>\n",
       "      <th>age</th>\n",
       "      <th>tenure</th>\n",
       "      <th>balance</th>\n",
       "      <th>products_number</th>\n",
       "      <th>credit_card</th>\n",
       "      <th>active_member</th>\n",
       "      <th>estimated_salary</th>\n",
       "      <th>churn</th>\n",
       "    </tr>\n",
       "  </thead>\n",
       "  <tbody>\n",
       "    <tr>\n",
       "      <th>0</th>\n",
       "      <td>0.538</td>\n",
       "      <td>0.0</td>\n",
       "      <td>1.0</td>\n",
       "      <td>0.324324</td>\n",
       "      <td>0.2</td>\n",
       "      <td>0.000000</td>\n",
       "      <td>0.000000</td>\n",
       "      <td>1.0</td>\n",
       "      <td>1.0</td>\n",
       "      <td>0.506735</td>\n",
       "      <td>1.0</td>\n",
       "    </tr>\n",
       "    <tr>\n",
       "      <th>1</th>\n",
       "      <td>0.516</td>\n",
       "      <td>0.5</td>\n",
       "      <td>1.0</td>\n",
       "      <td>0.310811</td>\n",
       "      <td>0.1</td>\n",
       "      <td>0.334031</td>\n",
       "      <td>0.000000</td>\n",
       "      <td>0.0</td>\n",
       "      <td>1.0</td>\n",
       "      <td>0.562709</td>\n",
       "      <td>0.0</td>\n",
       "    </tr>\n",
       "    <tr>\n",
       "      <th>2</th>\n",
       "      <td>0.304</td>\n",
       "      <td>0.0</td>\n",
       "      <td>1.0</td>\n",
       "      <td>0.324324</td>\n",
       "      <td>0.8</td>\n",
       "      <td>0.636357</td>\n",
       "      <td>0.666667</td>\n",
       "      <td>1.0</td>\n",
       "      <td>0.0</td>\n",
       "      <td>0.569654</td>\n",
       "      <td>1.0</td>\n",
       "    </tr>\n",
       "    <tr>\n",
       "      <th>3</th>\n",
       "      <td>0.698</td>\n",
       "      <td>0.0</td>\n",
       "      <td>1.0</td>\n",
       "      <td>0.283784</td>\n",
       "      <td>0.1</td>\n",
       "      <td>0.000000</td>\n",
       "      <td>0.333333</td>\n",
       "      <td>0.0</td>\n",
       "      <td>0.0</td>\n",
       "      <td>0.469120</td>\n",
       "      <td>0.0</td>\n",
       "    </tr>\n",
       "    <tr>\n",
       "      <th>4</th>\n",
       "      <td>1.000</td>\n",
       "      <td>0.5</td>\n",
       "      <td>1.0</td>\n",
       "      <td>0.337838</td>\n",
       "      <td>0.2</td>\n",
       "      <td>0.500246</td>\n",
       "      <td>0.000000</td>\n",
       "      <td>1.0</td>\n",
       "      <td>1.0</td>\n",
       "      <td>0.395400</td>\n",
       "      <td>0.0</td>\n",
       "    </tr>\n",
       "  </tbody>\n",
       "</table>\n",
       "</div>"
      ],
      "text/plain": [
       "   credit_score  country  gender       age  tenure   balance  products_number  \\\n",
       "0         0.538      0.0     1.0  0.324324     0.2  0.000000         0.000000   \n",
       "1         0.516      0.5     1.0  0.310811     0.1  0.334031         0.000000   \n",
       "2         0.304      0.0     1.0  0.324324     0.8  0.636357         0.666667   \n",
       "3         0.698      0.0     1.0  0.283784     0.1  0.000000         0.333333   \n",
       "4         1.000      0.5     1.0  0.337838     0.2  0.500246         0.000000   \n",
       "\n",
       "   credit_card  active_member  estimated_salary  churn  \n",
       "0          1.0            1.0          0.506735    1.0  \n",
       "1          0.0            1.0          0.562709    0.0  \n",
       "2          1.0            0.0          0.569654    1.0  \n",
       "3          0.0            0.0          0.469120    0.0  \n",
       "4          1.0            1.0          0.395400    0.0  "
      ]
     },
     "execution_count": 7,
     "metadata": {},
     "output_type": "execute_result"
    }
   ],
   "source": [
    "#drop inconsequential columns\n",
    "bank_data.drop(\"customer_id\", axis = 1, inplace = True)\n",
    "bank_data.head(5)"
   ]
  },
  {
   "cell_type": "code",
   "execution_count": 8,
   "id": "dd009484-9eef-4232-b1ea-f668b7d8e1ed",
   "metadata": {},
   "outputs": [],
   "source": [
    "#convert data from pandas to numpy\n",
    "bank_data = bank_data.to_numpy()"
   ]
  },
  {
   "cell_type": "markdown",
   "id": "d34f8042-7623-48b4-8596-e8f9a2890ccb",
   "metadata": {},
   "source": [
    "Initialize the Dataset and Neural Network Modules"
   ]
  },
  {
   "cell_type": "markdown",
   "id": "f6abccc5-3b0f-4d9c-8e16-58d20d8d833e",
   "metadata": {},
   "source": [
    "I will apply torch's ReLU activation process inbetween the two layers of the neural network to introduce sparsity. This activation function can be obtained from the torch.nn.functional package."
   ]
  },
  {
   "cell_type": "code",
   "execution_count": 9,
   "id": "32b28269-eac9-4f42-ac0b-735a2f125d6d",
   "metadata": {},
   "outputs": [],
   "source": [
    "class NN(nn.Module):\n",
    "    \"\"\"\n",
    "    Represents a two layer neural network\n",
    "    \"\"\"\n",
    "    \n",
    "    def __init__(self, in_dim, hidden_dim, out_dim):\n",
    "        super(NN, self).__init__()\n",
    "        self.fc1 = nn.Linear(in_dim, hidden_dim)\n",
    "        self.fc2 = nn.Linear(hidden_dim, out_dim)\n",
    "        self.dropout = nn.Dropout(p = 0.25)\n",
    "        \n",
    "    def forward(self, x):\n",
    "        \"\"\"\n",
    "        This function handles the forwards propagation \n",
    "        process of the neural network.\n",
    "        \"\"\"\n",
    "        #apply the first layer and the ReLU activation function.\n",
    "        x = self.fc1(x)\n",
    "        x = F.relu(x)\n",
    "        x = self.dropout(x)\n",
    "        \n",
    "        #compute and the output layer\n",
    "        x = self.fc2(x)\n",
    "        \n",
    "        return x"
   ]
  },
  {
   "cell_type": "code",
   "execution_count": 10,
   "id": "aee6b8bb-7185-498d-8d34-6b14aec1a0c8",
   "metadata": {},
   "outputs": [],
   "source": [
    "class BankData(du.Dataset):\n",
    "    \"\"\"\n",
    "    Represents the data for the creditcard dataset and\n",
    "    handles the passing of data during the training process\n",
    "    \"\"\"\n",
    "    def __init__(self, bank_data):\n",
    "        super(BankData, self).__init__()\n",
    "        self.bank = bank_data\n",
    "        \n",
    "    def __len__(self):\n",
    "        return self.bank.shape[0]\n",
    "    \n",
    "    def __getitem__(self, idx):\n",
    "        \"\"\"\n",
    "        Finds and returns as a tensor the data for idx.\n",
    "        \"\"\"\n",
    "        banks = self.bank[idx,:]\n",
    "        bank_feats = torch.tensor(banks[:-1])\n",
    "        bank_labels = torch.tensor(banks[-1])\n",
    "        \n",
    "        return bank_feats, bank_labels"
   ]
  },
  {
   "cell_type": "code",
   "execution_count": 11,
   "id": "53740e74-74e8-45ee-b144-477d434d5c72",
   "metadata": {},
   "outputs": [
    {
     "name": "stdout",
     "output_type": "stream",
     "text": [
      "using cpu\n"
     ]
    }
   ],
   "source": [
    "#define training parameters\n",
    "device = f'cuda:0' if torch.cuda.is_available() else 'cpu'\n",
    "print(f\"using {device}\")\n",
    "\n",
    "batch_size = 1000\n",
    "learning_rate = 0.0005\n",
    "epochs = 5\n",
    "in_dim = bank_data.shape[1]-1\n",
    "hidden_dim = 8"
   ]
  },
  {
   "cell_type": "markdown",
   "id": "e572bea7-76e7-4c2b-86c9-018fc4d74294",
   "metadata": {},
   "source": [
    "Split the data into train, validation, and test"
   ]
  },
  {
   "cell_type": "code",
   "execution_count": 12,
   "id": "678c514a-8114-4f17-9f7f-945be33b0a0e",
   "metadata": {},
   "outputs": [],
   "source": [
    "#do a train/dev/test split of 75% 10% 15%\n",
    "train_data, other = train_test_split(bank_data, test_size = 0.25)\n",
    "valid_data, test_data = train_test_split(other, test_size = 0.4)\n",
    "\n",
    "#make a copy of data for decision tree algorithm\n",
    "train_data_cpy, test_data_cpy = train_data[:,:-1], test_data[:,:-1]\n",
    "train_label_cpy, test_label_cpy = train_data[:,-1], test_data[:,-1]"
   ]
  },
  {
   "cell_type": "markdown",
   "id": "5234ab42-2db2-4111-9e30-833336a43c9e",
   "metadata": {},
   "source": [
    "For this model, I have decided to use an optimizer to alleviate the problem of vanishing and exploding gradients in the two layer MLP and prevent overfitting. I will also use the sigmoid activiation function to convert my predictions to 0 or 1 as I am trying to evaluate a classification problem. For loss, I will use functional's binary cross entropy with logits which applies sigmoid and calculates binary cross entropy loss. This function is more stable than simply applying sigmoid followed by BCE loss."
   ]
  },
  {
   "cell_type": "code",
   "execution_count": 13,
   "id": "a8216cdc-fea1-4b7c-8d8f-00e68ff3e671",
   "metadata": {},
   "outputs": [
    {
     "data": {
      "text/plain": [
       "NN(\n",
       "  (fc1): Linear(in_features=10, out_features=8, bias=True)\n",
       "  (fc2): Linear(in_features=8, out_features=1, bias=True)\n",
       "  (dropout): Dropout(p=0.25, inplace=False)\n",
       ")"
      ]
     },
     "execution_count": 13,
     "metadata": {},
     "output_type": "execute_result"
    }
   ],
   "source": [
    "#initialize the model, dataset, dataloader, and optimizer\n",
    "model = NN(in_dim, hidden_dim, 1)\n",
    "optimizer = optim.Adam(model.parameters(), lr=learning_rate)\n",
    "\n",
    "#initialize datasets\n",
    "train_data = BankData(train_data)\n",
    "valid_data = BankData(valid_data)\n",
    "test_data = BankData(test_data)\n",
    "\n",
    "#set up the dataloader\n",
    "train_loader = du.DataLoader(dataset=train_data,\n",
    "                             batch_size=batch_size,\n",
    "                             shuffle=True)\n",
    "valid_loader = du.DataLoader(dataset=valid_data,\n",
    "                             batch_size=batch_size,\n",
    "                             shuffle=True)\n",
    "test_loader = du.DataLoader(dataset=test_data,\n",
    "                             batch_size=batch_size,\n",
    "                             shuffle=True)\n",
    "\n",
    "#send the model to the device\n",
    "model = model.to(device)\n",
    "model.train()"
   ]
  },
  {
   "cell_type": "markdown",
   "id": "19b03902-fed9-4223-b4dd-b88e8a212f5d",
   "metadata": {},
   "source": [
    "Train the model and validate it"
   ]
  },
  {
   "cell_type": "code",
   "execution_count": 14,
   "id": "f2c1f6ba-590a-421c-bc12-adf08f1fe4e7",
   "metadata": {},
   "outputs": [
    {
     "name": "stdout",
     "output_type": "stream",
     "text": [
      "Epoch: 1, Loss: 0.737604, Validation Accuracy: 0.315333\n",
      "Epoch: 2, Loss: 0.726977, Validation Accuracy: 0.348667\n",
      "Epoch: 3, Loss: 0.719433, Validation Accuracy: 0.400000\n",
      "Epoch: 4, Loss: 0.709862, Validation Accuracy: 0.474667\n",
      "Epoch: 5, Loss: 0.703461, Validation Accuracy: 0.500667\n"
     ]
    }
   ],
   "source": [
    "accs = []\n",
    "eps = []\n",
    "for epoch in range(1, epochs + 1):    \n",
    "    sum_loss = 0.\n",
    "    for batch_idx, (contexts, targets) in enumerate(train_loader):\n",
    "        #send the data to the device\n",
    "        contexts, targets = contexts.to(device), targets.to(device)\n",
    "        \n",
    "        #zero out prev gradients\n",
    "        optimizer.zero_grad()\n",
    "        \n",
    "        #run the forward pass\n",
    "        pred = model(contexts.float())\n",
    "        \n",
    "        #compute loss/error\n",
    "        loss = F.binary_cross_entropy_with_logits(pred.float().squeeze(), targets.float())\n",
    "        \n",
    "        #sum up batch losses\n",
    "        sum_loss += loss.item()\n",
    "        \n",
    "        # compute gradients and take a step\n",
    "        loss.backward()\n",
    "        optimizer.step()\n",
    "        \n",
    "    # average loss per example    \n",
    "    sum_loss /= len(train_loader)\n",
    "    \n",
    "    #evaluate validation set\n",
    "    with torch.no_grad():\n",
    "        num_corr = 0\n",
    "        for batch_idx, (contexts, targets) in enumerate(valid_loader):\n",
    "            #send the data to the device\n",
    "            contexts, targets = contexts.to(device), targets.to(device)\n",
    "\n",
    "            #run the forward pass\n",
    "            pred = model(contexts.float())\n",
    "            \n",
    "            #sigmoid and threshold the predictions\n",
    "            pred = torch.sigmoid(pred)\n",
    "            pred = torch.round(pred)\n",
    "            \n",
    "            #count the number of correct predictions\n",
    "            num_corr += torch.sum(pred.float().squeeze() == targets.float())\n",
    "            \n",
    "        print(f\"Epoch: {epoch}, Loss: {sum_loss:.6f}, Validation Accuracy: {num_corr/len(valid_loader.dataset):.6f}\")\n",
    "    accs.append(num_corr/len(valid_loader.dataset))\n",
    "    eps.append(epoch)"
   ]
  },
  {
   "cell_type": "code",
   "execution_count": 15,
   "id": "29fe579b-15f4-43e9-8279-2c93a1d1f447",
   "metadata": {},
   "outputs": [
    {
     "data": {
      "image/png": "[encoded data removed]",
      "text/plain": [
       "<Figure size 432x288 with 1 Axes>"
      ]
     },
     "metadata": {
      "needs_background": "light"
     },
     "output_type": "display_data"
    }
   ],
   "source": [
    "#plot the accuracy\n",
    "plt.title(\"Validation Accuracy\")\n",
    "plt.plot(eps, accs)\n",
    "plt.show()"
   ]
  },
  {
   "cell_type": "markdown",
   "id": "960a01fc-5438-45eb-832c-5f6c2ddde54f",
   "metadata": {},
   "source": [
    "Test the model"
   ]
  },
  {
   "cell_type": "code",
   "execution_count": 16,
   "id": "d42421f4-824b-4865-9631-13907fd596ff",
   "metadata": {},
   "outputs": [
    {
     "name": "stdout",
     "output_type": "stream",
     "text": [
      "Test Accuracy: 0.470000\n"
     ]
    }
   ],
   "source": [
    "model.eval()\n",
    "\n",
    "with torch.no_grad():\n",
    "    num_corr = 0\n",
    "    for batch_idx, (contexts, targets) in enumerate(test_loader):\n",
    "        #send the data to the device\n",
    "        contexts, targets = contexts.to(device), targets.to(device)\n",
    "\n",
    "        #run the forward pass\n",
    "        pred = model(contexts.float())\n",
    "\n",
    "        #sigmoid and threshold the predictions\n",
    "        pred = torch.sigmoid(pred)\n",
    "        pred = torch.round(pred)\n",
    "\n",
    "        #count the number of correct predictions\n",
    "        num_corr += torch.sum(pred.float().squeeze() == targets.float())\n",
    "            \n",
    "    print(f\"Test Accuracy: {num_corr/len(test_loader.dataset):.6f}\")"
   ]
  },
  {
   "cell_type": "markdown",
   "id": "001a6d27-fe36-4084-bc19-d6be7c1e7eda",
   "metadata": {},
   "source": [
    "### Task 3:\n",
    "For my model, my parameters in_dim and out_dim were based on the expected input feature dimension and expected output feature dimension, which are 11 input features and 1 output feature(binary). I chose 8 to be my hidden dimension because by convention, the hidden dimension should be a power of 2 and 8 happened to be close to half of my input feature dimension. I used both dropout regularization and an optimizer to prevent the possiblity of overfitting and mitigate exploding/vanishing gradients, which did not end up occurring. I chose to use a low learning rate of 0.0005 because the neural network only has two layers so the speed of learning would not be impacted much and to reduce the possibility of gradient explosion. Though I initially chose 10 epochs, I found that the validation accuracy peaks at 5 epochs so I decided to reduce the number of epochs to 5. "
   ]
  },
  {
   "cell_type": "markdown",
   "id": "558ec986-f390-4c2c-bd3f-bb552171b499",
   "metadata": {
    "tags": []
   },
   "source": [
    "### Task 4:\n",
    "For my baseline model, I will be applying scikit-learn's AdaBoost tree classifier to classify whether or not there is credit card fraud."
   ]
  },
  {
   "cell_type": "code",
   "execution_count": 17,
   "id": "6f292ec6-35a5-4092-8016-a42e49f46aed",
   "metadata": {},
   "outputs": [],
   "source": [
    "import sklearn\n",
    "from sklearn.ensemble import AdaBoostClassifier"
   ]
  },
  {
   "cell_type": "code",
   "execution_count": 18,
   "id": "620705ce-8052-4985-b980-0a05580e436c",
   "metadata": {},
   "outputs": [],
   "source": [
    "#fit and predict with the model\n",
    "boost_model = AdaBoostClassifier(n_estimators=4, random_state=1, algorithm='SAMME')\n",
    "boost_model.fit(train_data_cpy, train_label_cpy)\n",
    "boost_pred = boost_model.predict(test_data_cpy)"
   ]
  },
  {
   "cell_type": "code",
   "execution_count": 19,
   "id": "c3b1eb39-8291-4dfa-8651-1812679770e1",
   "metadata": {},
   "outputs": [
    {
     "name": "stdout",
     "output_type": "stream",
     "text": [
      "Bagging Accuracy: 0.792000\n"
     ]
    }
   ],
   "source": [
    "#display the boosting accuracy\n",
    "accuracy = np.sum(boost_pred == test_label_cpy)/test_label_cpy.shape[0]\n",
    "print(f\"Bagging Accuracy: {accuracy:.6f}\")"
   ]
  },
  {
   "cell_type": "markdown",
   "id": "01b5bd3d-568e-4b8b-b765-bb6cf52f0795",
   "metadata": {},
   "source": [
    "In general, I found that the decision tree consistently outperforms the two layer neural network in terms of prediction accuracy. I believe the reason behind this is that with only 1 hidden layer and two layers in the neural network, unlike the decision tree which produces many splits to classify the input data, the neural network is not as capable of seeing diversity in the input data and therefore cannot generalize as well. On the other hand, the decision tree continues splitting and ends up making much more decisions compared to the neural network if we treat each node as a perceptrion and hence is able to generalize better. The scale of a two layer neural network is quite small while the scale of a decision tree is much, much larger."
   ]
  }
 ],
 "metadata": {
  "kernelspec": {
   "display_name": "default:Python",
   "language": "python",
   "name": "conda-env-default-py"
  },
  "language_info": {
   "codemirror_mode": {
    "name": "ipython",
    "version": 3
   },
   "file_extension": ".py",
   "mimetype": "text/x-python",
   "name": "python",
   "nbconvert_exporter": "python",
   "pygments_lexer": "ipython3",
   "version": "3.9.10"
  }
 },
 "nbformat": 4,
 "nbformat_minor": 5
}
