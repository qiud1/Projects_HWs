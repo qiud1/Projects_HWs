{
 "cells": [
  {
   "cell_type": "markdown",
   "id": "63aa9e59-1ea8-4941-9b62-3f73fa1d3aa1",
   "metadata": {
    "tags": []
   },
   "source": [
    "### HW 4: Sequence Models\n",
    "For this assignment, I will be using the Germany electricity power for 2006-2017 dataset from kaggle, located at https://www.kaggle.com/datasets/mvianna10/germany-electricity-power-for-20062017. This dataset introduces the problem of trying to predict the electricity power in Germany given a previous set of times. This problem requires a sequence model because the data is a time series and a normal neural network using a feed forwards network does not account for the order of data. To implement the models, I will be using PyTorch's RNN, GRU, and LSTM frameworks."
   ]
  },
  {
   "cell_type": "code",
   "execution_count": 30,
   "id": "d461f545-9f18-4b6a-943a-4d3c87808c28",
   "metadata": {},
   "outputs": [],
   "source": [
    "#import the necessary packages\n",
    "import torch\n",
    "import torch.nn as nn\n",
    "import torch.nn.functional as F\n",
    "import torch.optim as optim\n",
    "import torch.utils.data as du\n",
    "import numpy as np\n",
    "from torchvision import datasets, transforms\n",
    "from torch.utils.data import Dataset\n",
    "import pandas as pd\n",
    "import matplotlib.pyplot as plt\n",
    "from sklearn.model_selection import train_test_split\n",
    "import math\n",
    "from sklearn.metrics.pairwise import cosine_similarity"
   ]
  },
  {
   "cell_type": "markdown",
   "id": "413fe1b9-4673-45bd-9a7c-7b7807fe5957",
   "metadata": {},
   "source": [
    "#### Conduct Exploratory Data Analysis"
   ]
  },
  {
   "cell_type": "code",
   "execution_count": 2,
   "id": "7e0f8b7a-6799-4e7e-8ac2-7581d8e08871",
   "metadata": {},
   "outputs": [
    {
     "data": {
      "text/html": [
       "<div>\n",
       "<style scoped>\n",
       "    .dataframe tbody tr th:only-of-type {\n",
       "        vertical-align: middle;\n",
       "    }\n",
       "\n",
       "    .dataframe tbody tr th {\n",
       "        vertical-align: top;\n",
       "    }\n",
       "\n",
       "    .dataframe thead th {\n",
       "        text-align: right;\n",
       "    }\n",
       "</style>\n",
       "<table border=\"1\" class=\"dataframe\">\n",
       "  <thead>\n",
       "    <tr style=\"text-align: right;\">\n",
       "      <th></th>\n",
       "      <th>Date</th>\n",
       "      <th>Consumption</th>\n",
       "      <th>Wind</th>\n",
       "      <th>Solar</th>\n",
       "      <th>Wind+Solar</th>\n",
       "    </tr>\n",
       "  </thead>\n",
       "  <tbody>\n",
       "    <tr>\n",
       "      <th>0</th>\n",
       "      <td>2006-01-01</td>\n",
       "      <td>1069.184</td>\n",
       "      <td>NaN</td>\n",
       "      <td>NaN</td>\n",
       "      <td>NaN</td>\n",
       "    </tr>\n",
       "    <tr>\n",
       "      <th>1</th>\n",
       "      <td>2006-01-02</td>\n",
       "      <td>1380.521</td>\n",
       "      <td>NaN</td>\n",
       "      <td>NaN</td>\n",
       "      <td>NaN</td>\n",
       "    </tr>\n",
       "    <tr>\n",
       "      <th>2</th>\n",
       "      <td>2006-01-03</td>\n",
       "      <td>1442.533</td>\n",
       "      <td>NaN</td>\n",
       "      <td>NaN</td>\n",
       "      <td>NaN</td>\n",
       "    </tr>\n",
       "    <tr>\n",
       "      <th>3</th>\n",
       "      <td>2006-01-04</td>\n",
       "      <td>1457.217</td>\n",
       "      <td>NaN</td>\n",
       "      <td>NaN</td>\n",
       "      <td>NaN</td>\n",
       "    </tr>\n",
       "    <tr>\n",
       "      <th>4</th>\n",
       "      <td>2006-01-05</td>\n",
       "      <td>1477.131</td>\n",
       "      <td>NaN</td>\n",
       "      <td>NaN</td>\n",
       "      <td>NaN</td>\n",
       "    </tr>\n",
       "  </tbody>\n",
       "</table>\n",
       "</div>"
      ],
      "text/plain": [
       "         Date  Consumption  Wind  Solar  Wind+Solar\n",
       "0  2006-01-01     1069.184   NaN    NaN         NaN\n",
       "1  2006-01-02     1380.521   NaN    NaN         NaN\n",
       "2  2006-01-03     1442.533   NaN    NaN         NaN\n",
       "3  2006-01-04     1457.217   NaN    NaN         NaN\n",
       "4  2006-01-05     1477.131   NaN    NaN         NaN"
      ]
     },
     "execution_count": 2,
     "metadata": {},
     "output_type": "execute_result"
    }
   ],
   "source": [
    "#read in the data\n",
    "eng_data = pd.read_csv(\"../../PIML/HW4/opsd_germany_daily.csv\")\n",
    "eng_data.head(5)"
   ]
  },
  {
   "cell_type": "code",
   "execution_count": 3,
   "id": "55824300-a7a8-4456-930f-3f18f1c5d452",
   "metadata": {},
   "outputs": [
    {
     "data": {
      "text/html": [
       "<div>\n",
       "<style scoped>\n",
       "    .dataframe tbody tr th:only-of-type {\n",
       "        vertical-align: middle;\n",
       "    }\n",
       "\n",
       "    .dataframe tbody tr th {\n",
       "        vertical-align: top;\n",
       "    }\n",
       "\n",
       "    .dataframe thead th {\n",
       "        text-align: right;\n",
       "    }\n",
       "</style>\n",
       "<table border=\"1\" class=\"dataframe\">\n",
       "  <thead>\n",
       "    <tr style=\"text-align: right;\">\n",
       "      <th></th>\n",
       "      <th>Date</th>\n",
       "      <th>Consumption</th>\n",
       "      <th>Wind</th>\n",
       "      <th>Solar</th>\n",
       "      <th>Wind+Solar</th>\n",
       "    </tr>\n",
       "  </thead>\n",
       "  <tbody>\n",
       "    <tr>\n",
       "      <th>4378</th>\n",
       "      <td>2017-12-27</td>\n",
       "      <td>1263.94091</td>\n",
       "      <td>394.507</td>\n",
       "      <td>16.530</td>\n",
       "      <td>411.037</td>\n",
       "    </tr>\n",
       "    <tr>\n",
       "      <th>4379</th>\n",
       "      <td>2017-12-28</td>\n",
       "      <td>1299.86398</td>\n",
       "      <td>506.424</td>\n",
       "      <td>14.162</td>\n",
       "      <td>520.586</td>\n",
       "    </tr>\n",
       "    <tr>\n",
       "      <th>4380</th>\n",
       "      <td>2017-12-29</td>\n",
       "      <td>1295.08753</td>\n",
       "      <td>584.277</td>\n",
       "      <td>29.854</td>\n",
       "      <td>614.131</td>\n",
       "    </tr>\n",
       "    <tr>\n",
       "      <th>4381</th>\n",
       "      <td>2017-12-30</td>\n",
       "      <td>1215.44897</td>\n",
       "      <td>721.247</td>\n",
       "      <td>7.467</td>\n",
       "      <td>728.714</td>\n",
       "    </tr>\n",
       "    <tr>\n",
       "      <th>4382</th>\n",
       "      <td>2017-12-31</td>\n",
       "      <td>1107.11488</td>\n",
       "      <td>721.176</td>\n",
       "      <td>19.980</td>\n",
       "      <td>741.156</td>\n",
       "    </tr>\n",
       "  </tbody>\n",
       "</table>\n",
       "</div>"
      ],
      "text/plain": [
       "            Date  Consumption     Wind   Solar  Wind+Solar\n",
       "4378  2017-12-27   1263.94091  394.507  16.530     411.037\n",
       "4379  2017-12-28   1299.86398  506.424  14.162     520.586\n",
       "4380  2017-12-29   1295.08753  584.277  29.854     614.131\n",
       "4381  2017-12-30   1215.44897  721.247   7.467     728.714\n",
       "4382  2017-12-31   1107.11488  721.176  19.980     741.156"
      ]
     },
     "execution_count": 3,
     "metadata": {},
     "output_type": "execute_result"
    }
   ],
   "source": [
    "eng_data.tail(5)"
   ]
  },
  {
   "cell_type": "code",
   "execution_count": 4,
   "id": "864c40d2-a12b-4fea-ae8e-b9f028202d7a",
   "metadata": {},
   "outputs": [
    {
     "name": "stdout",
     "output_type": "stream",
     "text": [
      "<class 'pandas.core.frame.DataFrame'>\n",
      "RangeIndex: 4383 entries, 0 to 4382\n",
      "Data columns (total 5 columns):\n",
      " #   Column       Non-Null Count  Dtype  \n",
      "---  ------       --------------  -----  \n",
      " 0   Date         4383 non-null   object \n",
      " 1   Consumption  4383 non-null   float64\n",
      " 2   Wind         2920 non-null   float64\n",
      " 3   Solar        2188 non-null   float64\n",
      " 4   Wind+Solar   2187 non-null   float64\n",
      "dtypes: float64(4), object(1)\n",
      "memory usage: 171.3+ KB\n"
     ]
    }
   ],
   "source": [
    "eng_data.info()"
   ]
  },
  {
   "cell_type": "code",
   "execution_count": 5,
   "id": "6b590660-1789-4426-b4f2-47b0f483e95e",
   "metadata": {},
   "outputs": [
    {
     "data": {
      "text/plain": [
       "Date              0\n",
       "Consumption       0\n",
       "Wind           1463\n",
       "Solar          2195\n",
       "Wind+Solar     2196\n",
       "dtype: int64"
      ]
     },
     "execution_count": 5,
     "metadata": {},
     "output_type": "execute_result"
    }
   ],
   "source": [
    "#check for null data\n",
    "eng_data.isnull().sum()"
   ]
  },
  {
   "cell_type": "code",
   "execution_count": 6,
   "id": "8600350c-e27b-4f93-b2f6-e716f8982dcf",
   "metadata": {},
   "outputs": [
    {
     "data": {
      "text/html": [
       "<div>\n",
       "<style scoped>\n",
       "    .dataframe tbody tr th:only-of-type {\n",
       "        vertical-align: middle;\n",
       "    }\n",
       "\n",
       "    .dataframe tbody tr th {\n",
       "        vertical-align: top;\n",
       "    }\n",
       "\n",
       "    .dataframe thead th {\n",
       "        text-align: right;\n",
       "    }\n",
       "</style>\n",
       "<table border=\"1\" class=\"dataframe\">\n",
       "  <thead>\n",
       "    <tr style=\"text-align: right;\">\n",
       "      <th></th>\n",
       "      <th>Date</th>\n",
       "      <th>Consumption</th>\n",
       "    </tr>\n",
       "  </thead>\n",
       "  <tbody>\n",
       "    <tr>\n",
       "      <th>0</th>\n",
       "      <td>2006-01-01</td>\n",
       "      <td>1069.184</td>\n",
       "    </tr>\n",
       "    <tr>\n",
       "      <th>1</th>\n",
       "      <td>2006-01-02</td>\n",
       "      <td>1380.521</td>\n",
       "    </tr>\n",
       "    <tr>\n",
       "      <th>2</th>\n",
       "      <td>2006-01-03</td>\n",
       "      <td>1442.533</td>\n",
       "    </tr>\n",
       "    <tr>\n",
       "      <th>3</th>\n",
       "      <td>2006-01-04</td>\n",
       "      <td>1457.217</td>\n",
       "    </tr>\n",
       "    <tr>\n",
       "      <th>4</th>\n",
       "      <td>2006-01-05</td>\n",
       "      <td>1477.131</td>\n",
       "    </tr>\n",
       "  </tbody>\n",
       "</table>\n",
       "</div>"
      ],
      "text/plain": [
       "         Date  Consumption\n",
       "0  2006-01-01     1069.184\n",
       "1  2006-01-02     1380.521\n",
       "2  2006-01-03     1442.533\n",
       "3  2006-01-04     1457.217\n",
       "4  2006-01-05     1477.131"
      ]
     },
     "execution_count": 6,
     "metadata": {},
     "output_type": "execute_result"
    }
   ],
   "source": [
    "#Since more than half of the entries in Wind, Solar, and Wind+Solar are Nan, disregard the columns.\n",
    "eng_data.drop(\"Wind\", axis = 1, inplace = True)\n",
    "eng_data.drop(\"Solar\", axis = 1, inplace = True)\n",
    "eng_data.drop(\"Wind+Solar\", axis = 1, inplace = True)\n",
    "eng_data.head(5)"
   ]
  },
  {
   "cell_type": "code",
   "execution_count": 7,
   "id": "1fcbc9f4-0aa9-4cd1-9104-f01019aa7caa",
   "metadata": {},
   "outputs": [
    {
     "data": {
      "text/html": [
       "<div>\n",
       "<style scoped>\n",
       "    .dataframe tbody tr th:only-of-type {\n",
       "        vertical-align: middle;\n",
       "    }\n",
       "\n",
       "    .dataframe tbody tr th {\n",
       "        vertical-align: top;\n",
       "    }\n",
       "\n",
       "    .dataframe thead th {\n",
       "        text-align: right;\n",
       "    }\n",
       "</style>\n",
       "<table border=\"1\" class=\"dataframe\">\n",
       "  <thead>\n",
       "    <tr style=\"text-align: right;\">\n",
       "      <th></th>\n",
       "      <th>Consumption</th>\n",
       "    </tr>\n",
       "  </thead>\n",
       "  <tbody>\n",
       "    <tr>\n",
       "      <th>0</th>\n",
       "      <td>1069.184</td>\n",
       "    </tr>\n",
       "    <tr>\n",
       "      <th>1</th>\n",
       "      <td>1380.521</td>\n",
       "    </tr>\n",
       "    <tr>\n",
       "      <th>2</th>\n",
       "      <td>1442.533</td>\n",
       "    </tr>\n",
       "    <tr>\n",
       "      <th>3</th>\n",
       "      <td>1457.217</td>\n",
       "    </tr>\n",
       "    <tr>\n",
       "      <th>4</th>\n",
       "      <td>1477.131</td>\n",
       "    </tr>\n",
       "  </tbody>\n",
       "</table>\n",
       "</div>"
      ],
      "text/plain": [
       "   Consumption\n",
       "0     1069.184\n",
       "1     1380.521\n",
       "2     1442.533\n",
       "3     1457.217\n",
       "4     1477.131"
      ]
     },
     "execution_count": 7,
     "metadata": {},
     "output_type": "execute_result"
    }
   ],
   "source": [
    "#Since the data is sequential, the date is irrevelant and can be dropped.\n",
    "eng_data.drop(\"Date\", axis = 1, inplace = True)\n",
    "eng_data.head(5)"
   ]
  },
  {
   "cell_type": "code",
   "execution_count": 8,
   "id": "0bf132cf-f37a-4a96-978b-0a842c1fd295",
   "metadata": {},
   "outputs": [
    {
     "data": {
      "text/html": [
       "<div>\n",
       "<style scoped>\n",
       "    .dataframe tbody tr th:only-of-type {\n",
       "        vertical-align: middle;\n",
       "    }\n",
       "\n",
       "    .dataframe tbody tr th {\n",
       "        vertical-align: top;\n",
       "    }\n",
       "\n",
       "    .dataframe thead th {\n",
       "        text-align: right;\n",
       "    }\n",
       "</style>\n",
       "<table border=\"1\" class=\"dataframe\">\n",
       "  <thead>\n",
       "    <tr style=\"text-align: right;\">\n",
       "      <th></th>\n",
       "      <th>Consumption</th>\n",
       "    </tr>\n",
       "  </thead>\n",
       "  <tbody>\n",
       "    <tr>\n",
       "      <th>0</th>\n",
       "      <td>0.261527</td>\n",
       "    </tr>\n",
       "    <tr>\n",
       "      <th>1</th>\n",
       "      <td>0.620552</td>\n",
       "    </tr>\n",
       "    <tr>\n",
       "      <th>2</th>\n",
       "      <td>0.692063</td>\n",
       "    </tr>\n",
       "    <tr>\n",
       "      <th>3</th>\n",
       "      <td>0.708996</td>\n",
       "    </tr>\n",
       "    <tr>\n",
       "      <th>4</th>\n",
       "      <td>0.731960</td>\n",
       "    </tr>\n",
       "  </tbody>\n",
       "</table>\n",
       "</div>"
      ],
      "text/plain": [
       "   Consumption\n",
       "0     0.261527\n",
       "1     0.620552\n",
       "2     0.692063\n",
       "3     0.708996\n",
       "4     0.731960"
      ]
     },
     "execution_count": 8,
     "metadata": {},
     "output_type": "execute_result"
    }
   ],
   "source": [
    "#Normalize the dataset\n",
    "def normalize(x):\n",
    "    \"\"\"\n",
    "    Normalizes the data within dataframe x\n",
    "    \"\"\"\n",
    "    x_norm = (x-x.min())/(x.max()-x.min())\n",
    "    return x_norm\n",
    "\n",
    "eng_data = normalize(eng_data)\n",
    "eng_data.head(5)"
   ]
  },
  {
   "cell_type": "code",
   "execution_count": 9,
   "id": "6f54fc0b-8659-4af6-aec1-22ed17a6e324",
   "metadata": {},
   "outputs": [
    {
     "data": {
      "text/plain": [
       "[<matplotlib.lines.Line2D at 0x7fd7f44d6730>]"
      ]
     },
     "execution_count": 9,
     "metadata": {},
     "output_type": "execute_result"
    },
    {
     "data": {
      "image/png": "[encoded data removed]",
      "text/plain": [
       "<Figure size 432x288 with 1 Axes>"
      ]
     },
     "metadata": {
      "needs_background": "light"
     },
     "output_type": "display_data"
    }
   ],
   "source": [
    "#Plot the data\n",
    "eng_data = eng_data.to_numpy()\n",
    "x = np.arange(1, eng_data.shape[0]+1)\n",
    "plt.title(\"Germany Electricity Power from 2006-2017\")\n",
    "plt.plot(x, eng_data)"
   ]
  },
  {
   "cell_type": "markdown",
   "id": "364965dc-30c0-449a-bee0-eaa7dab8b9f9",
   "metadata": {},
   "source": [
    "Define the Dataloader"
   ]
  },
  {
   "cell_type": "code",
   "execution_count": 10,
   "id": "bb479f9b-1e00-44cc-b98c-8ae904f4e899",
   "metadata": {},
   "outputs": [],
   "source": [
    "class EngData(du.Dataset):\n",
    "    \"\"\"\n",
    "    Represents the electricity power data and\n",
    "    handles the passing of data in batches.\n",
    "    \"\"\"\n",
    "    def __init__(self, eng_data, win_size):\n",
    "        self.data = eng_data\n",
    "        self.win_size = win_size\n",
    "        \n",
    "    def __len__(self):\n",
    "        return len(self.data) - self.win_size\n",
    "        \n",
    "    def __getitem__(self, idx):\n",
    "        entries = torch.tensor(self.data[idx:idx+self.win_size])\n",
    "        labels = torch.tensor(self.data[idx+self.win_size])\n",
    "        \n",
    "        return entries, labels"
   ]
  },
  {
   "cell_type": "markdown",
   "id": "8ceec1e3-ba73-4531-ac4e-633a36906fee",
   "metadata": {},
   "source": [
    "Define the model"
   ]
  },
  {
   "cell_type": "code",
   "execution_count": 11,
   "id": "faa7900d-9094-4cd8-a840-049f9757a157",
   "metadata": {},
   "outputs": [],
   "source": [
    "class Model(nn.Module):\n",
    "    \"\"\"\n",
    "    Represents either a RNN, LSTM, or GRU depending\n",
    "    on the given classification cls.\n",
    "    \"\"\"\n",
    "    \n",
    "    def __init__(self, c_type, in_dim, hidden_dim, out_dim, num_layers, win_size):\n",
    "        super(Model, self).__init__()\n",
    "        if c_type == \"RNN\":\n",
    "            self.r = nn.RNN(in_dim, hidden_dim, batch_first = True, num_layers = num_layers)\n",
    "        elif c_type == \"GRU\":\n",
    "            self.r = nn.GRU(in_dim, hidden_dim, batch_first = True, num_layers = num_layers)\n",
    "        else:\n",
    "            self.r = nn.LSTM(in_dim, hidden_dim, batch_first = True, num_layers = num_layers)\n",
    "            \n",
    "        self.flatten = nn.Flatten()\n",
    "        self.fc1 = nn.Linear(win_size* hidden_dim, hidden_dim)\n",
    "        self.fc2 = nn.Linear(hidden_dim, out_dim)\n",
    "            \n",
    "    def forward(self, x):\n",
    "        #feed the input through the network\n",
    "        x, hn = self.r(x)\n",
    "        \n",
    "        x = self.flatten(x)\n",
    "        \n",
    "        #feed the output through an MLP\n",
    "        x = self.fc1(x)\n",
    "        x = F.relu(x)\n",
    "        x = self.fc2(x)\n",
    "        \n",
    "        return x"
   ]
  },
  {
   "cell_type": "markdown",
   "id": "6a32f07b-95d9-48d7-8f82-ce09c2a9cab0",
   "metadata": {},
   "source": [
    "Do a train, test, and validation split on the data."
   ]
  },
  {
   "cell_type": "code",
   "execution_count": 12,
   "id": "338079ef-113d-4a30-b575-b7c0eae44d5c",
   "metadata": {},
   "outputs": [],
   "source": [
    "#do a train/test/validation split of 75% 15% 10%\n",
    "train_data, other = train_test_split(eng_data, test_size = 0.25)\n",
    "valid_data, test_data = train_test_split(other, test_size = 0.4)"
   ]
  },
  {
   "cell_type": "code",
   "execution_count": 13,
   "id": "26652faa-5c27-4683-8abf-28008e6042c1",
   "metadata": {},
   "outputs": [
    {
     "name": "stdout",
     "output_type": "stream",
     "text": [
      "using cpu\n"
     ]
    }
   ],
   "source": [
    "#define training parameters\n",
    "device = f'cuda:0' if torch.cuda.is_available() else 'cpu'\n",
    "print(f\"using {device}\")\n",
    "\n",
    "batch_size = 10\n",
    "learning_rate = 0.01\n",
    "epochs = 5\n",
    "in_dim = eng_data.shape[1]\n",
    "hidden_dim = 4\n",
    "out_dim = 1\n",
    "num_layers = 4"
   ]
  },
  {
   "cell_type": "markdown",
   "id": "76072330-7727-4817-99d4-741a8a5a1339",
   "metadata": {},
   "source": [
    "Initialize the Dataloaders"
   ]
  },
  {
   "cell_type": "code",
   "execution_count": 14,
   "id": "97276021-daf7-442a-a104-ea2e039823ee",
   "metadata": {},
   "outputs": [],
   "source": [
    "#initialize datasets\n",
    "train_data = EngData(train_data, batch_size)\n",
    "valid_data = EngData(valid_data, batch_size)\n",
    "test_data = EngData(test_data, batch_size)\n",
    "\n",
    "#set up the dataloader\n",
    "train_loader = du.DataLoader(dataset=train_data,\n",
    "                             batch_size=batch_size,\n",
    "                             shuffle=True)\n",
    "valid_loader = du.DataLoader(dataset=valid_data,\n",
    "                             batch_size=batch_size,\n",
    "                             shuffle=True)\n",
    "test_loader = du.DataLoader(dataset=test_data,\n",
    "                             batch_size=batch_size,\n",
    "                             shuffle=True)"
   ]
  },
  {
   "cell_type": "markdown",
   "id": "896e0817-67a6-4489-9456-8584451ce81a",
   "metadata": {
    "tags": []
   },
   "source": [
    "### Task 1 Part 1: RNN"
   ]
  },
  {
   "cell_type": "markdown",
   "id": "edcc5043-f251-48fa-bcc3-f79f2df7cb96",
   "metadata": {},
   "source": [
    "For the RNN part, I will be using PyTorch's RNN framework. The RNN will accept input that is the dimension of the time series data, which in our case has 1 feature. The hidden dim will be 2, and it will accept the data batch first as that is how our data is passed from the dataloader. The RNN will have 4 layers. The input will be b x 1 the output of the RNN will be fed into a multi layer perceptron and transformed into b x out_dim, which also happens to be 1. In between layers, relu activation will be applied. To evaluate my model, I will be using mean squared error loss where I will aim to minimize the mse loss produced by the network."
   ]
  },
  {
   "cell_type": "code",
   "execution_count": 15,
   "id": "db33764a-45b2-4473-8ee3-8c9dad32fdce",
   "metadata": {},
   "outputs": [
    {
     "data": {
      "text/plain": [
       "Model(\n",
       "  (r): RNN(1, 4, num_layers=4, batch_first=True)\n",
       "  (flatten): Flatten(start_dim=1, end_dim=-1)\n",
       "  (fc1): Linear(in_features=40, out_features=4, bias=True)\n",
       "  (fc2): Linear(in_features=4, out_features=1, bias=True)\n",
       ")"
      ]
     },
     "execution_count": 15,
     "metadata": {},
     "output_type": "execute_result"
    }
   ],
   "source": [
    "#Initialize the Model\n",
    "RNN_model = Model(\"RNN\", in_dim, hidden_dim, out_dim, num_layers, batch_size)\n",
    "optimizer = optim.Adam(RNN_model.parameters(), lr=learning_rate)\n",
    "\n",
    "#send the model to the device\n",
    "RNN_model = RNN_model.to(device)\n",
    "RNN_model.train()"
   ]
  },
  {
   "cell_type": "markdown",
   "id": "bb0e1899-6d81-4a56-8985-c3db83220441",
   "metadata": {},
   "source": [
    "Train the model"
   ]
  },
  {
   "cell_type": "code",
   "execution_count": 16,
   "id": "2bd824b6-3119-4e24-a110-bf11c2840455",
   "metadata": {},
   "outputs": [
    {
     "name": "stdout",
     "output_type": "stream",
     "text": [
      "Epoch: 1, Test Loss: 0.050659, Validation Loss: 0.037571\n",
      "Epoch: 2, Test Loss: 0.037744, Validation Loss: 0.049008\n",
      "Epoch: 3, Test Loss: 0.040495, Validation Loss: 0.036726\n",
      "Epoch: 4, Test Loss: 0.038100, Validation Loss: 0.046200\n",
      "Epoch: 5, Test Loss: 0.038324, Validation Loss: 0.037028\n"
     ]
    }
   ],
   "source": [
    "test_losses = []\n",
    "epx = []\n",
    "for epoch in range(1, epochs+1):\n",
    "    sum_loss = 0.\n",
    "    RNN_model.train()\n",
    "    for batch_idx, (contexts, targets) in enumerate(train_loader):\n",
    "        \n",
    "        optimizer.zero_grad()\n",
    "        \n",
    "        #send information to device\n",
    "        contexts, targets = contexts.to(device), targets.to(device)\n",
    "        \n",
    "        #run the forward pass\n",
    "        preds = RNN_model(contexts.float())\n",
    "        \n",
    "        #compute loss\n",
    "        loss = F.mse_loss(preds, targets.float())\n",
    "        sum_loss += loss.item()\n",
    "        \n",
    "        #backpropagate\n",
    "        loss.backward()\n",
    "        optimizer.step()\n",
    "    \n",
    "    sum_loss /= len(train_loader)\n",
    "    RNN_model.eval()\n",
    "    \n",
    "    with torch.no_grad():\n",
    "        valid_loss = 0.\n",
    "        for batch_idx, (contexts, targets) in enumerate(valid_loader):\n",
    "            \n",
    "            #send information to device\n",
    "            contexts, targets = contexts.to(device), targets.to(device)\n",
    "            \n",
    "            #run the forward pass\n",
    "            preds = RNN_model(contexts.float())\n",
    "            \n",
    "            #compute loss\n",
    "            loss = F.mse_loss(preds, targets.float())\n",
    "            valid_loss += loss.item()\n",
    "        \n",
    "        valid_loss /= len(valid_loader)\n",
    "    \n",
    "    print(f\"Epoch: {epoch}, Test Loss: {sum_loss:.6f}, Validation Loss: {valid_loss:.6f}\")\n",
    "    \n",
    "    #graphing stats\n",
    "    test_losses.append(sum_loss)\n",
    "    epx.append(epoch)"
   ]
  },
  {
   "cell_type": "code",
   "execution_count": 62,
   "id": "a5d53df6-be6e-4d75-848e-0b0d90959c86",
   "metadata": {},
   "outputs": [
    {
     "data": {
      "image/png": "[encoded data removed]",
      "text/plain": [
       "<Figure size 432x288 with 1 Axes>"
      ]
     },
     "metadata": {
      "needs_background": "light"
     },
     "output_type": "display_data"
    }
   ],
   "source": [
    "#Plot the losses\n",
    "plt.plot(epx, test_losses)\n",
    "plt.show()"
   ]
  },
  {
   "cell_type": "code",
   "execution_count": 18,
   "id": "07c64bc0-181f-40ef-a74a-e7cee28936a4",
   "metadata": {
    "tags": []
   },
   "outputs": [
    {
     "name": "stdout",
     "output_type": "stream",
     "text": [
      "Test Loss: 0.026563\n"
     ]
    }
   ],
   "source": [
    "#Test the model\n",
    "RNN_model.eval()\n",
    "test_loss = 0.\n",
    "\n",
    "for batch_idx, (contexts, targets) in enumerate(test_loader):\n",
    "            \n",
    "    #send information to device\n",
    "    contexts, targets = contexts.to(device), targets.to(device)\n",
    "\n",
    "    #run the forward pass\n",
    "    preds = RNN_model(contexts.float())\n",
    "\n",
    "    #compute loss\n",
    "    loss = F.mse_loss(preds, targets.float())\n",
    "    test_loss += loss.item()\n",
    "\n",
    "test_loss /= len(valid_loader)\n",
    "print(f\"Test Loss: {test_loss:.6f}\")"
   ]
  },
  {
   "cell_type": "markdown",
   "id": "94d7bf76-4430-4cb6-9b7f-49a79218a044",
   "metadata": {
    "tags": []
   },
   "source": [
    "### Task 1 Part 2: GRU and LSTM"
   ]
  },
  {
   "cell_type": "code",
   "execution_count": 19,
   "id": "9882101d-e3d3-4761-a411-05bbdc63230e",
   "metadata": {},
   "outputs": [
    {
     "data": {
      "text/plain": [
       "Model(\n",
       "  (r): LSTM(1, 4, num_layers=4, batch_first=True)\n",
       "  (flatten): Flatten(start_dim=1, end_dim=-1)\n",
       "  (fc1): Linear(in_features=40, out_features=4, bias=True)\n",
       "  (fc2): Linear(in_features=4, out_features=1, bias=True)\n",
       ")"
      ]
     },
     "execution_count": 19,
     "metadata": {},
     "output_type": "execute_result"
    }
   ],
   "source": [
    "#Initialize the Models\n",
    "GRU_model = Model(\"GRU\", in_dim, hidden_dim, out_dim, num_layers, batch_size)\n",
    "LSTM_model = Model(\"LSTM\", in_dim, hidden_dim, out_dim, num_layers, batch_size)\n",
    "GRU_optimizer = optim.Adam(GRU_model.parameters(), lr=learning_rate)\n",
    "LSTM_optimizer = optim.Adam(LSTM_model.parameters(), lr=learning_rate)\n",
    "\n",
    "#send the model to the device\n",
    "GRU_model = GRU_model.to(device)\n",
    "LSTM_model = LSTM_model.to(device)\n",
    "GRU_model.train()\n",
    "LSTM_model.train()"
   ]
  },
  {
   "cell_type": "code",
   "execution_count": 20,
   "id": "397773b0-231d-4daf-9be0-56ecb3dcb0d3",
   "metadata": {},
   "outputs": [
    {
     "name": "stdout",
     "output_type": "stream",
     "text": [
      "Epoch: 1, Test Loss: 0.053413, Validation Loss: 0.036165\n",
      "Epoch: 2, Test Loss: 0.036645, Validation Loss: 0.036106\n",
      "Epoch: 3, Test Loss: 0.036715, Validation Loss: 0.036240\n",
      "Epoch: 4, Test Loss: 0.036745, Validation Loss: 0.036074\n",
      "Epoch: 5, Test Loss: 0.036709, Validation Loss: 0.036809\n"
     ]
    }
   ],
   "source": [
    "#Train both models\n",
    "gru_losses = []\n",
    "epx = []\n",
    "for epoch in range(1, epochs+1):\n",
    "    sum_loss = 0.\n",
    "    GRU_model.train()\n",
    "    for batch_idx, (contexts, targets) in enumerate(train_loader):\n",
    "        \n",
    "        GRU_optimizer.zero_grad()\n",
    "        \n",
    "        #send information to device\n",
    "        contexts, targets = contexts.to(device), targets.to(device)\n",
    "        \n",
    "        #run the forward pass\n",
    "        preds = GRU_model(contexts.float())\n",
    "        \n",
    "        #compute loss\n",
    "        loss = F.mse_loss(preds, targets.float())\n",
    "        sum_loss += loss.item()\n",
    "        \n",
    "        #backpropagate\n",
    "        loss.backward()\n",
    "        GRU_optimizer.step()\n",
    "    \n",
    "    sum_loss /= len(train_loader)\n",
    "    GRU_model.eval()\n",
    "    \n",
    "    with torch.no_grad():\n",
    "        valid_loss = 0.\n",
    "        for batch_idx, (contexts, targets) in enumerate(valid_loader):\n",
    "            \n",
    "            #send information to device\n",
    "            contexts, targets = contexts.to(device), targets.to(device)\n",
    "            \n",
    "            #run the forward pass\n",
    "            preds = GRU_model(contexts.float())\n",
    "            \n",
    "            #compute loss\n",
    "            loss = F.mse_loss(preds, targets.float())\n",
    "            valid_loss += loss.item()\n",
    "        \n",
    "        valid_loss /= len(valid_loader)\n",
    "    \n",
    "    print(f\"Epoch: {epoch}, Test Loss: {sum_loss:.6f}, Validation Loss: {valid_loss:.6f}\")\n",
    "    \n",
    "    #graphing stats\n",
    "    gru_losses.append(sum_loss)\n",
    "    epx.append(epoch)"
   ]
  },
  {
   "cell_type": "code",
   "execution_count": 21,
   "id": "f93ea8ef-b09b-4698-be07-2ddfae1937ab",
   "metadata": {},
   "outputs": [
    {
     "name": "stdout",
     "output_type": "stream",
     "text": [
      "Epoch: 1, Test Loss: 0.041371, Validation Loss: 0.036438\n",
      "Epoch: 2, Test Loss: 0.037362, Validation Loss: 0.040863\n",
      "Epoch: 3, Test Loss: 0.036932, Validation Loss: 0.036081\n",
      "Epoch: 4, Test Loss: 0.037174, Validation Loss: 0.036014\n",
      "Epoch: 5, Test Loss: 0.036923, Validation Loss: 0.036436\n"
     ]
    }
   ],
   "source": [
    "#Train both models\n",
    "lstm_losses = []\n",
    "epx = []\n",
    "for epoch in range(1, epochs+1):\n",
    "    sum_loss = 0.\n",
    "    GRU_model.train()\n",
    "    for batch_idx, (contexts, targets) in enumerate(train_loader):\n",
    "        \n",
    "        LSTM_optimizer.zero_grad()\n",
    "        \n",
    "        #send information to device\n",
    "        contexts, targets = contexts.to(device), targets.to(device)\n",
    "        \n",
    "        #run the forward pass\n",
    "        preds = LSTM_model(contexts.float())\n",
    "        \n",
    "        #compute loss\n",
    "        loss = F.mse_loss(preds, targets.float())\n",
    "        sum_loss += loss.item()\n",
    "        \n",
    "        #backpropagate\n",
    "        loss.backward()\n",
    "        LSTM_optimizer.step()\n",
    "    \n",
    "    sum_loss /= len(train_loader)\n",
    "    LSTM_model.eval()\n",
    "    \n",
    "    with torch.no_grad():\n",
    "        valid_loss = 0.\n",
    "        for batch_idx, (contexts, targets) in enumerate(valid_loader):\n",
    "            \n",
    "            #send information to device\n",
    "            contexts, targets = contexts.to(device), targets.to(device)\n",
    "            \n",
    "            #run the forward pass\n",
    "            preds = LSTM_model(contexts.float())\n",
    "            \n",
    "            #compute loss\n",
    "            loss = F.mse_loss(preds, targets.float())\n",
    "            valid_loss += loss.item()\n",
    "        \n",
    "        valid_loss /= len(valid_loader)\n",
    "    \n",
    "    print(f\"Epoch: {epoch}, Test Loss: {sum_loss:.6f}, Validation Loss: {valid_loss:.6f}\")\n",
    "    \n",
    "    #graphing stats\n",
    "    lstm_losses.append(sum_loss)\n",
    "    epx.append(epoch)"
   ]
  },
  {
   "cell_type": "markdown",
   "id": "0851dbe8-1b72-4677-ae49-f14744e3cf9c",
   "metadata": {},
   "source": [
    "Plot the Losses"
   ]
  },
  {
   "cell_type": "code",
   "execution_count": 23,
   "id": "0b4be0a0-30d9-47e2-b32a-4708a3d06617",
   "metadata": {},
   "outputs": [
    {
     "data": {
      "image/png": "[encoded data removed]",
      "text/plain": [
       "<Figure size 432x288 with 1 Axes>"
      ]
     },
     "metadata": {
      "needs_background": "light"
     },
     "output_type": "display_data"
    }
   ],
   "source": [
    "plt.plot(epx, lstm_losses, label = \"LSTM\")\n",
    "plt.plot(epx, gru_losses, label = \"GRU\")\n",
    "plt.legend()\n",
    "plt.show()"
   ]
  },
  {
   "cell_type": "markdown",
   "id": "a08a32cc-0d8a-4cc2-8393-021e99a78bdb",
   "metadata": {},
   "source": [
    "Test the Two Models"
   ]
  },
  {
   "cell_type": "code",
   "execution_count": 24,
   "id": "7fc1758d-9643-423b-b8c7-0acc0461afd9",
   "metadata": {},
   "outputs": [
    {
     "name": "stdout",
     "output_type": "stream",
     "text": [
      "GRU Test Loss: 0.024245, LSTM Test Loss: 0.024268\n"
     ]
    }
   ],
   "source": [
    "#Test the model\n",
    "GRU_model.eval()\n",
    "LSTM_model.eval()\n",
    "GRU_loss = 0.\n",
    "LSTM_loss = 0.\n",
    "\n",
    "for batch_idx, (contexts, targets) in enumerate(test_loader):\n",
    "            \n",
    "    #send information to device\n",
    "    contexts, targets = contexts.to(device), targets.to(device)\n",
    "\n",
    "    #run the forward pass\n",
    "    GRU_preds = GRU_model(contexts.float())\n",
    "    LSTM_preds = LSTM_model(contexts.float())\n",
    "\n",
    "    #compute loss\n",
    "    g_loss = F.mse_loss(GRU_preds, targets.float())\n",
    "    l_loss = F.mse_loss(LSTM_preds, targets.float())\n",
    "    \n",
    "    GRU_loss += g_loss.item()\n",
    "    LSTM_loss += l_loss.item()\n",
    "\n",
    "GRU_loss /= len(valid_loader)\n",
    "LSTM_loss /= len(valid_loader)\n",
    "print(f\"GRU Test Loss: {GRU_loss:.6f}, LSTM Test Loss: {LSTM_loss:.6f}\")"
   ]
  },
  {
   "cell_type": "markdown",
   "id": "648ca3f8-0802-4843-ae34-b14b982df5fd",
   "metadata": {},
   "source": [
    "We see that LSTM and GRU performs the best with LSTM performing slightly better on the test set while RNN performs the worst. This is likely due to the fact that LSTM and GRU both contain gates that help it regulate information throughout the training process and therefore are better capable of learning time related data while it is harder for RNN to do this as it cannot forget data. Additionally, LSTMS also provide the bonus of preventing vanishing gradients."
   ]
  },
  {
   "cell_type": "markdown",
   "id": "760af12d-3176-4e15-bda1-437918821cb0",
   "metadata": {
    "tags": []
   },
   "source": [
    "### Task 1 Part 3: FFN to solve the same problem."
   ]
  },
  {
   "cell_type": "markdown",
   "id": "c5f6a6e0-3fd2-4dd0-be19-ed34a10475e1",
   "metadata": {},
   "source": [
    "Generally, using a feed forwards network to solve a time series problem is not a great idea as feed forward networks do not take into account the temporal aspect of data, meaning the order of the data does not matter. Since order is a defining feature of time series data, this make it hard for feed forward networks to generalize on time series data. An approach we may use to mitigate this problem would be to use positional encoding to encode the order of the data in a way such that the feed forward network can take account and make use of."
   ]
  },
  {
   "cell_type": "markdown",
   "id": "8e79f346-b8ad-4122-b2d7-7eec61736819",
   "metadata": {},
   "source": [
    "### Task 2: Word2vec and Cosine Similarity"
   ]
  },
  {
   "cell_type": "markdown",
   "id": "44ef804e-f596-4c4f-b5ea-c0bab3a75667",
   "metadata": {},
   "source": [
    "The embeddings used in this task will be Stanford's GloVe embeddings. For this set of embeddings, we will use cosine similarity as a similarity metric and euclidean distance as the dissimilarity metric. Euclidean distance serves as a good dissimilarity metric because it calculates the distance between two embeddings so we know that if the distance is high, the two words are not similar."
   ]
  },
  {
   "cell_type": "code",
   "execution_count": 25,
   "id": "2e0ef1f9-a3e0-4bff-bc88-0e91dcc2e804",
   "metadata": {},
   "outputs": [],
   "source": [
    "embeddings = {}\n",
    "with open(\"../../PIML/HW4/glove.6B.100d.txt\") as f:\n",
    "    lines = f.readlines()\n",
    "    for line in lines:\n",
    "        vals = line.split(' ')\n",
    "        word = vals[0]\n",
    "        embeds = [float(vals[i]) for i in range(1, len(vals)-1)]\n",
    "        embeddings[word] = embeds"
   ]
  },
  {
   "cell_type": "code",
   "execution_count": 58,
   "id": "1d46163a-2daf-4f1d-a852-c4bbe0a23889",
   "metadata": {},
   "outputs": [],
   "source": [
    "def evaluate(embeddings, word1, word2):\n",
    "    \"\"\"\n",
    "    Evaluates the cosine similarity and euclidean distance\n",
    "    for the pair word1, word2.\n",
    "    \"\"\"\n",
    "    e1 = embeddings[word1]\n",
    "    e2 = embeddings[word2]\n",
    "    \n",
    "    #calculate cosine similarity\n",
    "    c_sim = np.dot(e1, e2)\n",
    "    \n",
    "    e_sum, e2_sum = 0, 0\n",
    "    for e in e1: e_sum += e**2\n",
    "    for e in e2: e2_sum += e**2\n",
    "    \n",
    "    t_sum = math.sqrt(e_sum) * math.sqrt(e2_sum)\n",
    "    c_sim /= t_sum\n",
    "        \n",
    "     \n",
    "    #calculate euclidean distance\n",
    "    e_d = 0\n",
    "    for idx, (d1, d2) in enumerate(zip(e1, e2)):\n",
    "        e_d += (d2 - d1)**2\n",
    "    e_d = math.sqrt(e_d)\n",
    "    \n",
    "    print(f\"Cosine Similarity: {c_sim}, Euclidean Distance: {e_d}\")\n",
    "    \n",
    "    return c_sim, e_d"
   ]
  },
  {
   "cell_type": "code",
   "execution_count": 59,
   "id": "a0bc9eeb-1d86-4c33-b2c7-35328175505e",
   "metadata": {},
   "outputs": [
    {
     "name": "stdout",
     "output_type": "stream",
     "text": [
      "Cosine Similarity: 0.40571518545469115, Euclidean Distance: 6.7061982600888035\n"
     ]
    },
    {
     "data": {
      "text/plain": [
       "(0.40571518545469115, 6.7061982600888035)"
      ]
     },
     "execution_count": 59,
     "metadata": {},
     "output_type": "execute_result"
    }
   ],
   "source": [
    "evaluate(embeddings, \"tree\", \"rock\")"
   ]
  }
 ],
 "metadata": {
  "kernelspec": {
   "display_name": "default:Python",
   "language": "python",
   "name": "conda-env-default-py"
  },
  "language_info": {
   "codemirror_mode": {
    "name": "ipython",
    "version": 3
   },
   "file_extension": ".py",
   "mimetype": "text/x-python",
   "name": "python",
   "nbconvert_exporter": "python",
   "pygments_lexer": "ipython3",
   "version": "3.9.10"
  }
 },
 "nbformat": 4,
 "nbformat_minor": 5
}
